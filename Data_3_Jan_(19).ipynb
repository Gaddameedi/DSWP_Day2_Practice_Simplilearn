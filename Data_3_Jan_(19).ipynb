{
  "cells": [
    {
      "cell_type": "markdown",
      "metadata": {
        "id": "view-in-github",
        "colab_type": "text"
      },
      "source": [
        "<a href=\"https://colab.research.google.com/github/Gaddameedi/DSWP_Day2_Practice_Simplilearn/blob/main/Data_3_Jan_(19).ipynb\" target=\"_parent\"><img src=\"https://colab.research.google.com/assets/colab-badge.svg\" alt=\"Open In Colab\"/></a>"
      ]
    },
    {
      "cell_type": "markdown",
      "metadata": {
        "id": "kN2jsV1fE701"
      },
      "source": [
        "Data Science - Data + Science.\n",
        "Machine learning - Training the machines to take intelligent decision as we are taking. \n",
        "\n",
        "\n",
        "Data\n",
        "- Structured \n",
        "- Unstructured\n",
        "- Semi Structured Data\n",
        "\n",
        "Science\n",
        "- Stats - Descriptive stats, Infrential Stats\n",
        "- Matehmatical models\n",
        "- Visualization"
      ]
    },
    {
      "cell_type": "markdown",
      "metadata": {
        "id": "eTaTyxDTE707"
      },
      "source": [
        "Data science use cases\n",
        "1. For any Buisness problem\n",
        "2. Classification of mail\n",
        "3. Fraud Detection\n",
        "4. Recommendation Enginer\n",
        "5. Auto complete sentence\n",
        "6. Predictive Analysis\n",
        "7. Stock price prediction\n",
        "8. House price prediction\n",
        "9. Weather Prediction"
      ]
    },
    {
      "cell_type": "code",
      "execution_count": null,
      "metadata": {
        "id": "MUldeqB2E708"
      },
      "outputs": [],
      "source": [
        "Data scientist Lifecycle\n",
        "\n",
        "1. Collecting Data\n",
        "2. Understanding buisness problem\n",
        "3. Data cleaning  (Duplicate data, Wrong Entry, null values, Outliers)\n",
        "4. Data Exploration (EDA) Explorartory Data Analysis\n",
        "5. Data Visualization (Bar graph, Histogram, Scatter plot, Line graph, Heatmap)\n",
        "6. Data Manipulation\n",
        "7. Scaling, PCA  (Scaling - Min max scaling, StandardScaler)(Principal component analysis)\n",
        "8. Splitting the data (Training data, Testing data)\n",
        "9. Training the model\n",
        "10. Getting prediction from model\n",
        "\n",
        "\n"
      ]
    },
    {
      "cell_type": "code",
      "execution_count": null,
      "metadata": {
        "id": "CCaehxtTE70-"
      },
      "outputs": [],
      "source": [
        "Python\n",
        "1.Easy to learn\n",
        "2. Large no. of libraries\n",
        "3. open source\n",
        "4. large coummunity\n"
      ]
    },
    {
      "cell_type": "code",
      "execution_count": null,
      "metadata": {
        "id": "T5xVaD-FE71A"
      },
      "outputs": [],
      "source": [
        "Library - It is a bundle of function that can call for your use \n",
        "by provided some keywords that are specified to these functions. "
      ]
    },
    {
      "cell_type": "markdown",
      "metadata": {
        "id": "hpx7MAXCE71A"
      },
      "source": [
        "1. Numpy - Numerical Python\n",
        "2. Pandas - Reading writing files, Manipualtion\n",
        "3. Matplotlib - Data visualization\n",
        "4. Seaborn -Data visualization\n",
        "5. Scikit-learn - Machine learning\n",
        "\n"
      ]
    },
    {
      "cell_type": "code",
      "execution_count": null,
      "metadata": {
        "id": "6F3-4wAcE71B",
        "outputId": "eef0cb7c-9dbb-4789-94d1-be2c6ec9e529"
      },
      "outputs": [
        {
          "data": {
            "text/plain": [
              "5"
            ]
          },
          "execution_count": 2,
          "metadata": {},
          "output_type": "execute_result"
        }
      ],
      "source": [
        "#Python\n",
        "#Adding two numbers\n",
        "3+2"
      ]
    },
    {
      "cell_type": "code",
      "execution_count": null,
      "metadata": {
        "id": "5Phh-MPuE71C",
        "outputId": "00d80577-8c01-49ce-939b-e156e9437b06"
      },
      "outputs": [
        {
          "data": {
            "text/plain": [
              "2025"
            ]
          },
          "execution_count": 3,
          "metadata": {},
          "output_type": "execute_result"
        }
      ],
      "source": [
        "#Adding  numbers\n",
        "45*45"
      ]
    },
    {
      "cell_type": "code",
      "execution_count": null,
      "metadata": {
        "id": "LIe1ZpGXE71D",
        "outputId": "caf574a0-4397-42e8-dea3-d2e8dcc623e5"
      },
      "outputs": [
        {
          "data": {
            "text/plain": [
              "3322"
            ]
          },
          "execution_count": 4,
          "metadata": {},
          "output_type": "execute_result"
        }
      ],
      "source": [
        "3456-134"
      ]
    },
    {
      "cell_type": "code",
      "execution_count": null,
      "metadata": {
        "id": "kOd4LqgdE71E",
        "outputId": "90f7939b-ccde-473e-f80f-b608c8352294"
      },
      "outputs": [
        {
          "data": {
            "text/plain": [
              "1152.0"
            ]
          },
          "execution_count": 5,
          "metadata": {},
          "output_type": "execute_result"
        }
      ],
      "source": [
        "3456/3"
      ]
    },
    {
      "cell_type": "code",
      "execution_count": null,
      "metadata": {
        "id": "rri1bPbEE71F",
        "outputId": "efb5198a-9343-4875-845e-c3b22ce53274"
      },
      "outputs": [
        {
          "data": {
            "text/plain": [
              "19"
            ]
          },
          "execution_count": 6,
          "metadata": {},
          "output_type": "execute_result"
        }
      ],
      "source": [
        "2245%21"
      ]
    },
    {
      "cell_type": "code",
      "execution_count": null,
      "metadata": {
        "id": "JKJ0SBcYE71F",
        "outputId": "9e4814f0-e08b-4c7b-9d34-b2f4f3dc93a7"
      },
      "outputs": [
        {
          "data": {
            "text/plain": [
              "193.5"
            ]
          },
          "execution_count": 5,
          "metadata": {},
          "output_type": "execute_result"
        }
      ],
      "source": [
        "193 #Integer\n",
        "'abc' #String\n",
        "True, False #boolean\n",
        "193.5 #float\n"
      ]
    },
    {
      "cell_type": "code",
      "execution_count": null,
      "metadata": {
        "id": "ptxVkzClE71G"
      },
      "outputs": [],
      "source": [
        "a = 5"
      ]
    },
    {
      "cell_type": "code",
      "execution_count": null,
      "metadata": {
        "id": "cX9Z4WySE71G",
        "outputId": "f2f866a0-3d70-4c1e-c6f6-09bc8693a447"
      },
      "outputs": [
        {
          "data": {
            "text/plain": [
              "int"
            ]
          },
          "execution_count": 4,
          "metadata": {},
          "output_type": "execute_result"
        }
      ],
      "source": [
        "type(a)"
      ]
    },
    {
      "cell_type": "code",
      "execution_count": null,
      "metadata": {
        "id": "-FiURVc8E71H"
      },
      "outputs": [],
      "source": [
        "b =193.5"
      ]
    },
    {
      "cell_type": "code",
      "execution_count": null,
      "metadata": {
        "id": "oPdCey8FE71H",
        "outputId": "5177b5ef-bc23-41b6-e775-cfbf39a2edca"
      },
      "outputs": [
        {
          "data": {
            "text/plain": [
              "float"
            ]
          },
          "execution_count": 7,
          "metadata": {},
          "output_type": "execute_result"
        }
      ],
      "source": [
        "type(b)"
      ]
    },
    {
      "cell_type": "code",
      "execution_count": null,
      "metadata": {
        "id": "Yb9ezXxqE71H"
      },
      "outputs": [],
      "source": [
        "c = True"
      ]
    },
    {
      "cell_type": "code",
      "execution_count": null,
      "metadata": {
        "id": "Pu4rAAklE71I",
        "outputId": "69d37de8-677e-4585-a425-90ceb6c9e500"
      },
      "outputs": [
        {
          "data": {
            "text/plain": [
              "bool"
            ]
          },
          "execution_count": 9,
          "metadata": {},
          "output_type": "execute_result"
        }
      ],
      "source": [
        "type(c)"
      ]
    },
    {
      "cell_type": "code",
      "execution_count": null,
      "metadata": {
        "id": "BpMvIQqQE71J"
      },
      "outputs": [],
      "source": [
        "d = 'abc'"
      ]
    },
    {
      "cell_type": "code",
      "execution_count": null,
      "metadata": {
        "id": "DP6rj_TbE71J",
        "outputId": "ebaa1acf-aa50-4c75-e5fc-2b87186457a3"
      },
      "outputs": [
        {
          "data": {
            "text/plain": [
              "str"
            ]
          },
          "execution_count": 11,
          "metadata": {},
          "output_type": "execute_result"
        }
      ],
      "source": [
        "type(d)"
      ]
    },
    {
      "cell_type": "code",
      "execution_count": null,
      "metadata": {
        "id": "C-1_29njE71K"
      },
      "outputs": [],
      "source": [
        "a = 45\n",
        "b =35"
      ]
    },
    {
      "cell_type": "code",
      "execution_count": null,
      "metadata": {
        "id": "2xcOARdGE71L",
        "outputId": "ad8f8469-23b0-4038-c836-5b1800b1be22"
      },
      "outputs": [
        {
          "data": {
            "text/plain": [
              "False"
            ]
          },
          "execution_count": 14,
          "metadata": {},
          "output_type": "execute_result"
        }
      ],
      "source": [
        "a<=b"
      ]
    },
    {
      "cell_type": "code",
      "execution_count": null,
      "metadata": {
        "id": "RMT28AEIE71L",
        "outputId": "c0f2f2bb-c66a-48a4-938e-9dd89b6234fd"
      },
      "outputs": [
        {
          "data": {
            "text/plain": [
              "True"
            ]
          },
          "execution_count": 15,
          "metadata": {},
          "output_type": "execute_result"
        }
      ],
      "source": [
        "a>=b"
      ]
    },
    {
      "cell_type": "code",
      "execution_count": null,
      "metadata": {
        "id": "htQoIDPrE71M",
        "outputId": "346ff1f4-5a80-47ab-eff0-9a0fec699479"
      },
      "outputs": [
        {
          "data": {
            "text/plain": [
              "False"
            ]
          },
          "execution_count": 16,
          "metadata": {},
          "output_type": "execute_result"
        }
      ],
      "source": [
        "a==b"
      ]
    },
    {
      "cell_type": "code",
      "execution_count": null,
      "metadata": {
        "id": "g8BWydOAE71M",
        "outputId": "91a8da30-849b-4898-ca03-7be3a6fdb3b3"
      },
      "outputs": [
        {
          "data": {
            "text/plain": [
              "True"
            ]
          },
          "execution_count": 17,
          "metadata": {},
          "output_type": "execute_result"
        }
      ],
      "source": [
        "a!=b"
      ]
    },
    {
      "cell_type": "code",
      "execution_count": null,
      "metadata": {
        "id": "6-EQKZoBE71M",
        "outputId": "575ac4a9-6074-4e80-f3ce-3f43e8016658"
      },
      "outputs": [
        {
          "data": {
            "text/plain": [
              "False"
            ]
          },
          "execution_count": 20,
          "metadata": {},
          "output_type": "execute_result"
        }
      ],
      "source": [
        "a =23\n",
        "b =12\n",
        "#a = b\n",
        "a==b"
      ]
    },
    {
      "cell_type": "markdown",
      "metadata": {
        "id": "qNZoQlSQE71M"
      },
      "source": [
        "Data Structures in Python\n",
        "1. List\n",
        "2. Tuple\n",
        "3. Dict\n"
      ]
    },
    {
      "cell_type": "code",
      "execution_count": null,
      "metadata": {
        "id": "SfiTkpoHE71N"
      },
      "outputs": [],
      "source": [
        "#creating a list with 4 different data types\n",
        "a = [123,23, True, 12.7,123, 'strings',(1,4,5)]"
      ]
    },
    {
      "cell_type": "code",
      "execution_count": null,
      "metadata": {
        "id": "VHhogoJbE71N",
        "outputId": "60cfa29c-613b-40f4-d8d5-afed27c84bc0"
      },
      "outputs": [
        {
          "data": {
            "text/plain": [
              "list"
            ]
          },
          "execution_count": 28,
          "metadata": {},
          "output_type": "execute_result"
        }
      ],
      "source": [
        "#Checking type of a variable\n",
        "type(a)"
      ]
    },
    {
      "cell_type": "code",
      "execution_count": null,
      "metadata": {
        "id": "uD7eMnAsE71N",
        "outputId": "c6bb9650-0dcc-4739-9bfd-8e7489b06295"
      },
      "outputs": [
        {
          "data": {
            "text/plain": [
              "[23, True, [5, 6], 5, 12.7, 123, 'strings']"
            ]
          },
          "execution_count": 75,
          "metadata": {},
          "output_type": "execute_result"
        }
      ],
      "source": [
        "a"
      ]
    },
    {
      "cell_type": "code",
      "execution_count": null,
      "metadata": {
        "id": "mIAPOd3mE71O",
        "outputId": "0db1dcdc-d131-4b73-fb2b-cb576816f553"
      },
      "outputs": [
        {
          "data": {
            "text/plain": [
              "23"
            ]
          },
          "execution_count": 56,
          "metadata": {},
          "output_type": "execute_result"
        }
      ],
      "source": [
        "#accessing the element from a list\n",
        "a[1]"
      ]
    },
    {
      "cell_type": "code",
      "execution_count": null,
      "metadata": {
        "id": "7npl-NREE71O",
        "outputId": "8ef8b5e3-7148-4c70-8784-914a9858aae6"
      },
      "outputs": [
        {
          "data": {
            "text/plain": [
              "9"
            ]
          },
          "execution_count": 47,
          "metadata": {},
          "output_type": "execute_result"
        }
      ],
      "source": [
        "# to check total no. of elements in the list\n",
        "len(a)"
      ]
    },
    {
      "cell_type": "code",
      "execution_count": null,
      "metadata": {
        "id": "iXP8LREuE71O",
        "outputId": "4b3c54a2-0499-4597-f2df-489baa6684c5"
      },
      "outputs": [
        {
          "data": {
            "text/plain": [
              "[True, 12.7, 123, 'strings', (1, 4, 5)]"
            ]
          },
          "execution_count": 39,
          "metadata": {},
          "output_type": "execute_result"
        }
      ],
      "source": [
        "b"
      ]
    },
    {
      "cell_type": "code",
      "execution_count": null,
      "metadata": {
        "id": "Rk3vb54yE71O"
      },
      "outputs": [],
      "source": [
        "#adding an element in the list at last index\n",
        "a.append(433)"
      ]
    },
    {
      "cell_type": "code",
      "execution_count": null,
      "metadata": {
        "id": "HhklzN6dE71P"
      },
      "outputs": [],
      "source": [
        "#inserting an element in list at desired position\n",
        "a.insert(3,'yjf')"
      ]
    },
    {
      "cell_type": "code",
      "execution_count": null,
      "metadata": {
        "id": "lk4J3za4E71P",
        "outputId": "17916c03-2552-4ae1-d2ed-053cd861be01"
      },
      "outputs": [
        {
          "data": {
            "text/plain": [
              "11"
            ]
          },
          "execution_count": 63,
          "metadata": {},
          "output_type": "execute_result"
        }
      ],
      "source": [
        "# Finding the index of a specific element\n",
        "a.index(433)"
      ]
    },
    {
      "cell_type": "code",
      "execution_count": null,
      "metadata": {
        "id": "tU-LORygE71P"
      },
      "outputs": [],
      "source": [
        "#Remove element from list\n",
        "a.remove(a[0])"
      ]
    },
    {
      "cell_type": "code",
      "execution_count": null,
      "metadata": {
        "id": "S0IRhiQrE71Q"
      },
      "outputs": [],
      "source": [
        "#creating tuples\n",
        "b = (123, False, 13.7, 'string1',(5,7))"
      ]
    },
    {
      "cell_type": "code",
      "execution_count": null,
      "metadata": {
        "id": "b2oJaLUTE71Q",
        "outputId": "b2a6a1db-6e14-4322-9c37-46e06f5004f3"
      },
      "outputs": [
        {
          "data": {
            "text/plain": [
              "tuple"
            ]
          },
          "execution_count": 24,
          "metadata": {},
          "output_type": "execute_result"
        }
      ],
      "source": [
        "type(b)"
      ]
    },
    {
      "cell_type": "code",
      "execution_count": null,
      "metadata": {
        "id": "LWMjtMk7E71Q"
      },
      "outputs": [],
      "source": []
    },
    {
      "cell_type": "code",
      "execution_count": null,
      "metadata": {
        "id": "0NZzbPqTE71Q",
        "outputId": "93703969-fb00-4668-a40e-f88182f55ae4"
      },
      "outputs": [
        {
          "data": {
            "text/plain": [
              "(123, False, 13.7, 'string1', (5, 7))"
            ]
          },
          "execution_count": 77,
          "metadata": {},
          "output_type": "execute_result"
        }
      ],
      "source": [
        "b"
      ]
    },
    {
      "cell_type": "code",
      "execution_count": null,
      "metadata": {
        "id": "JzTGqATAE71R"
      },
      "outputs": [],
      "source": [
        "#created the Dictionary\n",
        "dict = {True:'one',2:'two', 'str':'three'}"
      ]
    },
    {
      "cell_type": "code",
      "execution_count": null,
      "metadata": {
        "id": "roUxeB6fE71R",
        "outputId": "9d5e38c9-73c9-4e0a-aceb-e0f3eba6c1d0"
      },
      "outputs": [
        {
          "data": {
            "text/plain": [
              "dict"
            ]
          },
          "execution_count": 2,
          "metadata": {},
          "output_type": "execute_result"
        }
      ],
      "source": [
        "type(dict)"
      ]
    },
    {
      "cell_type": "code",
      "execution_count": null,
      "metadata": {
        "id": "H0c-TSIXE71R",
        "outputId": "6b7c3c74-147a-4932-9d71-d037045f1dae"
      },
      "outputs": [
        {
          "data": {
            "text/plain": [
              "{True: 'one', 2: 'two', 'str': 'three'}"
            ]
          },
          "execution_count": 12,
          "metadata": {},
          "output_type": "execute_result"
        }
      ],
      "source": [
        "dict"
      ]
    },
    {
      "cell_type": "code",
      "execution_count": null,
      "metadata": {
        "id": "xTJiprEFE71S",
        "outputId": "3bc630f2-8a71-44ff-f5b2-d4d63d5f0ec7"
      },
      "outputs": [
        {
          "data": {
            "text/plain": [
              "dict_keys([True, 2, 'str'])"
            ]
          },
          "execution_count": 4,
          "metadata": {},
          "output_type": "execute_result"
        }
      ],
      "source": [
        "#Printing all the keys present in dict\n",
        "dict.keys()"
      ]
    },
    {
      "cell_type": "code",
      "execution_count": null,
      "metadata": {
        "id": "pe0OlJ9tE71T",
        "outputId": "c80078b4-63f5-44ce-eb47-d3a0fa3cdcc0"
      },
      "outputs": [
        {
          "data": {
            "text/plain": [
              "dict_items([(True, 'one'), (2, 'two'), ('str', 'three')])"
            ]
          },
          "execution_count": 102,
          "metadata": {},
          "output_type": "execute_result"
        }
      ],
      "source": [
        "#Printing all the key values present in dict in the form of tuples\n",
        "dict.items()"
      ]
    },
    {
      "cell_type": "code",
      "execution_count": null,
      "metadata": {
        "id": "PSFtn2u7E71T",
        "outputId": "ad29d69e-c411-474f-822b-fe5e5e421cc4"
      },
      "outputs": [
        {
          "data": {
            "text/plain": [
              "dict_values(['one', 'two', 'three'])"
            ]
          },
          "execution_count": 7,
          "metadata": {},
          "output_type": "execute_result"
        }
      ],
      "source": [
        "#printing all the values of all keys in dict\n",
        "dict.values()"
      ]
    },
    {
      "cell_type": "code",
      "execution_count": null,
      "metadata": {
        "id": "HO1V0_z6E71U",
        "outputId": "835c6b30-d9b2-451e-f0d9-d71f6ed3b887"
      },
      "outputs": [
        {
          "data": {
            "text/plain": [
              "'two'"
            ]
          },
          "execution_count": 6,
          "metadata": {},
          "output_type": "execute_result"
        }
      ],
      "source": [
        "#accessing the value of list by giving key name \n",
        "dict.get(2)"
      ]
    },
    {
      "cell_type": "code",
      "execution_count": null,
      "metadata": {
        "id": "txVjNAz-E71U"
      },
      "outputs": [],
      "source": [
        "#Adding key value into dict.\n",
        "dict[4] = 'Four'"
      ]
    },
    {
      "cell_type": "code",
      "execution_count": null,
      "metadata": {
        "id": "67DMTHwvE71V",
        "outputId": "1f8298b0-23d6-4fce-948a-4411b7257bb0"
      },
      "outputs": [
        {
          "data": {
            "text/plain": [
              "'Four'"
            ]
          },
          "execution_count": 101,
          "metadata": {},
          "output_type": "execute_result"
        }
      ],
      "source": [
        "# removing elements from Dict\n",
        "dict.pop(4)"
      ]
    },
    {
      "cell_type": "code",
      "execution_count": null,
      "metadata": {
        "id": "DxTg6fzkE71W",
        "outputId": "c0e68340-4245-4aae-b002-e39d2ff46965"
      },
      "outputs": [
        {
          "data": {
            "text/plain": [
              "(4, 'Four')"
            ]
          },
          "execution_count": 11,
          "metadata": {},
          "output_type": "execute_result"
        }
      ],
      "source": [
        "#removing the key value pair from dict\n",
        "dict.popitem()"
      ]
    },
    {
      "cell_type": "code",
      "execution_count": null,
      "metadata": {
        "id": "Q2Aaq2y9E71W"
      },
      "outputs": [],
      "source": [
        "#syntax to import complete library\n",
        "import numpy as np"
      ]
    },
    {
      "cell_type": "code",
      "execution_count": null,
      "metadata": {
        "id": "1toWgqIPE71X",
        "outputId": "ba195b5f-c47d-4458-ec77-a9647f1f479f"
      },
      "outputs": [
        {
          "data": {
            "text/plain": [
              "11.180339887498949"
            ]
          },
          "execution_count": 15,
          "metadata": {},
          "output_type": "execute_result"
        }
      ],
      "source": [
        "np.sqrt(125)"
      ]
    },
    {
      "cell_type": "markdown",
      "metadata": {
        "id": "ZO8cOVKEE71X"
      },
      "source": [
        "Numpy - Numerical python \n",
        "\n",
        "Array - 1 Darray\n",
        "      - 2 Darray\n",
        "      - Multi Darray\n",
        "      \n",
        "why we use array\n",
        "It can mathematical operations\n",
        "Arrays are fast as compared to list\n",
        "It has multidimension.\n",
        "Mutable in nature\n",
        "More functionality as compared to lists"
      ]
    },
    {
      "cell_type": "code",
      "execution_count": null,
      "metadata": {
        "id": "B9CGD_eoE71X"
      },
      "outputs": [],
      "source": [
        "#Creating Array\n",
        "abb = np.array([1,True, 34.5, 'fdg'])"
      ]
    },
    {
      "cell_type": "code",
      "execution_count": null,
      "metadata": {
        "id": "IHW7kYyPE71X",
        "outputId": "71751bed-f926-4c64-e1c9-fec740ac1098"
      },
      "outputs": [
        {
          "data": {
            "text/plain": [
              "numpy.ndarray"
            ]
          },
          "execution_count": 17,
          "metadata": {},
          "output_type": "execute_result"
        }
      ],
      "source": [
        "type(abb)"
      ]
    },
    {
      "cell_type": "code",
      "execution_count": null,
      "metadata": {
        "id": "H5M52v-dE71Y"
      },
      "outputs": [],
      "source": [
        "#creating a zero array\n",
        "zero= np.zeros(4)"
      ]
    },
    {
      "cell_type": "code",
      "execution_count": null,
      "metadata": {
        "id": "-kULSMrHE71Y"
      },
      "outputs": [],
      "source": [
        "#creating all ones array\n",
        "ones = np.ones(5)"
      ]
    },
    {
      "cell_type": "code",
      "execution_count": null,
      "metadata": {
        "id": "YITVBDZAE71Y",
        "outputId": "67264bad-c8f8-4cf2-bd30-bd04ef8615ac"
      },
      "outputs": [
        {
          "data": {
            "text/plain": [
              "array([ 0,  1,  2,  3,  4,  5,  6,  7,  8,  9, 10, 11, 12, 13, 14, 15, 16,\n",
              "       17, 18, 19, 20, 21, 22, 23, 24, 25, 26, 27, 28, 29, 30, 31, 32, 33,\n",
              "       34, 35, 36, 37, 38, 39, 40, 41, 42, 43, 44, 45, 46, 47, 48, 49, 50,\n",
              "       51, 52, 53, 54, 55, 56, 57, 58, 59, 60, 61, 62, 63, 64, 65, 66, 67,\n",
              "       68, 69, 70, 71, 72, 73, 74, 75, 76, 77, 78, 79, 80, 81, 82, 83, 84,\n",
              "       85, 86, 87, 88, 89, 90, 91, 92, 93, 94, 95, 96, 97, 98, 99])"
            ]
          },
          "execution_count": 10,
          "metadata": {},
          "output_type": "execute_result"
        }
      ],
      "source": [
        "#creating array by giving no. of elements\n",
        "np.arange(100)"
      ]
    },
    {
      "cell_type": "code",
      "execution_count": null,
      "metadata": {
        "id": "YH-0z9brE71Y"
      },
      "outputs": [],
      "source": [
        "#creating 1 d array by providing start\n",
        "\n",
        "rew= np.linspace(1,50,10)"
      ]
    },
    {
      "cell_type": "code",
      "execution_count": null,
      "metadata": {
        "id": "aBIKstoTE71Z",
        "outputId": "25d0f08e-71e9-4d62-c77a-2afe98f00374"
      },
      "outputs": [
        {
          "data": {
            "text/plain": [
              "10"
            ]
          },
          "execution_count": 19,
          "metadata": {},
          "output_type": "execute_result"
        }
      ],
      "source": [
        "len(rew)"
      ]
    },
    {
      "cell_type": "code",
      "execution_count": null,
      "metadata": {
        "id": "FbQjWzmHE71Z",
        "outputId": "ef31e48a-2e4e-4d40-a0c2-ce67d644d395"
      },
      "outputs": [
        {
          "data": {
            "text/plain": [
              "1"
            ]
          },
          "execution_count": 22,
          "metadata": {},
          "output_type": "execute_result"
        }
      ],
      "source": [
        "rew.ndim"
      ]
    },
    {
      "cell_type": "code",
      "execution_count": null,
      "metadata": {
        "id": "sdLSNW3cE71Z"
      },
      "outputs": [],
      "source": [
        "abc = np.array([4,5,7,9])\n",
        "dsc = np.array([5,9,8,2])"
      ]
    },
    {
      "cell_type": "code",
      "execution_count": null,
      "metadata": {
        "id": "rQ2ZW9APE71Z",
        "outputId": "358e3630-6a68-4c11-c7ae-06989202a4ab"
      },
      "outputs": [
        {
          "data": {
            "text/plain": [
              "array([ 9, 14, 15, 11])"
            ]
          },
          "execution_count": 30,
          "metadata": {},
          "output_type": "execute_result"
        }
      ],
      "source": [
        "abc+dsc"
      ]
    },
    {
      "cell_type": "code",
      "execution_count": null,
      "metadata": {
        "id": "1uVcIRs2E71a",
        "outputId": "cd6539fa-5cd7-4a4f-9cc1-fd01a2ad8b53"
      },
      "outputs": [
        {
          "data": {
            "text/plain": [
              "array([1., 1., 1., 1., 1.])"
            ]
          },
          "execution_count": 6,
          "metadata": {},
          "output_type": "execute_result"
        }
      ],
      "source": [
        "ones"
      ]
    },
    {
      "cell_type": "code",
      "execution_count": null,
      "metadata": {
        "id": "yTQZW0_KE71a",
        "outputId": "27eea8af-370f-4eeb-8ee1-2add8cbb1dd4"
      },
      "outputs": [
        {
          "data": {
            "text/plain": [
              "array([0., 0., 0., 0.])"
            ]
          },
          "execution_count": 3,
          "metadata": {},
          "output_type": "execute_result"
        }
      ],
      "source": [
        "zero"
      ]
    },
    {
      "cell_type": "code",
      "execution_count": null,
      "metadata": {
        "id": "IA4MlReGE71a"
      },
      "outputs": [],
      "source": [
        "#creating a 2d array\n",
        "inn = np.array([[3,5,6,7],[6,7,9,0]])"
      ]
    },
    {
      "cell_type": "code",
      "execution_count": null,
      "metadata": {
        "id": "Zb2mZnP4E71a",
        "outputId": "5fb9e89a-c5e4-4572-f785-abc43673f9b1"
      },
      "outputs": [
        {
          "data": {
            "text/plain": [
              "numpy.ndarray"
            ]
          },
          "execution_count": 32,
          "metadata": {},
          "output_type": "execute_result"
        }
      ],
      "source": [
        "type(inn)"
      ]
    },
    {
      "cell_type": "code",
      "execution_count": null,
      "metadata": {
        "id": "0fWAwBkXE71b",
        "outputId": "71c1584f-c986-44f0-bec8-73d41eabe1c5"
      },
      "outputs": [
        {
          "data": {
            "text/plain": [
              "2"
            ]
          },
          "execution_count": 33,
          "metadata": {},
          "output_type": "execute_result"
        }
      ],
      "source": [
        "len(inn)"
      ]
    },
    {
      "cell_type": "code",
      "execution_count": null,
      "metadata": {
        "id": "BSQw6jRQE71b",
        "outputId": "0c578284-1d39-481f-b970-0c1ea3b6b70b"
      },
      "outputs": [
        {
          "data": {
            "text/plain": [
              "2"
            ]
          },
          "execution_count": 34,
          "metadata": {},
          "output_type": "execute_result"
        }
      ],
      "source": [
        "inn.ndim"
      ]
    },
    {
      "cell_type": "code",
      "execution_count": null,
      "metadata": {
        "id": "PjfEeHn1E71b",
        "outputId": "80a0d5d1-d1e2-44ac-ae91-57a3c0fe7f86"
      },
      "outputs": [
        {
          "data": {
            "text/plain": [
              "(6, 2)"
            ]
          },
          "execution_count": 55,
          "metadata": {},
          "output_type": "execute_result"
        }
      ],
      "source": [
        "ret.shape"
      ]
    },
    {
      "cell_type": "code",
      "execution_count": null,
      "metadata": {
        "id": "JRWs_EaNE71b"
      },
      "outputs": [],
      "source": [
        "ret = np.array([4,6,8,9,7,5,4,0,6,2,34,65])"
      ]
    },
    {
      "cell_type": "code",
      "execution_count": null,
      "metadata": {
        "id": "HxsSKwZCE71c",
        "outputId": "55a44f26-5e09-4198-87b8-525eb1a3feb4"
      },
      "outputs": [
        {
          "data": {
            "text/plain": [
              "array([[ 4,  6,  8],\n",
              "       [ 9,  7,  5],\n",
              "       [ 4,  0,  6],\n",
              "       [ 2, 34, 65]])"
            ]
          },
          "execution_count": 52,
          "metadata": {},
          "output_type": "execute_result"
        }
      ],
      "source": [
        "#Converting 1d array to 2 d array\n",
        "ret = ret.reshape(4,3)"
      ]
    },
    {
      "cell_type": "code",
      "execution_count": null,
      "metadata": {
        "id": "MENwqxDgE71c"
      },
      "outputs": [],
      "source": [
        "#Converting 1d array to 2 d array\n",
        "ret.resize(3,4)"
      ]
    },
    {
      "cell_type": "code",
      "execution_count": null,
      "metadata": {
        "id": "-ZfrW2JpE71d",
        "outputId": "9d5c0d37-8f85-4614-ca74-7f40a319bd1a"
      },
      "outputs": [
        {
          "data": {
            "text/plain": [
              "array([[ 4,  6,  8,  9],\n",
              "       [ 7,  5,  4,  0],\n",
              "       [ 6,  2, 34, 65]])"
            ]
          },
          "execution_count": 6,
          "metadata": {},
          "output_type": "execute_result"
        }
      ],
      "source": [
        "ret"
      ]
    },
    {
      "cell_type": "code",
      "execution_count": null,
      "metadata": {
        "id": "KCs0xVp5E71d"
      },
      "outputs": [],
      "source": []
    },
    {
      "cell_type": "code",
      "execution_count": null,
      "metadata": {
        "id": "hRGgY0MKE71d"
      },
      "outputs": [],
      "source": [
        "#splitting array to given parts\n",
        "array1, array2,array3,array4 = np.hsplit(ret, 4)"
      ]
    },
    {
      "cell_type": "code",
      "execution_count": null,
      "metadata": {
        "id": "mIKwkziWE71e",
        "outputId": "e15ab637-931b-4002-ceca-35225f227b45"
      },
      "outputs": [
        {
          "data": {
            "text/plain": [
              "array([[ 9],\n",
              "       [ 0],\n",
              "       [65]])"
            ]
          },
          "execution_count": 11,
          "metadata": {},
          "output_type": "execute_result"
        }
      ],
      "source": [
        "array4"
      ]
    },
    {
      "cell_type": "code",
      "execution_count": null,
      "metadata": {
        "id": "n6vDKRnQE71e"
      },
      "outputs": [],
      "source": [
        "#creating 3d array\n",
        "wer = np.array([[[3,5,7],[5,8,7]],[[5,7,8],[6,9,0]]])"
      ]
    },
    {
      "cell_type": "code",
      "execution_count": null,
      "metadata": {
        "id": "MGVUJjkJE71e",
        "outputId": "5d43abcd-a5b6-4c5c-ba31-1c9baf837286"
      },
      "outputs": [
        {
          "data": {
            "text/plain": [
              "(2, 2, 3)"
            ]
          },
          "execution_count": 13,
          "metadata": {},
          "output_type": "execute_result"
        }
      ],
      "source": [
        "wer.shape"
      ]
    },
    {
      "cell_type": "code",
      "execution_count": null,
      "metadata": {
        "id": "TOKPjhKqE71e",
        "outputId": "dd25a8f6-8df9-4c97-eb3e-5ce3437958d3"
      },
      "outputs": [
        {
          "data": {
            "text/plain": [
              "array([[[3, 5, 7],\n",
              "        [5, 8, 7]],\n",
              "\n",
              "       [[5, 7, 8],\n",
              "        [6, 9, 0]]])"
            ]
          },
          "execution_count": 14,
          "metadata": {},
          "output_type": "execute_result"
        }
      ],
      "source": [
        "wer"
      ]
    },
    {
      "cell_type": "code",
      "execution_count": null,
      "metadata": {
        "id": "NV-yT_hkE71f"
      },
      "outputs": [],
      "source": [
        "bed = np.array([3,5,8,7,9,6,8,5,4,3,7,9])"
      ]
    },
    {
      "cell_type": "code",
      "execution_count": null,
      "metadata": {
        "id": "IxTewJMKE71f",
        "outputId": "41e0f546-46c1-4f75-a1f8-9abd1d5826e0"
      },
      "outputs": [
        {
          "data": {
            "text/plain": [
              "12"
            ]
          },
          "execution_count": 77,
          "metadata": {},
          "output_type": "execute_result"
        }
      ],
      "source": [
        "len(bed)"
      ]
    },
    {
      "cell_type": "code",
      "execution_count": null,
      "metadata": {
        "id": "_31rvaIME71f"
      },
      "outputs": [],
      "source": [
        "bed.resize(2,3,2)"
      ]
    },
    {
      "cell_type": "code",
      "execution_count": null,
      "metadata": {
        "id": "6Z4BLc-IE71f",
        "outputId": "f7fb2740-46e5-481d-d67d-ffd8436986fb"
      },
      "outputs": [
        {
          "data": {
            "text/plain": [
              "array([[[3, 5],\n",
              "        [8, 7],\n",
              "        [9, 6]],\n",
              "\n",
              "       [[8, 5],\n",
              "        [4, 3],\n",
              "        [7, 9]]])"
            ]
          },
          "execution_count": 29,
          "metadata": {},
          "output_type": "execute_result"
        }
      ],
      "source": [
        "bed"
      ]
    },
    {
      "cell_type": "code",
      "execution_count": null,
      "metadata": {
        "id": "4i4dYClAE71g",
        "outputId": "cbd05fce-25b9-485e-b99e-fbab4ccc608e"
      },
      "outputs": [
        {
          "data": {
            "text/plain": [
              "(2, 3, 2)"
            ]
          },
          "execution_count": 82,
          "metadata": {},
          "output_type": "execute_result"
        }
      ],
      "source": [
        "bed.shape"
      ]
    },
    {
      "cell_type": "code",
      "execution_count": null,
      "metadata": {
        "id": "fe0v1pBlE71g",
        "outputId": "6b9d5a0c-4818-47ef-84b7-be788aeb23c0"
      },
      "outputs": [
        {
          "data": {
            "text/plain": [
              "array([6, 8, 5, 4])"
            ]
          },
          "execution_count": 20,
          "metadata": {},
          "output_type": "execute_result"
        }
      ],
      "source": [
        "#accessing elements of 1 d array\n",
        "bed[5:9]"
      ]
    },
    {
      "cell_type": "code",
      "execution_count": null,
      "metadata": {
        "id": "V6I8ndPfE71g",
        "outputId": "64883a83-34fd-413f-baec-39772e7cefe8"
      },
      "outputs": [
        {
          "data": {
            "text/plain": [
              "array([[3, 5],\n",
              "       [8, 7]])"
            ]
          },
          "execution_count": 33,
          "metadata": {},
          "output_type": "execute_result"
        }
      ],
      "source": [
        "#accessing 2d array \n",
        "bed[0,0:2,0:2]"
      ]
    },
    {
      "cell_type": "markdown",
      "metadata": {
        "id": "M6HYZhE8E71g"
      },
      "source": [
        "Pandas\n",
        "\n",
        "Data Structure - Series,\n",
        "Dataframe---\n",
        "it is having a lot of functionality as compared to array.\n",
        "It can a very large amount of data.\n",
        "It can read and write from mostly all of the file formats.\n",
        "\n"
      ]
    },
    {
      "cell_type": "code",
      "execution_count": null,
      "metadata": {
        "id": "Es9od05zE71h"
      },
      "outputs": [],
      "source": [
        "#importing pandas library\n",
        "import pandas as pd"
      ]
    },
    {
      "cell_type": "code",
      "execution_count": null,
      "metadata": {
        "id": "w7Ms-cy1E71h"
      },
      "outputs": [],
      "source": [
        "#Reading the dataset\n",
        "\n",
        "drive = pd.read_csv('vgsales.csv')\n"
      ]
    },
    {
      "cell_type": "code",
      "execution_count": null,
      "metadata": {
        "id": "osJjXqSGE71h",
        "outputId": "be173f07-16f6-448d-ca78-af139005df98"
      },
      "outputs": [
        {
          "data": {
            "text/plain": [
              "pandas.core.frame.DataFrame"
            ]
          },
          "execution_count": 11,
          "metadata": {},
          "output_type": "execute_result"
        }
      ],
      "source": [
        "type(drive)"
      ]
    },
    {
      "cell_type": "code",
      "execution_count": null,
      "metadata": {
        "id": "M9NR9RocE71h",
        "outputId": "fd79b974-414c-49dd-d71b-72eabd2b80dd"
      },
      "outputs": [
        {
          "data": {
            "text/html": [
              "<div>\n",
              "<style scoped>\n",
              "    .dataframe tbody tr th:only-of-type {\n",
              "        vertical-align: middle;\n",
              "    }\n",
              "\n",
              "    .dataframe tbody tr th {\n",
              "        vertical-align: top;\n",
              "    }\n",
              "\n",
              "    .dataframe thead th {\n",
              "        text-align: right;\n",
              "    }\n",
              "</style>\n",
              "<table border=\"1\" class=\"dataframe\">\n",
              "  <thead>\n",
              "    <tr style=\"text-align: right;\">\n",
              "      <th></th>\n",
              "      <th>Rank</th>\n",
              "      <th>Name</th>\n",
              "      <th>Platform</th>\n",
              "      <th>Year</th>\n",
              "      <th>Genre</th>\n",
              "      <th>Publisher</th>\n",
              "      <th>NA_Sales</th>\n",
              "      <th>EU_Sales</th>\n",
              "      <th>JP_Sales</th>\n",
              "      <th>Other_Sales</th>\n",
              "      <th>Global_Sales</th>\n",
              "    </tr>\n",
              "  </thead>\n",
              "  <tbody>\n",
              "    <tr>\n",
              "      <th>0</th>\n",
              "      <td>1</td>\n",
              "      <td>Wii Sports</td>\n",
              "      <td>Wii</td>\n",
              "      <td>2006.0</td>\n",
              "      <td>Sports</td>\n",
              "      <td>Nintendo</td>\n",
              "      <td>41.49</td>\n",
              "      <td>29.02</td>\n",
              "      <td>3.77</td>\n",
              "      <td>8.46</td>\n",
              "      <td>82.74</td>\n",
              "    </tr>\n",
              "    <tr>\n",
              "      <th>1</th>\n",
              "      <td>2</td>\n",
              "      <td>Super Mario Bros.</td>\n",
              "      <td>NES</td>\n",
              "      <td>1985.0</td>\n",
              "      <td>Platform</td>\n",
              "      <td>Nintendo</td>\n",
              "      <td>29.08</td>\n",
              "      <td>3.58</td>\n",
              "      <td>6.81</td>\n",
              "      <td>0.77</td>\n",
              "      <td>40.24</td>\n",
              "    </tr>\n",
              "    <tr>\n",
              "      <th>2</th>\n",
              "      <td>3</td>\n",
              "      <td>Mario Kart Wii</td>\n",
              "      <td>Wii</td>\n",
              "      <td>2008.0</td>\n",
              "      <td>Racing</td>\n",
              "      <td>Nintendo</td>\n",
              "      <td>15.85</td>\n",
              "      <td>12.88</td>\n",
              "      <td>3.79</td>\n",
              "      <td>3.31</td>\n",
              "      <td>35.82</td>\n",
              "    </tr>\n",
              "    <tr>\n",
              "      <th>3</th>\n",
              "      <td>4</td>\n",
              "      <td>Wii Sports Resort</td>\n",
              "      <td>Wii</td>\n",
              "      <td>2009.0</td>\n",
              "      <td>Sports</td>\n",
              "      <td>Nintendo</td>\n",
              "      <td>15.75</td>\n",
              "      <td>11.01</td>\n",
              "      <td>3.28</td>\n",
              "      <td>2.96</td>\n",
              "      <td>33.00</td>\n",
              "    </tr>\n",
              "    <tr>\n",
              "      <th>4</th>\n",
              "      <td>5</td>\n",
              "      <td>Pokemon Red/Pokemon Blue</td>\n",
              "      <td>GB</td>\n",
              "      <td>1996.0</td>\n",
              "      <td>Role-Playing</td>\n",
              "      <td>Nintendo</td>\n",
              "      <td>11.27</td>\n",
              "      <td>8.89</td>\n",
              "      <td>10.22</td>\n",
              "      <td>1.00</td>\n",
              "      <td>31.37</td>\n",
              "    </tr>\n",
              "    <tr>\n",
              "      <th>...</th>\n",
              "      <td>...</td>\n",
              "      <td>...</td>\n",
              "      <td>...</td>\n",
              "      <td>...</td>\n",
              "      <td>...</td>\n",
              "      <td>...</td>\n",
              "      <td>...</td>\n",
              "      <td>...</td>\n",
              "      <td>...</td>\n",
              "      <td>...</td>\n",
              "      <td>...</td>\n",
              "    </tr>\n",
              "    <tr>\n",
              "      <th>16593</th>\n",
              "      <td>16596</td>\n",
              "      <td>Woody Woodpecker in Crazy Castle 5</td>\n",
              "      <td>GBA</td>\n",
              "      <td>2002.0</td>\n",
              "      <td>Platform</td>\n",
              "      <td>Kemco</td>\n",
              "      <td>0.01</td>\n",
              "      <td>0.00</td>\n",
              "      <td>0.00</td>\n",
              "      <td>0.00</td>\n",
              "      <td>0.01</td>\n",
              "    </tr>\n",
              "    <tr>\n",
              "      <th>16594</th>\n",
              "      <td>16597</td>\n",
              "      <td>Men in Black II: Alien Escape</td>\n",
              "      <td>GC</td>\n",
              "      <td>2003.0</td>\n",
              "      <td>Shooter</td>\n",
              "      <td>Infogrames</td>\n",
              "      <td>0.01</td>\n",
              "      <td>0.00</td>\n",
              "      <td>0.00</td>\n",
              "      <td>0.00</td>\n",
              "      <td>0.01</td>\n",
              "    </tr>\n",
              "    <tr>\n",
              "      <th>16595</th>\n",
              "      <td>16598</td>\n",
              "      <td>SCORE International Baja 1000: The Official Game</td>\n",
              "      <td>PS2</td>\n",
              "      <td>2008.0</td>\n",
              "      <td>Racing</td>\n",
              "      <td>Activision</td>\n",
              "      <td>0.00</td>\n",
              "      <td>0.00</td>\n",
              "      <td>0.00</td>\n",
              "      <td>0.00</td>\n",
              "      <td>0.01</td>\n",
              "    </tr>\n",
              "    <tr>\n",
              "      <th>16596</th>\n",
              "      <td>16599</td>\n",
              "      <td>Know How 2</td>\n",
              "      <td>DS</td>\n",
              "      <td>2010.0</td>\n",
              "      <td>Puzzle</td>\n",
              "      <td>7G//AMES</td>\n",
              "      <td>0.00</td>\n",
              "      <td>0.01</td>\n",
              "      <td>0.00</td>\n",
              "      <td>0.00</td>\n",
              "      <td>0.01</td>\n",
              "    </tr>\n",
              "    <tr>\n",
              "      <th>16597</th>\n",
              "      <td>16600</td>\n",
              "      <td>Spirits &amp; Spells</td>\n",
              "      <td>GBA</td>\n",
              "      <td>2003.0</td>\n",
              "      <td>Platform</td>\n",
              "      <td>Wanadoo</td>\n",
              "      <td>0.01</td>\n",
              "      <td>0.00</td>\n",
              "      <td>0.00</td>\n",
              "      <td>0.00</td>\n",
              "      <td>0.01</td>\n",
              "    </tr>\n",
              "  </tbody>\n",
              "</table>\n",
              "<p>16598 rows × 11 columns</p>\n",
              "</div>"
            ],
            "text/plain": [
              "        Rank                                              Name Platform  \\\n",
              "0          1                                        Wii Sports      Wii   \n",
              "1          2                                 Super Mario Bros.      NES   \n",
              "2          3                                    Mario Kart Wii      Wii   \n",
              "3          4                                 Wii Sports Resort      Wii   \n",
              "4          5                          Pokemon Red/Pokemon Blue       GB   \n",
              "...      ...                                               ...      ...   \n",
              "16593  16596                Woody Woodpecker in Crazy Castle 5      GBA   \n",
              "16594  16597                     Men in Black II: Alien Escape       GC   \n",
              "16595  16598  SCORE International Baja 1000: The Official Game      PS2   \n",
              "16596  16599                                        Know How 2       DS   \n",
              "16597  16600                                  Spirits & Spells      GBA   \n",
              "\n",
              "         Year         Genre   Publisher  NA_Sales  EU_Sales  JP_Sales  \\\n",
              "0      2006.0        Sports    Nintendo     41.49     29.02      3.77   \n",
              "1      1985.0      Platform    Nintendo     29.08      3.58      6.81   \n",
              "2      2008.0        Racing    Nintendo     15.85     12.88      3.79   \n",
              "3      2009.0        Sports    Nintendo     15.75     11.01      3.28   \n",
              "4      1996.0  Role-Playing    Nintendo     11.27      8.89     10.22   \n",
              "...       ...           ...         ...       ...       ...       ...   \n",
              "16593  2002.0      Platform       Kemco      0.01      0.00      0.00   \n",
              "16594  2003.0       Shooter  Infogrames      0.01      0.00      0.00   \n",
              "16595  2008.0        Racing  Activision      0.00      0.00      0.00   \n",
              "16596  2010.0        Puzzle    7G//AMES      0.00      0.01      0.00   \n",
              "16597  2003.0      Platform     Wanadoo      0.01      0.00      0.00   \n",
              "\n",
              "       Other_Sales  Global_Sales  \n",
              "0             8.46         82.74  \n",
              "1             0.77         40.24  \n",
              "2             3.31         35.82  \n",
              "3             2.96         33.00  \n",
              "4             1.00         31.37  \n",
              "...            ...           ...  \n",
              "16593         0.00          0.01  \n",
              "16594         0.00          0.01  \n",
              "16595         0.00          0.01  \n",
              "16596         0.00          0.01  \n",
              "16597         0.00          0.01  \n",
              "\n",
              "[16598 rows x 11 columns]"
            ]
          },
          "execution_count": 8,
          "metadata": {},
          "output_type": "execute_result"
        }
      ],
      "source": [
        "drive"
      ]
    },
    {
      "cell_type": "code",
      "execution_count": null,
      "metadata": {
        "id": "gHfDUGKdE71h",
        "outputId": "dec17ccd-514b-43b7-bef9-816af19e88cd"
      },
      "outputs": [
        {
          "data": {
            "text/html": [
              "<div>\n",
              "<style scoped>\n",
              "    .dataframe tbody tr th:only-of-type {\n",
              "        vertical-align: middle;\n",
              "    }\n",
              "\n",
              "    .dataframe tbody tr th {\n",
              "        vertical-align: top;\n",
              "    }\n",
              "\n",
              "    .dataframe thead th {\n",
              "        text-align: right;\n",
              "    }\n",
              "</style>\n",
              "<table border=\"1\" class=\"dataframe\">\n",
              "  <thead>\n",
              "    <tr style=\"text-align: right;\">\n",
              "      <th></th>\n",
              "      <th>Rank</th>\n",
              "      <th>Name</th>\n",
              "      <th>Platform</th>\n",
              "      <th>Year</th>\n",
              "      <th>Genre</th>\n",
              "      <th>Publisher</th>\n",
              "      <th>NA_Sales</th>\n",
              "      <th>EU_Sales</th>\n",
              "      <th>JP_Sales</th>\n",
              "      <th>Other_Sales</th>\n",
              "      <th>Global_Sales</th>\n",
              "    </tr>\n",
              "  </thead>\n",
              "  <tbody>\n",
              "    <tr>\n",
              "      <th>0</th>\n",
              "      <td>1</td>\n",
              "      <td>Wii Sports</td>\n",
              "      <td>Wii</td>\n",
              "      <td>2006.0</td>\n",
              "      <td>Sports</td>\n",
              "      <td>Nintendo</td>\n",
              "      <td>41.49</td>\n",
              "      <td>29.02</td>\n",
              "      <td>3.77</td>\n",
              "      <td>8.46</td>\n",
              "      <td>82.74</td>\n",
              "    </tr>\n",
              "    <tr>\n",
              "      <th>1</th>\n",
              "      <td>2</td>\n",
              "      <td>Super Mario Bros.</td>\n",
              "      <td>NES</td>\n",
              "      <td>1985.0</td>\n",
              "      <td>Platform</td>\n",
              "      <td>Nintendo</td>\n",
              "      <td>29.08</td>\n",
              "      <td>3.58</td>\n",
              "      <td>6.81</td>\n",
              "      <td>0.77</td>\n",
              "      <td>40.24</td>\n",
              "    </tr>\n",
              "    <tr>\n",
              "      <th>2</th>\n",
              "      <td>3</td>\n",
              "      <td>Mario Kart Wii</td>\n",
              "      <td>Wii</td>\n",
              "      <td>2008.0</td>\n",
              "      <td>Racing</td>\n",
              "      <td>Nintendo</td>\n",
              "      <td>15.85</td>\n",
              "      <td>12.88</td>\n",
              "      <td>3.79</td>\n",
              "      <td>3.31</td>\n",
              "      <td>35.82</td>\n",
              "    </tr>\n",
              "    <tr>\n",
              "      <th>3</th>\n",
              "      <td>4</td>\n",
              "      <td>Wii Sports Resort</td>\n",
              "      <td>Wii</td>\n",
              "      <td>2009.0</td>\n",
              "      <td>Sports</td>\n",
              "      <td>Nintendo</td>\n",
              "      <td>15.75</td>\n",
              "      <td>11.01</td>\n",
              "      <td>3.28</td>\n",
              "      <td>2.96</td>\n",
              "      <td>33.00</td>\n",
              "    </tr>\n",
              "    <tr>\n",
              "      <th>4</th>\n",
              "      <td>5</td>\n",
              "      <td>Pokemon Red/Pokemon Blue</td>\n",
              "      <td>GB</td>\n",
              "      <td>1996.0</td>\n",
              "      <td>Role-Playing</td>\n",
              "      <td>Nintendo</td>\n",
              "      <td>11.27</td>\n",
              "      <td>8.89</td>\n",
              "      <td>10.22</td>\n",
              "      <td>1.00</td>\n",
              "      <td>31.37</td>\n",
              "    </tr>\n",
              "  </tbody>\n",
              "</table>\n",
              "</div>"
            ],
            "text/plain": [
              "   Rank                      Name Platform    Year         Genre Publisher  \\\n",
              "0     1                Wii Sports      Wii  2006.0        Sports  Nintendo   \n",
              "1     2         Super Mario Bros.      NES  1985.0      Platform  Nintendo   \n",
              "2     3            Mario Kart Wii      Wii  2008.0        Racing  Nintendo   \n",
              "3     4         Wii Sports Resort      Wii  2009.0        Sports  Nintendo   \n",
              "4     5  Pokemon Red/Pokemon Blue       GB  1996.0  Role-Playing  Nintendo   \n",
              "\n",
              "   NA_Sales  EU_Sales  JP_Sales  Other_Sales  Global_Sales  \n",
              "0     41.49     29.02      3.77         8.46         82.74  \n",
              "1     29.08      3.58      6.81         0.77         40.24  \n",
              "2     15.85     12.88      3.79         3.31         35.82  \n",
              "3     15.75     11.01      3.28         2.96         33.00  \n",
              "4     11.27      8.89     10.22         1.00         31.37  "
            ]
          },
          "execution_count": 9,
          "metadata": {},
          "output_type": "execute_result"
        }
      ],
      "source": [
        "#printing first 5 lines of dataset\n",
        "drive.head()"
      ]
    },
    {
      "cell_type": "code",
      "execution_count": null,
      "metadata": {
        "id": "2xW8x1keE71i",
        "outputId": "b5bad452-5a99-436a-9700-cd91d69c237e"
      },
      "outputs": [
        {
          "data": {
            "text/html": [
              "<div>\n",
              "<style scoped>\n",
              "    .dataframe tbody tr th:only-of-type {\n",
              "        vertical-align: middle;\n",
              "    }\n",
              "\n",
              "    .dataframe tbody tr th {\n",
              "        vertical-align: top;\n",
              "    }\n",
              "\n",
              "    .dataframe thead th {\n",
              "        text-align: right;\n",
              "    }\n",
              "</style>\n",
              "<table border=\"1\" class=\"dataframe\">\n",
              "  <thead>\n",
              "    <tr style=\"text-align: right;\">\n",
              "      <th></th>\n",
              "      <th>id,mean_dist_day,mean_over_speed_perc</th>\n",
              "    </tr>\n",
              "  </thead>\n",
              "  <tbody>\n",
              "    <tr>\n",
              "      <th>3995</th>\n",
              "      <td>3423310685,160.04,10</td>\n",
              "    </tr>\n",
              "    <tr>\n",
              "      <th>3996</th>\n",
              "      <td>3423312600,176.17,5</td>\n",
              "    </tr>\n",
              "    <tr>\n",
              "      <th>3997</th>\n",
              "      <td>3423312921,170.91,12</td>\n",
              "    </tr>\n",
              "    <tr>\n",
              "      <th>3998</th>\n",
              "      <td>3423313630,176.14,5</td>\n",
              "    </tr>\n",
              "    <tr>\n",
              "      <th>3999</th>\n",
              "      <td>3423311533,168.03,9</td>\n",
              "    </tr>\n",
              "  </tbody>\n",
              "</table>\n",
              "</div>"
            ],
            "text/plain": [
              "     id,mean_dist_day,mean_over_speed_perc\n",
              "3995                  3423310685,160.04,10\n",
              "3996                   3423312600,176.17,5\n",
              "3997                  3423312921,170.91,12\n",
              "3998                   3423313630,176.14,5\n",
              "3999                   3423311533,168.03,9"
            ]
          },
          "execution_count": 44,
          "metadata": {},
          "output_type": "execute_result"
        }
      ],
      "source": [
        "#printing last 5 lines of dataset\n",
        "drive.tail()"
      ]
    },
    {
      "cell_type": "code",
      "execution_count": null,
      "metadata": {
        "id": "Is1t3g7ME71i",
        "outputId": "53b6e28c-d22c-4276-a8bd-11e0877fed2b"
      },
      "outputs": [
        {
          "data": {
            "text/plain": [
              "(4000, 1)"
            ]
          },
          "execution_count": 48,
          "metadata": {},
          "output_type": "execute_result"
        }
      ],
      "source": [
        "#Checking shape of my dataset\n",
        "drive.shape"
      ]
    },
    {
      "cell_type": "code",
      "execution_count": null,
      "metadata": {
        "id": "YENRNOcQE71i",
        "outputId": "f7299ce6-6c7a-42ae-8d8b-f8a011809ff6"
      },
      "outputs": [
        {
          "name": "stdout",
          "output_type": "stream",
          "text": [
            "<class 'pandas.core.frame.DataFrame'>\n",
            "RangeIndex: 16598 entries, 0 to 16597\n",
            "Data columns (total 11 columns):\n",
            " #   Column        Non-Null Count  Dtype  \n",
            "---  ------        --------------  -----  \n",
            " 0   Rank          16598 non-null  int64  \n",
            " 1   Name          16598 non-null  object \n",
            " 2   Platform      16598 non-null  object \n",
            " 3   Year          16598 non-null  float64\n",
            " 4   Genre         16598 non-null  object \n",
            " 5   Publisher     16598 non-null  object \n",
            " 6   NA_Sales      16598 non-null  float64\n",
            " 7   EU_Sales      16598 non-null  float64\n",
            " 8   JP_Sales      16598 non-null  float64\n",
            " 9   Other_Sales   16598 non-null  float64\n",
            " 10  Global_Sales  16598 non-null  float64\n",
            "dtypes: float64(6), int64(1), object(4)\n",
            "memory usage: 1.4+ MB\n"
          ]
        }
      ],
      "source": [
        "#Checking datatypes, no of columns, no of rows and no of null values\n",
        "drive.info()"
      ]
    },
    {
      "cell_type": "code",
      "execution_count": null,
      "metadata": {
        "id": "XCA5XHCIE71i",
        "outputId": "336bc09b-b8d0-499e-8c57-70fac6d0593a"
      },
      "outputs": [
        {
          "data": {
            "text/html": [
              "<div>\n",
              "<style scoped>\n",
              "    .dataframe tbody tr th:only-of-type {\n",
              "        vertical-align: middle;\n",
              "    }\n",
              "\n",
              "    .dataframe tbody tr th {\n",
              "        vertical-align: top;\n",
              "    }\n",
              "\n",
              "    .dataframe thead th {\n",
              "        text-align: right;\n",
              "    }\n",
              "</style>\n",
              "<table border=\"1\" class=\"dataframe\">\n",
              "  <thead>\n",
              "    <tr style=\"text-align: right;\">\n",
              "      <th></th>\n",
              "      <th>Rank</th>\n",
              "      <th>Year</th>\n",
              "      <th>NA_Sales</th>\n",
              "      <th>EU_Sales</th>\n",
              "      <th>JP_Sales</th>\n",
              "      <th>Other_Sales</th>\n",
              "      <th>Global_Sales</th>\n",
              "    </tr>\n",
              "  </thead>\n",
              "  <tbody>\n",
              "    <tr>\n",
              "      <th>count</th>\n",
              "      <td>16598.000000</td>\n",
              "      <td>16327.000000</td>\n",
              "      <td>16598.000000</td>\n",
              "      <td>16598.000000</td>\n",
              "      <td>16598.000000</td>\n",
              "      <td>16598.000000</td>\n",
              "      <td>16598.000000</td>\n",
              "    </tr>\n",
              "    <tr>\n",
              "      <th>mean</th>\n",
              "      <td>8300.605254</td>\n",
              "      <td>2006.406443</td>\n",
              "      <td>0.264667</td>\n",
              "      <td>0.146652</td>\n",
              "      <td>0.077782</td>\n",
              "      <td>0.048063</td>\n",
              "      <td>0.537441</td>\n",
              "    </tr>\n",
              "    <tr>\n",
              "      <th>std</th>\n",
              "      <td>4791.853933</td>\n",
              "      <td>5.828981</td>\n",
              "      <td>0.816683</td>\n",
              "      <td>0.505351</td>\n",
              "      <td>0.309291</td>\n",
              "      <td>0.188588</td>\n",
              "      <td>1.555028</td>\n",
              "    </tr>\n",
              "    <tr>\n",
              "      <th>min</th>\n",
              "      <td>1.000000</td>\n",
              "      <td>1980.000000</td>\n",
              "      <td>0.000000</td>\n",
              "      <td>0.000000</td>\n",
              "      <td>0.000000</td>\n",
              "      <td>0.000000</td>\n",
              "      <td>0.010000</td>\n",
              "    </tr>\n",
              "    <tr>\n",
              "      <th>25%</th>\n",
              "      <td>4151.250000</td>\n",
              "      <td>2003.000000</td>\n",
              "      <td>0.000000</td>\n",
              "      <td>0.000000</td>\n",
              "      <td>0.000000</td>\n",
              "      <td>0.000000</td>\n",
              "      <td>0.060000</td>\n",
              "    </tr>\n",
              "    <tr>\n",
              "      <th>50%</th>\n",
              "      <td>8300.500000</td>\n",
              "      <td>2007.000000</td>\n",
              "      <td>0.080000</td>\n",
              "      <td>0.020000</td>\n",
              "      <td>0.000000</td>\n",
              "      <td>0.010000</td>\n",
              "      <td>0.170000</td>\n",
              "    </tr>\n",
              "    <tr>\n",
              "      <th>75%</th>\n",
              "      <td>12449.750000</td>\n",
              "      <td>2010.000000</td>\n",
              "      <td>0.240000</td>\n",
              "      <td>0.110000</td>\n",
              "      <td>0.040000</td>\n",
              "      <td>0.040000</td>\n",
              "      <td>0.470000</td>\n",
              "    </tr>\n",
              "    <tr>\n",
              "      <th>max</th>\n",
              "      <td>16600.000000</td>\n",
              "      <td>2020.000000</td>\n",
              "      <td>41.490000</td>\n",
              "      <td>29.020000</td>\n",
              "      <td>10.220000</td>\n",
              "      <td>10.570000</td>\n",
              "      <td>82.740000</td>\n",
              "    </tr>\n",
              "  </tbody>\n",
              "</table>\n",
              "</div>"
            ],
            "text/plain": [
              "               Rank          Year      NA_Sales      EU_Sales      JP_Sales  \\\n",
              "count  16598.000000  16327.000000  16598.000000  16598.000000  16598.000000   \n",
              "mean    8300.605254   2006.406443      0.264667      0.146652      0.077782   \n",
              "std     4791.853933      5.828981      0.816683      0.505351      0.309291   \n",
              "min        1.000000   1980.000000      0.000000      0.000000      0.000000   \n",
              "25%     4151.250000   2003.000000      0.000000      0.000000      0.000000   \n",
              "50%     8300.500000   2007.000000      0.080000      0.020000      0.000000   \n",
              "75%    12449.750000   2010.000000      0.240000      0.110000      0.040000   \n",
              "max    16600.000000   2020.000000     41.490000     29.020000     10.220000   \n",
              "\n",
              "        Other_Sales  Global_Sales  \n",
              "count  16598.000000  16598.000000  \n",
              "mean       0.048063      0.537441  \n",
              "std        0.188588      1.555028  \n",
              "min        0.000000      0.010000  \n",
              "25%        0.000000      0.060000  \n",
              "50%        0.010000      0.170000  \n",
              "75%        0.040000      0.470000  \n",
              "max       10.570000     82.740000  "
            ]
          },
          "execution_count": 13,
          "metadata": {},
          "output_type": "execute_result"
        }
      ],
      "source": [
        "#Checking all statistics terms of my dataset\n",
        "drive.describe()"
      ]
    },
    {
      "cell_type": "code",
      "execution_count": null,
      "metadata": {
        "id": "TDlX-DQIE71j",
        "outputId": "e3731638-548e-47c1-a731-4d157d693b65"
      },
      "outputs": [
        {
          "data": {
            "text/plain": [
              "8300.605253645017"
            ]
          },
          "execution_count": 16,
          "metadata": {},
          "output_type": "execute_result"
        }
      ],
      "source": [
        "#Finding mean of Instant column from my dataset\n",
        "drive['Rank'].mean()"
      ]
    },
    {
      "cell_type": "code",
      "execution_count": null,
      "metadata": {
        "id": "eIkQGCK5E71j",
        "outputId": "7bfc85b2-b888-44da-d960-fecec0db986b"
      },
      "outputs": [
        {
          "data": {
            "text/plain": [
              "0    2\n",
              "dtype: int64"
            ]
          },
          "execution_count": 64,
          "metadata": {},
          "output_type": "execute_result"
        }
      ],
      "source": [
        "#Finding mode of Instant column from my dataset\n",
        "drive['mnth'].mode()"
      ]
    },
    {
      "cell_type": "code",
      "execution_count": null,
      "metadata": {
        "id": "BBY3E20fE71j",
        "outputId": "84fc3104-9b6d-4270-eab4-91424e2a8529"
      },
      "outputs": [
        {
          "data": {
            "text/plain": [
              "0.40051380881810306"
            ]
          },
          "execution_count": 65,
          "metadata": {},
          "output_type": "execute_result"
        }
      ],
      "source": [
        "#Finding std of Instant column from my dataset\n",
        "drive['mnth'].std()"
      ]
    },
    {
      "cell_type": "code",
      "execution_count": null,
      "metadata": {
        "id": "oYvb6K7sE71j",
        "outputId": "548ec9fe-9679-41ca-bb71-f24c5a5e8b13"
      },
      "outputs": [
        {
          "data": {
            "text/plain": [
              "Rank            0\n",
              "Name            0\n",
              "Platform        0\n",
              "Year            0\n",
              "Genre           0\n",
              "Publisher       0\n",
              "NA_Sales        0\n",
              "EU_Sales        0\n",
              "JP_Sales        0\n",
              "Other_Sales     0\n",
              "Global_Sales    0\n",
              "dtype: int64"
            ]
          },
          "execution_count": 61,
          "metadata": {},
          "output_type": "execute_result"
        }
      ],
      "source": [
        "#Checking for null values\n",
        "drive.isna().sum()"
      ]
    },
    {
      "cell_type": "code",
      "execution_count": null,
      "metadata": {
        "id": "kTD5q1h6E71k",
        "outputId": "30d5ee50-e551-4a23-a9d9-320c2e45bc41"
      },
      "outputs": [
        {
          "data": {
            "text/plain": [
              "0.019821665260874803"
            ]
          },
          "execution_count": 19,
          "metadata": {},
          "output_type": "execute_result"
        }
      ],
      "source": [
        "271+58\n",
        "329/16598"
      ]
    },
    {
      "cell_type": "code",
      "execution_count": null,
      "metadata": {
        "id": "hHSfzLOxE71k"
      },
      "outputs": [],
      "source": [
        "#Removing na values from Year column only\n",
        "drive= drive.dropna(subset=['Year'],axis=0)"
      ]
    },
    {
      "cell_type": "code",
      "execution_count": null,
      "metadata": {
        "id": "uQOFy3qeE71k"
      },
      "outputs": [],
      "source": [
        "#Removing na values from Publisher column only\n",
        "drive= drive.dropna(subset=['Publisher'],axis=0)"
      ]
    },
    {
      "cell_type": "code",
      "execution_count": null,
      "metadata": {
        "id": "BbMZBfAsE71k"
      },
      "outputs": [],
      "source": [
        "#Removing na values from all the columns at once\n",
        "drive = drive.dropna(axis=0)"
      ]
    },
    {
      "cell_type": "code",
      "execution_count": null,
      "metadata": {
        "id": "zEXjLWLtE71l"
      },
      "outputs": [],
      "source": [
        "drive = drive.reset_index()"
      ]
    },
    {
      "cell_type": "code",
      "execution_count": null,
      "metadata": {
        "id": "SFOnTSmYE71n"
      },
      "outputs": [],
      "source": [
        "#Replace na values in Year column with mode\n",
        "drive['Year'] = drive['Year'].fillna(drive['Year'].mode()[0])"
      ]
    },
    {
      "cell_type": "code",
      "execution_count": null,
      "metadata": {
        "id": "bTzrxzUcE71p"
      },
      "outputs": [],
      "source": [
        "drive['Publisher'] = drive['Publisher'].fillna(drive['Publisher'].mode()[0])"
      ]
    },
    {
      "cell_type": "code",
      "execution_count": null,
      "metadata": {
        "id": "sgGaCVVrE71p",
        "outputId": "fbd06b84-258b-4bbb-9d01-c2cd37271a81"
      },
      "outputs": [
        {
          "data": {
            "text/plain": [
              "39"
            ]
          },
          "execution_count": 53,
          "metadata": {},
          "output_type": "execute_result"
        }
      ],
      "source": [
        "#Checking for unique values in my year column\n",
        "drive['Year'].nunique()"
      ]
    },
    {
      "cell_type": "code",
      "execution_count": null,
      "metadata": {
        "id": "K8Y2JX63E71q",
        "outputId": "a139b1a2-6ef2-4630-c4a1-40052416e6fb"
      },
      "outputs": [
        {
          "data": {
            "text/plain": [
              "0    2009.0\n",
              "dtype: float64"
            ]
          },
          "execution_count": 55,
          "metadata": {},
          "output_type": "execute_result"
        }
      ],
      "source": [
        "drive['Year'].mode()"
      ]
    },
    {
      "cell_type": "code",
      "execution_count": null,
      "metadata": {
        "id": "a4cl6y1HE71q",
        "outputId": "5663cc2f-c14f-48a8-a113-eb092a80d5e0"
      },
      "outputs": [
        {
          "data": {
            "text/plain": [
              "array([2006., 1985., 2008., 2009., 1996., 1989., 1984., 2005., 1999.,\n",
              "       2007., 2010., 2013., 2004., 1990., 1988., 2002., 2001., 2011.,\n",
              "       1998., 2015., 2012., 2014., 1992., 1997., 1993., 1994., 1982.,\n",
              "       2003., 1986., 2000., 1995., 2016., 1991., 1981., 1987., 1980.,\n",
              "       1983., 2020., 2017.])"
            ]
          },
          "execution_count": 54,
          "metadata": {},
          "output_type": "execute_result"
        }
      ],
      "source": [
        "#Getting all unique values\n",
        "drive['Year'].unique()"
      ]
    },
    {
      "cell_type": "code",
      "execution_count": null,
      "metadata": {
        "id": "OVlD0wLuE71q",
        "outputId": "7b95115b-c36e-4094-bf46-3fa804c5d79c"
      },
      "outputs": [
        {
          "data": {
            "text/plain": [
              "2009.0    1431\n",
              "2008.0    1428\n",
              "2010.0    1259\n",
              "2007.0    1202\n",
              "2011.0    1139\n",
              "2006.0    1008\n",
              "2005.0     941\n",
              "2002.0     829\n",
              "2003.0     775\n",
              "2004.0     763\n",
              "2012.0     657\n",
              "2015.0     614\n",
              "2014.0     582\n",
              "2013.0     546\n",
              "2001.0     482\n",
              "1998.0     379\n",
              "2000.0     349\n",
              "2016.0     344\n",
              "1999.0     338\n",
              "1997.0     289\n",
              "1996.0     263\n",
              "1995.0     219\n",
              "1994.0     121\n",
              "1993.0      60\n",
              "1981.0      46\n",
              "1992.0      43\n",
              "1991.0      41\n",
              "1982.0      36\n",
              "1986.0      21\n",
              "1989.0      17\n",
              "1983.0      17\n",
              "1990.0      16\n",
              "1987.0      16\n",
              "1988.0      15\n",
              "1985.0      14\n",
              "1984.0      14\n",
              "1980.0       9\n",
              "2017.0       3\n",
              "2020.0       1\n",
              "Name: Year, dtype: int64"
            ]
          },
          "execution_count": 45,
          "metadata": {},
          "output_type": "execute_result"
        }
      ],
      "source": [
        "\n",
        "drive['Year'].value_counts()"
      ]
    },
    {
      "cell_type": "code",
      "execution_count": null,
      "metadata": {
        "id": "WzdnSGJiE71r",
        "outputId": "85f85328-9ba2-4990-a2bb-811f9a376bba"
      },
      "outputs": [
        {
          "data": {
            "text/plain": [
              "2006.4064433147546"
            ]
          },
          "execution_count": 46,
          "metadata": {},
          "output_type": "execute_result"
        }
      ],
      "source": [
        "drive['Year'].mean()"
      ]
    },
    {
      "cell_type": "code",
      "execution_count": null,
      "metadata": {
        "id": "cG4O3UabE71r"
      },
      "outputs": [],
      "source": [
        "#Dropping duplicates records\n",
        "drive= drive.drop_duplicates()"
      ]
    },
    {
      "cell_type": "code",
      "execution_count": null,
      "metadata": {
        "id": "OGf-5yV9E71r"
      },
      "outputs": [],
      "source": [
        "import matplotlib.pyplot as plt\n",
        "import seaborn as sns"
      ]
    },
    {
      "cell_type": "code",
      "execution_count": null,
      "metadata": {
        "id": "-R8mLGJ7E71s",
        "outputId": "4fcf2b1c-9f9d-4a92-a656-a7cc2a9ea820"
      },
      "outputs": [
        {
          "data": {
            "image/png": "[encoded data removed]",
            "text/plain": [
              "<Figure size 432x288 with 1 Axes>"
            ]
          },
          "metadata": {
            "needs_background": "light"
          },
          "output_type": "display_data"
        }
      ],
      "source": [
        "plt.hist(drive['Year'], color='red')\n",
        "plt.xlabel('years')\n",
        "plt.ylabel('frequency of years')\n",
        "plt.title('frequency distribution of years')\n",
        "plt.show()"
      ]
    },
    {
      "cell_type": "code",
      "execution_count": null,
      "metadata": {
        "id": "if1jRbNEE71s",
        "outputId": "4a027e78-9c8e-4446-d18a-a698102d2f7b"
      },
      "outputs": [
        {
          "name": "stderr",
          "output_type": "stream",
          "text": [
            "/usr/local/lib/python3.7/site-packages/seaborn/_decorators.py:43: FutureWarning: Pass the following variable as a keyword arg: x. From version 0.12, the only valid positional argument will be `data`, and passing other arguments without an explicit keyword will result in an error or misinterpretation.\n",
            "  FutureWarning\n"
          ]
        },
        {
          "data": {
            "text/plain": [
              "<AxesSubplot:xlabel='Year'>"
            ]
          },
          "execution_count": 34,
          "metadata": {},
          "output_type": "execute_result"
        },
        {
          "data": {
            "image/png": "[encoded data removed]",
            "text/plain": [
              "<Figure size 432x288 with 1 Axes>"
            ]
          },
          "metadata": {
            "needs_background": "light"
          },
          "output_type": "display_data"
        }
      ],
      "source": [
        "sns.boxplot(drive['Year'])"
      ]
    },
    {
      "cell_type": "code",
      "execution_count": null,
      "metadata": {
        "id": "QwXm_ckqE71s"
      },
      "outputs": [],
      "source": [
        "import numpy as np"
      ]
    },
    {
      "cell_type": "code",
      "execution_count": null,
      "metadata": {
        "id": "ti0QS9qOE71t"
      },
      "outputs": [],
      "source": [
        "#Calculating first and third quatrile and then IQR\n",
        "Q1 = np.percentile(drive['Year'],25,interpolation='midpoint')\n",
        "Q3 = np.percentile(drive['Year'],75,interpolation='midpoint')\n",
        "\n",
        "IQR = Q3-Q1"
      ]
    },
    {
      "cell_type": "code",
      "execution_count": null,
      "metadata": {
        "id": "__8u-S9ZE71t",
        "outputId": "77151f88-4bbd-4015-9f0e-10e65d960360"
      },
      "outputs": [
        {
          "name": "stdout",
          "output_type": "stream",
          "text": [
            "2010.0\n",
            "2003.0\n",
            "7.0\n"
          ]
        }
      ],
      "source": [
        "#printing \n",
        "print(Q3)\n",
        "print(Q1)\n",
        "print(IQR)"
      ]
    },
    {
      "cell_type": "code",
      "execution_count": null,
      "metadata": {
        "id": "QP1DLCH6E71u"
      },
      "outputs": [],
      "source": [
        "#Getting all values that are less than lower band and more than upper band\n",
        "upper = np.where(drive['Year']>=(Q3+1.5*IQR))\n",
        "lower = np.where(drive['Year']<=(Q1-1.5*IQR))"
      ]
    },
    {
      "cell_type": "code",
      "execution_count": null,
      "metadata": {
        "id": "Qm17oABYE71u",
        "outputId": "7a4c3ec6-6358-4488-dc26-6f427318c9bd"
      },
      "outputs": [
        {
          "data": {
            "text/plain": [
              "1992.5"
            ]
          },
          "execution_count": 33,
          "metadata": {},
          "output_type": "execute_result"
        }
      ],
      "source": [
        "Q1-1.5*IQR"
      ]
    },
    {
      "cell_type": "code",
      "execution_count": null,
      "metadata": {
        "id": "rSOcfHMAE71u",
        "outputId": "deaa5cdc-a91a-46a8-97a0-a84e4c7a5182"
      },
      "outputs": [
        {
          "name": "stdout",
          "output_type": "stream",
          "text": [
            "(array([], dtype=int64),)\n"
          ]
        }
      ],
      "source": [
        "print(upper)"
      ]
    },
    {
      "cell_type": "code",
      "execution_count": null,
      "metadata": {
        "id": "HN7LYXQwE71u",
        "outputId": "d78c9213-2d7e-4cc2-caa5-eb2dad77a77a"
      },
      "outputs": [
        {
          "name": "stdout",
          "output_type": "stream",
          "text": [
            "(array([    1,     5,     9,    18,    21,    22,    50,    76,    89,\n",
            "          96,   127,   136,   143,   155,   170,   191,   215,   231,\n",
            "         239,   251,   254,   258,   276,   277,   285,   298,   312,\n",
            "         318,   374,   391,   421,   446,   452,   465,   509,   531,\n",
            "         544,   545,   548,   564,   573,   588,   602,   611,   629,\n",
            "         638,   647,   700,   722,   734,   737,   743,   754,   759,\n",
            "         763,   764,   765,   766,   775,   827,   852,   855,   864,\n",
            "         867,   868,   880,   938,   983,   987,   992,  1008,  1076,\n",
            "        1089,  1099,  1106,  1108,  1115,  1117,  1142,  1153,  1163,\n",
            "        1187,  1190,  1233,  1234,  1246,  1260,  1262,  1278,  1306,\n",
            "        1324,  1350,  1361,  1385,  1394,  1427,  1429,  1490,  1508,\n",
            "        1542,  1556,  1560,  1587,  1588,  1608,  1623,  1638,  1657,\n",
            "        1675,  1676,  1678,  1695,  1705,  1708,  1716,  1726,  1766,\n",
            "        1770,  1772,  1791,  1792,  1794,  1809,  1817,  1827,  1839,\n",
            "        1848,  1851,  1857,  1858,  1859,  1861,  1905,  1965,  1969,\n",
            "        1971,  1973,  2020,  2059,  2061,  2142,  2143,  2158,  2232,\n",
            "        2233,  2234,  2259,  2406,  2439,  2466,  2513,  2516,  2547,\n",
            "        2596,  2610,  2629,  2633,  2652,  2660,  2664,  2669,  2672,\n",
            "        2704,  2727,  2798,  2806,  2843,  2940,  2955,  3044,  3079,\n",
            "        3118,  3204,  3215,  3248,  3266,  3403,  3408,  3447,  3481,\n",
            "        3532,  3544,  3643,  3716,  3748,  3907,  3940,  3953,  3966,\n",
            "        4013,  4015,  4016,  4025,  4096,  4097,  4139,  4147,  4194,\n",
            "        4240,  4267,  4337,  4346,  4393,  4402,  4451,  4517,  4583,\n",
            "        4727,  4780,  4784,  4801,  4894,  4908,  4944,  4952,  4967,\n",
            "        4981,  5033,  5064,  5082,  5127,  5246,  5366,  5381,  5382,\n",
            "        5389,  5395,  5400,  5493,  5517,  5541,  5559,  5564,  5651,\n",
            "        5658,  5773,  5800,  5862,  5956,  6007,  6021,  6053,  6088,\n",
            "        6145,  6155,  6161,  6164,  6165,  6198,  6226,  6265,  6296,\n",
            "        6317,  6537,  6583,  6623,  6728,  6866,  6896,  6939,  6940,\n",
            "        7065,  7094,  7148,  7149,  7150,  7184,  7185,  7371,  7688,\n",
            "        7904,  8037,  8085,  8457,  8458,  8459,  8529,  8575,  8617,\n",
            "        8757,  8758,  8834,  9106,  9442,  9495,  9561,  9796,  9958,\n",
            "       11330, 11716, 11749, 11980, 11985, 12062, 12526, 12636, 12670,\n",
            "       12700, 13018, 13525, 14335, 14507, 14599, 15867, 16073]),)\n"
          ]
        }
      ],
      "source": [
        "print(lower)"
      ]
    },
    {
      "cell_type": "code",
      "execution_count": null,
      "metadata": {
        "id": "gsvWjqRXE71v"
      },
      "outputs": [],
      "source": [
        "#Dropping lower band outliers\n",
        "drive.drop(lower[0], inplace=True)"
      ]
    },
    {
      "cell_type": "code",
      "execution_count": null,
      "metadata": {
        "id": "bKIl4VH-E71v"
      },
      "outputs": [],
      "source": [
        "drive.reset_index()"
      ]
    },
    {
      "cell_type": "markdown",
      "metadata": {
        "id": "-t5Y3wUaE71v"
      },
      "source": [
        "Statistics -\n",
        "Descriptive-Describing about the data\n",
        "Infential-Taking some decision after getting conclusion from data\n",
        "Predictive- Predicting about the future values"
      ]
    },
    {
      "cell_type": "markdown",
      "metadata": {
        "id": "Tup9ED69E71v"
      },
      "source": [
        "Data\n",
        "Categorical-They are limited is no. eg. Gender, Countries,States, 1:male,2:female\n",
        "Numerical- They are not limited to some no.- Height, DIstance, NO. of people in country"
      ]
    },
    {
      "cell_type": "markdown",
      "metadata": {
        "id": "Wx7styRCE71v"
      },
      "source": [
        "Population- The whole thing\n",
        "Sample- Some part of population"
      ]
    },
    {
      "cell_type": "markdown",
      "metadata": {
        "id": "qRmUosTCE71w"
      },
      "source": [
        "Measure of central tendancy - Mean , mode , median\n",
        "Measure of dispersion - Range, Variance, Covariance, Std"
      ]
    },
    {
      "cell_type": "code",
      "execution_count": null,
      "metadata": {
        "id": "I-NtTt_uE71w"
      },
      "outputs": [],
      "source": [
        "Data Visualization \n",
        "Data Exploration EDA\n",
        "\n",
        "Univariate Analysis - When we are analyzing only single variables, Hist, Boxplot, Barchart, piechat, Nunique, Unique, Value-counts\n",
        "Bivariate Analysis - When we want to analyze two variables at a time, Scatter, Line plot, Nunique, Unique, Value-counts\n",
        "Multivariate Analysis - Box plot, Heatmap, Pairplot, corr"
      ]
    },
    {
      "cell_type": "code",
      "execution_count": null,
      "metadata": {
        "id": "IddUhV40E71w",
        "outputId": "7ba9cf4e-e639-4bcc-a66e-6640802c917b"
      },
      "outputs": [
        {
          "name": "stderr",
          "output_type": "stream",
          "text": [
            "/usr/local/lib/python3.7/site-packages/seaborn/_decorators.py:43: FutureWarning: Pass the following variables as keyword args: x, y. From version 0.12, the only valid positional argument will be `data`, and passing other arguments without an explicit keyword will result in an error or misinterpretation.\n",
            "  FutureWarning\n"
          ]
        },
        {
          "data": {
            "text/plain": [
              "<AxesSubplot:xlabel='Year', ylabel='EU_Sales'>"
            ]
          },
          "execution_count": 17,
          "metadata": {},
          "output_type": "execute_result"
        },
        {
          "data": {
            "image/png": "[encoded data removed]",
            "text/plain": [
              "<Figure size 432x288 with 1 Axes>"
            ]
          },
          "metadata": {
            "needs_background": "light"
          },
          "output_type": "display_data"
        }
      ],
      "source": [
        "sns.barplot( drive['Year'],drive['EU_Sales'])"
      ]
    },
    {
      "cell_type": "code",
      "execution_count": null,
      "metadata": {
        "id": "fJKpYfVDE71w",
        "outputId": "8407b5ef-7a27-4fd6-e013-f99db6a567fa"
      },
      "outputs": [
        {
          "data": {
            "text/plain": [
              "0        2006.0\n",
              "2        2008.0\n",
              "3        2009.0\n",
              "4        1996.0\n",
              "6        2006.0\n",
              "          ...  \n",
              "16593    2002.0\n",
              "16594    2003.0\n",
              "16595    2008.0\n",
              "16596    2010.0\n",
              "16597    2003.0\n",
              "Name: Year, Length: 16293, dtype: float64"
            ]
          },
          "execution_count": 13,
          "metadata": {},
          "output_type": "execute_result"
        }
      ],
      "source": [
        "drive['Year']"
      ]
    },
    {
      "cell_type": "code",
      "execution_count": null,
      "metadata": {
        "id": "mMqwAlrRE71x",
        "outputId": "8d806f49-37a0-4e69-b54a-99108fbcd1b5"
      },
      "outputs": [
        {
          "data": {
            "text/plain": [
              "Text(0.5, 1.0, 'Sales across my years')"
            ]
          },
          "execution_count": 19,
          "metadata": {},
          "output_type": "execute_result"
        },
        {
          "data": {
            "image/png": "[encoded data removed]",
            "text/plain": [
              "<Figure size 432x288 with 1 Axes>"
            ]
          },
          "metadata": {
            "needs_background": "light"
          },
          "output_type": "display_data"
        }
      ],
      "source": [
        "plt.scatter(drive['NA_Sales'],drive['Year'])\n",
        "plt.xlabel('Na sales')\n",
        "plt.ylabel('Years')\n",
        "plt.title('Sales across my years')"
      ]
    },
    {
      "cell_type": "code",
      "execution_count": null,
      "metadata": {
        "id": "u1NlLPgAE71x",
        "outputId": "f2cf49cc-f583-4ed5-fe42-74820f36a6c3"
      },
      "outputs": [
        {
          "name": "stderr",
          "output_type": "stream",
          "text": [
            "/usr/local/lib/python3.7/site-packages/seaborn/_decorators.py:43: FutureWarning: Pass the following variables as keyword args: x, y. From version 0.12, the only valid positional argument will be `data`, and passing other arguments without an explicit keyword will result in an error or misinterpretation.\n",
            "  FutureWarning\n"
          ]
        },
        {
          "data": {
            "text/plain": [
              "<AxesSubplot:xlabel='Year', ylabel='NA_Sales'>"
            ]
          },
          "execution_count": 21,
          "metadata": {},
          "output_type": "execute_result"
        },
        {
          "data": {
            "image/png": "[encoded data removed]",
            "text/plain": [
              "<Figure size 432x288 with 1 Axes>"
            ]
          },
          "metadata": {
            "needs_background": "light"
          },
          "output_type": "display_data"
        }
      ],
      "source": [
        "sns.lineplot(drive['Year'],drive['NA_Sales'])"
      ]
    },
    {
      "cell_type": "code",
      "execution_count": null,
      "metadata": {
        "id": "ZSmb9bldE71y",
        "outputId": "db431478-6aae-46c4-8c24-95700131fd7a"
      },
      "outputs": [
        {
          "data": {
            "text/plain": [
              "Year    NA_Sales  EU_Sales\n",
              "2010.0  0.00      0.00        268\n",
              "2009.0  0.00      0.00        255\n",
              "2007.0  0.00      0.00        255\n",
              "2008.0  0.00      0.00        254\n",
              "2011.0  0.00      0.00        238\n",
              "                             ... \n",
              "2008.0  0.29      0.03          1\n",
              "                  0.05          1\n",
              "                  0.14          1\n",
              "2012.0  0.37      0.30          1\n",
              "2020.0  0.27      0.00          1\n",
              "Length: 6664, dtype: int64"
            ]
          },
          "execution_count": 26,
          "metadata": {},
          "output_type": "execute_result"
        }
      ],
      "source": [
        "drive[['Year','NA_Sales','EU_Sales']].value_counts()"
      ]
    },
    {
      "cell_type": "code",
      "execution_count": null,
      "metadata": {
        "id": "7CcfLnoiE71y",
        "outputId": "144c0e8c-0cdb-40ef-b079-5c0c44dd1bcb"
      },
      "outputs": [
        {
          "data": {
            "text/html": [
              "<div>\n",
              "<style scoped>\n",
              "    .dataframe tbody tr th:only-of-type {\n",
              "        vertical-align: middle;\n",
              "    }\n",
              "\n",
              "    .dataframe tbody tr th {\n",
              "        vertical-align: top;\n",
              "    }\n",
              "\n",
              "    .dataframe thead th {\n",
              "        text-align: right;\n",
              "    }\n",
              "</style>\n",
              "<table border=\"1\" class=\"dataframe\">\n",
              "  <thead>\n",
              "    <tr style=\"text-align: right;\">\n",
              "      <th></th>\n",
              "      <th>Rank</th>\n",
              "      <th>Year</th>\n",
              "      <th>NA_Sales</th>\n",
              "      <th>EU_Sales</th>\n",
              "      <th>JP_Sales</th>\n",
              "      <th>Other_Sales</th>\n",
              "      <th>Global_Sales</th>\n",
              "    </tr>\n",
              "  </thead>\n",
              "  <tbody>\n",
              "    <tr>\n",
              "      <th>Rank</th>\n",
              "      <td>1.000000</td>\n",
              "      <td>0.132547</td>\n",
              "      <td>-0.434420</td>\n",
              "      <td>-0.381915</td>\n",
              "      <td>-0.252595</td>\n",
              "      <td>-0.337709</td>\n",
              "      <td>-0.435372</td>\n",
              "    </tr>\n",
              "    <tr>\n",
              "      <th>Year</th>\n",
              "      <td>0.132547</td>\n",
              "      <td>1.000000</td>\n",
              "      <td>-0.042363</td>\n",
              "      <td>0.008131</td>\n",
              "      <td>-0.107556</td>\n",
              "      <td>0.040428</td>\n",
              "      <td>-0.033303</td>\n",
              "    </tr>\n",
              "    <tr>\n",
              "      <th>NA_Sales</th>\n",
              "      <td>-0.434420</td>\n",
              "      <td>-0.042363</td>\n",
              "      <td>1.000000</td>\n",
              "      <td>0.838510</td>\n",
              "      <td>0.423855</td>\n",
              "      <td>0.705603</td>\n",
              "      <td>0.949092</td>\n",
              "    </tr>\n",
              "    <tr>\n",
              "      <th>EU_Sales</th>\n",
              "      <td>-0.381915</td>\n",
              "      <td>0.008131</td>\n",
              "      <td>0.838510</td>\n",
              "      <td>1.000000</td>\n",
              "      <td>0.450093</td>\n",
              "      <td>0.728018</td>\n",
              "      <td>0.934070</td>\n",
              "    </tr>\n",
              "    <tr>\n",
              "      <th>JP_Sales</th>\n",
              "      <td>-0.252595</td>\n",
              "      <td>-0.107556</td>\n",
              "      <td>0.423855</td>\n",
              "      <td>0.450093</td>\n",
              "      <td>1.000000</td>\n",
              "      <td>0.308122</td>\n",
              "      <td>0.593852</td>\n",
              "    </tr>\n",
              "    <tr>\n",
              "      <th>Other_Sales</th>\n",
              "      <td>-0.337709</td>\n",
              "      <td>0.040428</td>\n",
              "      <td>0.705603</td>\n",
              "      <td>0.728018</td>\n",
              "      <td>0.308122</td>\n",
              "      <td>1.000000</td>\n",
              "      <td>0.783335</td>\n",
              "    </tr>\n",
              "    <tr>\n",
              "      <th>Global_Sales</th>\n",
              "      <td>-0.435372</td>\n",
              "      <td>-0.033303</td>\n",
              "      <td>0.949092</td>\n",
              "      <td>0.934070</td>\n",
              "      <td>0.593852</td>\n",
              "      <td>0.783335</td>\n",
              "      <td>1.000000</td>\n",
              "    </tr>\n",
              "  </tbody>\n",
              "</table>\n",
              "</div>"
            ],
            "text/plain": [
              "                  Rank      Year  NA_Sales  EU_Sales  JP_Sales  Other_Sales  \\\n",
              "Rank          1.000000  0.132547 -0.434420 -0.381915 -0.252595    -0.337709   \n",
              "Year          0.132547  1.000000 -0.042363  0.008131 -0.107556     0.040428   \n",
              "NA_Sales     -0.434420 -0.042363  1.000000  0.838510  0.423855     0.705603   \n",
              "EU_Sales     -0.381915  0.008131  0.838510  1.000000  0.450093     0.728018   \n",
              "JP_Sales     -0.252595 -0.107556  0.423855  0.450093  1.000000     0.308122   \n",
              "Other_Sales  -0.337709  0.040428  0.705603  0.728018  0.308122     1.000000   \n",
              "Global_Sales -0.435372 -0.033303  0.949092  0.934070  0.593852     0.783335   \n",
              "\n",
              "              Global_Sales  \n",
              "Rank             -0.435372  \n",
              "Year             -0.033303  \n",
              "NA_Sales          0.949092  \n",
              "EU_Sales          0.934070  \n",
              "JP_Sales          0.593852  \n",
              "Other_Sales       0.783335  \n",
              "Global_Sales      1.000000  "
            ]
          },
          "execution_count": 27,
          "metadata": {},
          "output_type": "execute_result"
        }
      ],
      "source": [
        "#multivariate analysis\n",
        "drive.corr()"
      ]
    },
    {
      "cell_type": "code",
      "execution_count": null,
      "metadata": {
        "id": "wtrsPHpSE71y",
        "outputId": "5981811b-20bc-4724-fbd1-a26726f0f835"
      },
      "outputs": [
        {
          "data": {
            "text/plain": [
              "<AxesSubplot:>"
            ]
          },
          "execution_count": 28,
          "metadata": {},
          "output_type": "execute_result"
        },
        {
          "data": {
            "image/png": "[encoded data removed]",
            "text/plain": [
              "<Figure size 432x288 with 2 Axes>"
            ]
          },
          "metadata": {
            "needs_background": "light"
          },
          "output_type": "display_data"
        }
      ],
      "source": [
        "sns.heatmap(drive.corr())"
      ]
    },
    {
      "cell_type": "code",
      "execution_count": null,
      "metadata": {
        "id": "OlbGuPWoE71z",
        "outputId": "36267520-a027-4788-ab84-94c679205355"
      },
      "outputs": [
        {
          "data": {
            "text/plain": [
              "<seaborn.axisgrid.PairGrid at 0x7fcc93d73350>"
            ]
          },
          "execution_count": 29,
          "metadata": {},
          "output_type": "execute_result"
        },
        {
          "data": {
            "image/png": "[encoded data removed]",
            "text/plain": [
              "<Figure size 1260x1260 with 56 Axes>"
            ]
          },
          "metadata": {
            "needs_background": "light"
          },
          "output_type": "display_data"
        }
      ],
      "source": [
        "sns.pairplot(drive)"
      ]
    },
    {
      "cell_type": "code",
      "execution_count": null,
      "metadata": {
        "id": "EdEahx44E71z"
      },
      "outputs": [],
      "source": [
        "Microsoft excel\n",
        "Stats\n",
        "Data science with Python\n",
        "Machine Learning\n",
        "Deep learning/Tableau"
      ]
    },
    {
      "cell_type": "markdown",
      "metadata": {
        "id": "YJbrrQj5E71z"
      },
      "source": [
        "for dealing with categirical variables\n",
        "Label Encoding\n",
        "One hot Encoding"
      ]
    },
    {
      "cell_type": "markdown",
      "metadata": {
        "id": "2tMBqqExE71z"
      },
      "source": [
        "When we can go with label Encoding - Gender, Rating, performance, when there is order or when the categories are 2\n",
        "When we cant go with label encoding - when variable is having more than 2 categorical and they are  not in order"
      ]
    },
    {
      "cell_type": "code",
      "execution_count": null,
      "metadata": {
        "id": "Z8XP8cq_E71z"
      },
      "outputs": [],
      "source": [
        "df = pd.read_csv('iphone_purchase_records.csv')"
      ]
    },
    {
      "cell_type": "code",
      "execution_count": null,
      "metadata": {
        "id": "BV_kV30RE710",
        "outputId": "5bc488b1-5437-4733-8057-31954eeb9257"
      },
      "outputs": [
        {
          "data": {
            "text/html": [
              "<div>\n",
              "<style scoped>\n",
              "    .dataframe tbody tr th:only-of-type {\n",
              "        vertical-align: middle;\n",
              "    }\n",
              "\n",
              "    .dataframe tbody tr th {\n",
              "        vertical-align: top;\n",
              "    }\n",
              "\n",
              "    .dataframe thead th {\n",
              "        text-align: right;\n",
              "    }\n",
              "</style>\n",
              "<table border=\"1\" class=\"dataframe\">\n",
              "  <thead>\n",
              "    <tr style=\"text-align: right;\">\n",
              "      <th></th>\n",
              "      <th>Rank</th>\n",
              "      <th>Name</th>\n",
              "      <th>Platform</th>\n",
              "      <th>Year</th>\n",
              "      <th>Genre</th>\n",
              "      <th>Publisher</th>\n",
              "      <th>NA_Sales</th>\n",
              "      <th>EU_Sales</th>\n",
              "      <th>JP_Sales</th>\n",
              "      <th>Other_Sales</th>\n",
              "      <th>Global_Sales</th>\n",
              "    </tr>\n",
              "  </thead>\n",
              "  <tbody>\n",
              "    <tr>\n",
              "      <th>0</th>\n",
              "      <td>1</td>\n",
              "      <td>Wii Sports</td>\n",
              "      <td>Wii</td>\n",
              "      <td>2006.0</td>\n",
              "      <td>Sports</td>\n",
              "      <td>Nintendo</td>\n",
              "      <td>41.49</td>\n",
              "      <td>29.02</td>\n",
              "      <td>3.77</td>\n",
              "      <td>8.46</td>\n",
              "      <td>82.74</td>\n",
              "    </tr>\n",
              "    <tr>\n",
              "      <th>2</th>\n",
              "      <td>3</td>\n",
              "      <td>Mario Kart Wii</td>\n",
              "      <td>Wii</td>\n",
              "      <td>2008.0</td>\n",
              "      <td>Racing</td>\n",
              "      <td>Nintendo</td>\n",
              "      <td>15.85</td>\n",
              "      <td>12.88</td>\n",
              "      <td>3.79</td>\n",
              "      <td>3.31</td>\n",
              "      <td>35.82</td>\n",
              "    </tr>\n",
              "    <tr>\n",
              "      <th>3</th>\n",
              "      <td>4</td>\n",
              "      <td>Wii Sports Resort</td>\n",
              "      <td>Wii</td>\n",
              "      <td>2009.0</td>\n",
              "      <td>Sports</td>\n",
              "      <td>Nintendo</td>\n",
              "      <td>15.75</td>\n",
              "      <td>11.01</td>\n",
              "      <td>3.28</td>\n",
              "      <td>2.96</td>\n",
              "      <td>33.00</td>\n",
              "    </tr>\n",
              "    <tr>\n",
              "      <th>4</th>\n",
              "      <td>5</td>\n",
              "      <td>Pokemon Red/Pokemon Blue</td>\n",
              "      <td>GB</td>\n",
              "      <td>1996.0</td>\n",
              "      <td>Role-Playing</td>\n",
              "      <td>Nintendo</td>\n",
              "      <td>11.27</td>\n",
              "      <td>8.89</td>\n",
              "      <td>10.22</td>\n",
              "      <td>1.00</td>\n",
              "      <td>31.37</td>\n",
              "    </tr>\n",
              "    <tr>\n",
              "      <th>6</th>\n",
              "      <td>7</td>\n",
              "      <td>New Super Mario Bros.</td>\n",
              "      <td>DS</td>\n",
              "      <td>2006.0</td>\n",
              "      <td>Platform</td>\n",
              "      <td>Nintendo</td>\n",
              "      <td>11.38</td>\n",
              "      <td>9.23</td>\n",
              "      <td>6.50</td>\n",
              "      <td>2.90</td>\n",
              "      <td>30.01</td>\n",
              "    </tr>\n",
              "    <tr>\n",
              "      <th>...</th>\n",
              "      <td>...</td>\n",
              "      <td>...</td>\n",
              "      <td>...</td>\n",
              "      <td>...</td>\n",
              "      <td>...</td>\n",
              "      <td>...</td>\n",
              "      <td>...</td>\n",
              "      <td>...</td>\n",
              "      <td>...</td>\n",
              "      <td>...</td>\n",
              "      <td>...</td>\n",
              "    </tr>\n",
              "    <tr>\n",
              "      <th>16593</th>\n",
              "      <td>16596</td>\n",
              "      <td>Woody Woodpecker in Crazy Castle 5</td>\n",
              "      <td>GBA</td>\n",
              "      <td>2002.0</td>\n",
              "      <td>Platform</td>\n",
              "      <td>Kemco</td>\n",
              "      <td>0.01</td>\n",
              "      <td>0.00</td>\n",
              "      <td>0.00</td>\n",
              "      <td>0.00</td>\n",
              "      <td>0.01</td>\n",
              "    </tr>\n",
              "    <tr>\n",
              "      <th>16594</th>\n",
              "      <td>16597</td>\n",
              "      <td>Men in Black II: Alien Escape</td>\n",
              "      <td>GC</td>\n",
              "      <td>2003.0</td>\n",
              "      <td>Shooter</td>\n",
              "      <td>Infogrames</td>\n",
              "      <td>0.01</td>\n",
              "      <td>0.00</td>\n",
              "      <td>0.00</td>\n",
              "      <td>0.00</td>\n",
              "      <td>0.01</td>\n",
              "    </tr>\n",
              "    <tr>\n",
              "      <th>16595</th>\n",
              "      <td>16598</td>\n",
              "      <td>SCORE International Baja 1000: The Official Game</td>\n",
              "      <td>PS2</td>\n",
              "      <td>2008.0</td>\n",
              "      <td>Racing</td>\n",
              "      <td>Activision</td>\n",
              "      <td>0.00</td>\n",
              "      <td>0.00</td>\n",
              "      <td>0.00</td>\n",
              "      <td>0.00</td>\n",
              "      <td>0.01</td>\n",
              "    </tr>\n",
              "    <tr>\n",
              "      <th>16596</th>\n",
              "      <td>16599</td>\n",
              "      <td>Know How 2</td>\n",
              "      <td>DS</td>\n",
              "      <td>2010.0</td>\n",
              "      <td>Puzzle</td>\n",
              "      <td>7G//AMES</td>\n",
              "      <td>0.00</td>\n",
              "      <td>0.01</td>\n",
              "      <td>0.00</td>\n",
              "      <td>0.00</td>\n",
              "      <td>0.01</td>\n",
              "    </tr>\n",
              "    <tr>\n",
              "      <th>16597</th>\n",
              "      <td>16600</td>\n",
              "      <td>Spirits &amp; Spells</td>\n",
              "      <td>GBA</td>\n",
              "      <td>2003.0</td>\n",
              "      <td>Platform</td>\n",
              "      <td>Wanadoo</td>\n",
              "      <td>0.01</td>\n",
              "      <td>0.00</td>\n",
              "      <td>0.00</td>\n",
              "      <td>0.00</td>\n",
              "      <td>0.01</td>\n",
              "    </tr>\n",
              "  </tbody>\n",
              "</table>\n",
              "<p>16293 rows × 11 columns</p>\n",
              "</div>"
            ],
            "text/plain": [
              "        Rank                                              Name Platform  \\\n",
              "0          1                                        Wii Sports      Wii   \n",
              "2          3                                    Mario Kart Wii      Wii   \n",
              "3          4                                 Wii Sports Resort      Wii   \n",
              "4          5                          Pokemon Red/Pokemon Blue       GB   \n",
              "6          7                             New Super Mario Bros.       DS   \n",
              "...      ...                                               ...      ...   \n",
              "16593  16596                Woody Woodpecker in Crazy Castle 5      GBA   \n",
              "16594  16597                     Men in Black II: Alien Escape       GC   \n",
              "16595  16598  SCORE International Baja 1000: The Official Game      PS2   \n",
              "16596  16599                                        Know How 2       DS   \n",
              "16597  16600                                  Spirits & Spells      GBA   \n",
              "\n",
              "         Year         Genre   Publisher  NA_Sales  EU_Sales  JP_Sales  \\\n",
              "0      2006.0        Sports    Nintendo     41.49     29.02      3.77   \n",
              "2      2008.0        Racing    Nintendo     15.85     12.88      3.79   \n",
              "3      2009.0        Sports    Nintendo     15.75     11.01      3.28   \n",
              "4      1996.0  Role-Playing    Nintendo     11.27      8.89     10.22   \n",
              "6      2006.0      Platform    Nintendo     11.38      9.23      6.50   \n",
              "...       ...           ...         ...       ...       ...       ...   \n",
              "16593  2002.0      Platform       Kemco      0.01      0.00      0.00   \n",
              "16594  2003.0       Shooter  Infogrames      0.01      0.00      0.00   \n",
              "16595  2008.0        Racing  Activision      0.00      0.00      0.00   \n",
              "16596  2010.0        Puzzle    7G//AMES      0.00      0.01      0.00   \n",
              "16597  2003.0      Platform     Wanadoo      0.01      0.00      0.00   \n",
              "\n",
              "       Other_Sales  Global_Sales  \n",
              "0             8.46         82.74  \n",
              "2             3.31         35.82  \n",
              "3             2.96         33.00  \n",
              "4             1.00         31.37  \n",
              "6             2.90         30.01  \n",
              "...            ...           ...  \n",
              "16593         0.00          0.01  \n",
              "16594         0.00          0.01  \n",
              "16595         0.00          0.01  \n",
              "16596         0.00          0.01  \n",
              "16597         0.00          0.01  \n",
              "\n",
              "[16293 rows x 11 columns]"
            ]
          },
          "execution_count": 27,
          "metadata": {},
          "output_type": "execute_result"
        }
      ],
      "source": [
        "drive"
      ]
    },
    {
      "cell_type": "code",
      "execution_count": null,
      "metadata": {
        "id": "NUJLUP8eE710"
      },
      "outputs": [],
      "source": [
        "from sklearn.preprocessing import LabelEncoder"
      ]
    },
    {
      "cell_type": "code",
      "execution_count": null,
      "metadata": {
        "id": "vOsYSk71E710"
      },
      "outputs": [],
      "source": [
        "Enc = LabelEncoder()\n",
        "\n",
        "df['Gender']= pd.DataFrame(Enc.fit_transform(df['Gender']))"
      ]
    },
    {
      "cell_type": "code",
      "execution_count": null,
      "metadata": {
        "id": "YP-fkaLvE710",
        "outputId": "d88b3f84-ea65-4965-9b2a-ea2b98299282"
      },
      "outputs": [
        {
          "data": {
            "text/html": [
              "<div>\n",
              "<style scoped>\n",
              "    .dataframe tbody tr th:only-of-type {\n",
              "        vertical-align: middle;\n",
              "    }\n",
              "\n",
              "    .dataframe tbody tr th {\n",
              "        vertical-align: top;\n",
              "    }\n",
              "\n",
              "    .dataframe thead th {\n",
              "        text-align: right;\n",
              "    }\n",
              "</style>\n",
              "<table border=\"1\" class=\"dataframe\">\n",
              "  <thead>\n",
              "    <tr style=\"text-align: right;\">\n",
              "      <th></th>\n",
              "      <th>Rank</th>\n",
              "      <th>Name</th>\n",
              "      <th>Platform</th>\n",
              "      <th>Year</th>\n",
              "      <th>Genre</th>\n",
              "      <th>Publisher</th>\n",
              "      <th>NA_Sales</th>\n",
              "      <th>EU_Sales</th>\n",
              "      <th>JP_Sales</th>\n",
              "      <th>Other_Sales</th>\n",
              "      <th>Global_Sales</th>\n",
              "    </tr>\n",
              "  </thead>\n",
              "  <tbody>\n",
              "    <tr>\n",
              "      <th>0</th>\n",
              "      <td>1</td>\n",
              "      <td>Wii Sports</td>\n",
              "      <td>Wii</td>\n",
              "      <td>2006.0</td>\n",
              "      <td>Sports</td>\n",
              "      <td>Nintendo</td>\n",
              "      <td>41.49</td>\n",
              "      <td>29.02</td>\n",
              "      <td>3.77</td>\n",
              "      <td>8.46</td>\n",
              "      <td>82.74</td>\n",
              "    </tr>\n",
              "    <tr>\n",
              "      <th>2</th>\n",
              "      <td>3</td>\n",
              "      <td>Mario Kart Wii</td>\n",
              "      <td>Wii</td>\n",
              "      <td>2008.0</td>\n",
              "      <td>Racing</td>\n",
              "      <td>Nintendo</td>\n",
              "      <td>15.85</td>\n",
              "      <td>12.88</td>\n",
              "      <td>3.79</td>\n",
              "      <td>3.31</td>\n",
              "      <td>35.82</td>\n",
              "    </tr>\n",
              "    <tr>\n",
              "      <th>3</th>\n",
              "      <td>4</td>\n",
              "      <td>Wii Sports Resort</td>\n",
              "      <td>Wii</td>\n",
              "      <td>2009.0</td>\n",
              "      <td>Sports</td>\n",
              "      <td>Nintendo</td>\n",
              "      <td>15.75</td>\n",
              "      <td>11.01</td>\n",
              "      <td>3.28</td>\n",
              "      <td>2.96</td>\n",
              "      <td>33.00</td>\n",
              "    </tr>\n",
              "    <tr>\n",
              "      <th>4</th>\n",
              "      <td>5</td>\n",
              "      <td>Pokemon Red/Pokemon Blue</td>\n",
              "      <td>GB</td>\n",
              "      <td>1996.0</td>\n",
              "      <td>Role-Playing</td>\n",
              "      <td>Nintendo</td>\n",
              "      <td>11.27</td>\n",
              "      <td>8.89</td>\n",
              "      <td>10.22</td>\n",
              "      <td>1.00</td>\n",
              "      <td>31.37</td>\n",
              "    </tr>\n",
              "    <tr>\n",
              "      <th>6</th>\n",
              "      <td>7</td>\n",
              "      <td>New Super Mario Bros.</td>\n",
              "      <td>DS</td>\n",
              "      <td>2006.0</td>\n",
              "      <td>Platform</td>\n",
              "      <td>Nintendo</td>\n",
              "      <td>11.38</td>\n",
              "      <td>9.23</td>\n",
              "      <td>6.50</td>\n",
              "      <td>2.90</td>\n",
              "      <td>30.01</td>\n",
              "    </tr>\n",
              "    <tr>\n",
              "      <th>...</th>\n",
              "      <td>...</td>\n",
              "      <td>...</td>\n",
              "      <td>...</td>\n",
              "      <td>...</td>\n",
              "      <td>...</td>\n",
              "      <td>...</td>\n",
              "      <td>...</td>\n",
              "      <td>...</td>\n",
              "      <td>...</td>\n",
              "      <td>...</td>\n",
              "      <td>...</td>\n",
              "    </tr>\n",
              "    <tr>\n",
              "      <th>16593</th>\n",
              "      <td>16596</td>\n",
              "      <td>Woody Woodpecker in Crazy Castle 5</td>\n",
              "      <td>GBA</td>\n",
              "      <td>2002.0</td>\n",
              "      <td>Platform</td>\n",
              "      <td>Kemco</td>\n",
              "      <td>0.01</td>\n",
              "      <td>0.00</td>\n",
              "      <td>0.00</td>\n",
              "      <td>0.00</td>\n",
              "      <td>0.01</td>\n",
              "    </tr>\n",
              "    <tr>\n",
              "      <th>16594</th>\n",
              "      <td>16597</td>\n",
              "      <td>Men in Black II: Alien Escape</td>\n",
              "      <td>GC</td>\n",
              "      <td>2003.0</td>\n",
              "      <td>Shooter</td>\n",
              "      <td>Infogrames</td>\n",
              "      <td>0.01</td>\n",
              "      <td>0.00</td>\n",
              "      <td>0.00</td>\n",
              "      <td>0.00</td>\n",
              "      <td>0.01</td>\n",
              "    </tr>\n",
              "    <tr>\n",
              "      <th>16595</th>\n",
              "      <td>16598</td>\n",
              "      <td>SCORE International Baja 1000: The Official Game</td>\n",
              "      <td>PS2</td>\n",
              "      <td>2008.0</td>\n",
              "      <td>Racing</td>\n",
              "      <td>Activision</td>\n",
              "      <td>0.00</td>\n",
              "      <td>0.00</td>\n",
              "      <td>0.00</td>\n",
              "      <td>0.00</td>\n",
              "      <td>0.01</td>\n",
              "    </tr>\n",
              "    <tr>\n",
              "      <th>16596</th>\n",
              "      <td>16599</td>\n",
              "      <td>Know How 2</td>\n",
              "      <td>DS</td>\n",
              "      <td>2010.0</td>\n",
              "      <td>Puzzle</td>\n",
              "      <td>7G//AMES</td>\n",
              "      <td>0.00</td>\n",
              "      <td>0.01</td>\n",
              "      <td>0.00</td>\n",
              "      <td>0.00</td>\n",
              "      <td>0.01</td>\n",
              "    </tr>\n",
              "    <tr>\n",
              "      <th>16597</th>\n",
              "      <td>16600</td>\n",
              "      <td>Spirits &amp; Spells</td>\n",
              "      <td>GBA</td>\n",
              "      <td>2003.0</td>\n",
              "      <td>Platform</td>\n",
              "      <td>Wanadoo</td>\n",
              "      <td>0.01</td>\n",
              "      <td>0.00</td>\n",
              "      <td>0.00</td>\n",
              "      <td>0.00</td>\n",
              "      <td>0.01</td>\n",
              "    </tr>\n",
              "  </tbody>\n",
              "</table>\n",
              "<p>16293 rows × 11 columns</p>\n",
              "</div>"
            ],
            "text/plain": [
              "        Rank                                              Name Platform  \\\n",
              "0          1                                        Wii Sports      Wii   \n",
              "2          3                                    Mario Kart Wii      Wii   \n",
              "3          4                                 Wii Sports Resort      Wii   \n",
              "4          5                          Pokemon Red/Pokemon Blue       GB   \n",
              "6          7                             New Super Mario Bros.       DS   \n",
              "...      ...                                               ...      ...   \n",
              "16593  16596                Woody Woodpecker in Crazy Castle 5      GBA   \n",
              "16594  16597                     Men in Black II: Alien Escape       GC   \n",
              "16595  16598  SCORE International Baja 1000: The Official Game      PS2   \n",
              "16596  16599                                        Know How 2       DS   \n",
              "16597  16600                                  Spirits & Spells      GBA   \n",
              "\n",
              "         Year         Genre   Publisher  NA_Sales  EU_Sales  JP_Sales  \\\n",
              "0      2006.0        Sports    Nintendo     41.49     29.02      3.77   \n",
              "2      2008.0        Racing    Nintendo     15.85     12.88      3.79   \n",
              "3      2009.0        Sports    Nintendo     15.75     11.01      3.28   \n",
              "4      1996.0  Role-Playing    Nintendo     11.27      8.89     10.22   \n",
              "6      2006.0      Platform    Nintendo     11.38      9.23      6.50   \n",
              "...       ...           ...         ...       ...       ...       ...   \n",
              "16593  2002.0      Platform       Kemco      0.01      0.00      0.00   \n",
              "16594  2003.0       Shooter  Infogrames      0.01      0.00      0.00   \n",
              "16595  2008.0        Racing  Activision      0.00      0.00      0.00   \n",
              "16596  2010.0        Puzzle    7G//AMES      0.00      0.01      0.00   \n",
              "16597  2003.0      Platform     Wanadoo      0.01      0.00      0.00   \n",
              "\n",
              "       Other_Sales  Global_Sales  \n",
              "0             8.46         82.74  \n",
              "2             3.31         35.82  \n",
              "3             2.96         33.00  \n",
              "4             1.00         31.37  \n",
              "6             2.90         30.01  \n",
              "...            ...           ...  \n",
              "16593         0.00          0.01  \n",
              "16594         0.00          0.01  \n",
              "16595         0.00          0.01  \n",
              "16596         0.00          0.01  \n",
              "16597         0.00          0.01  \n",
              "\n",
              "[16293 rows x 11 columns]"
            ]
          },
          "execution_count": 28,
          "metadata": {},
          "output_type": "execute_result"
        }
      ],
      "source": [
        "drive"
      ]
    },
    {
      "cell_type": "code",
      "execution_count": null,
      "metadata": {
        "id": "DVZxI8BQE710",
        "outputId": "ae04bc22-a696-4989-bf71-8591b13467c1"
      },
      "outputs": [
        {
          "data": {
            "text/plain": [
              "Action          3241\n",
              "Sports          2309\n",
              "Misc            1728\n",
              "Role-Playing    1467\n",
              "Adventure       1278\n",
              "Shooter         1274\n",
              "Racing          1236\n",
              "Simulation       860\n",
              "Platform         838\n",
              "Fighting         836\n",
              "Strategy         674\n",
              "Puzzle           552\n",
              "Name: Genre, dtype: int64"
            ]
          },
          "execution_count": 32,
          "metadata": {},
          "output_type": "execute_result"
        }
      ],
      "source": [
        "drive['Genre'].value_counts()"
      ]
    },
    {
      "cell_type": "code",
      "execution_count": null,
      "metadata": {
        "id": "kVZqZDV3E711",
        "outputId": "e3fc7892-7163-483f-f480-463919f2cfd0"
      },
      "outputs": [
        {
          "data": {
            "text/html": [
              "<div>\n",
              "<style scoped>\n",
              "    .dataframe tbody tr th:only-of-type {\n",
              "        vertical-align: middle;\n",
              "    }\n",
              "\n",
              "    .dataframe tbody tr th {\n",
              "        vertical-align: top;\n",
              "    }\n",
              "\n",
              "    .dataframe thead th {\n",
              "        text-align: right;\n",
              "    }\n",
              "</style>\n",
              "<table border=\"1\" class=\"dataframe\">\n",
              "  <thead>\n",
              "    <tr style=\"text-align: right;\">\n",
              "      <th></th>\n",
              "      <th>Action</th>\n",
              "      <th>Adventure</th>\n",
              "      <th>Fighting</th>\n",
              "      <th>Misc</th>\n",
              "      <th>Platform</th>\n",
              "      <th>Puzzle</th>\n",
              "      <th>Racing</th>\n",
              "      <th>Role-Playing</th>\n",
              "      <th>Shooter</th>\n",
              "      <th>Simulation</th>\n",
              "      <th>Sports</th>\n",
              "      <th>Strategy</th>\n",
              "    </tr>\n",
              "  </thead>\n",
              "  <tbody>\n",
              "    <tr>\n",
              "      <th>0</th>\n",
              "      <td>0</td>\n",
              "      <td>0</td>\n",
              "      <td>0</td>\n",
              "      <td>0</td>\n",
              "      <td>0</td>\n",
              "      <td>0</td>\n",
              "      <td>0</td>\n",
              "      <td>0</td>\n",
              "      <td>0</td>\n",
              "      <td>0</td>\n",
              "      <td>1</td>\n",
              "      <td>0</td>\n",
              "    </tr>\n",
              "    <tr>\n",
              "      <th>2</th>\n",
              "      <td>0</td>\n",
              "      <td>0</td>\n",
              "      <td>0</td>\n",
              "      <td>0</td>\n",
              "      <td>0</td>\n",
              "      <td>0</td>\n",
              "      <td>1</td>\n",
              "      <td>0</td>\n",
              "      <td>0</td>\n",
              "      <td>0</td>\n",
              "      <td>0</td>\n",
              "      <td>0</td>\n",
              "    </tr>\n",
              "    <tr>\n",
              "      <th>3</th>\n",
              "      <td>0</td>\n",
              "      <td>0</td>\n",
              "      <td>0</td>\n",
              "      <td>0</td>\n",
              "      <td>0</td>\n",
              "      <td>0</td>\n",
              "      <td>0</td>\n",
              "      <td>0</td>\n",
              "      <td>0</td>\n",
              "      <td>0</td>\n",
              "      <td>1</td>\n",
              "      <td>0</td>\n",
              "    </tr>\n",
              "    <tr>\n",
              "      <th>4</th>\n",
              "      <td>0</td>\n",
              "      <td>0</td>\n",
              "      <td>0</td>\n",
              "      <td>0</td>\n",
              "      <td>0</td>\n",
              "      <td>0</td>\n",
              "      <td>0</td>\n",
              "      <td>1</td>\n",
              "      <td>0</td>\n",
              "      <td>0</td>\n",
              "      <td>0</td>\n",
              "      <td>0</td>\n",
              "    </tr>\n",
              "    <tr>\n",
              "      <th>6</th>\n",
              "      <td>0</td>\n",
              "      <td>0</td>\n",
              "      <td>0</td>\n",
              "      <td>0</td>\n",
              "      <td>1</td>\n",
              "      <td>0</td>\n",
              "      <td>0</td>\n",
              "      <td>0</td>\n",
              "      <td>0</td>\n",
              "      <td>0</td>\n",
              "      <td>0</td>\n",
              "      <td>0</td>\n",
              "    </tr>\n",
              "    <tr>\n",
              "      <th>...</th>\n",
              "      <td>...</td>\n",
              "      <td>...</td>\n",
              "      <td>...</td>\n",
              "      <td>...</td>\n",
              "      <td>...</td>\n",
              "      <td>...</td>\n",
              "      <td>...</td>\n",
              "      <td>...</td>\n",
              "      <td>...</td>\n",
              "      <td>...</td>\n",
              "      <td>...</td>\n",
              "      <td>...</td>\n",
              "    </tr>\n",
              "    <tr>\n",
              "      <th>16593</th>\n",
              "      <td>0</td>\n",
              "      <td>0</td>\n",
              "      <td>0</td>\n",
              "      <td>0</td>\n",
              "      <td>1</td>\n",
              "      <td>0</td>\n",
              "      <td>0</td>\n",
              "      <td>0</td>\n",
              "      <td>0</td>\n",
              "      <td>0</td>\n",
              "      <td>0</td>\n",
              "      <td>0</td>\n",
              "    </tr>\n",
              "    <tr>\n",
              "      <th>16594</th>\n",
              "      <td>0</td>\n",
              "      <td>0</td>\n",
              "      <td>0</td>\n",
              "      <td>0</td>\n",
              "      <td>0</td>\n",
              "      <td>0</td>\n",
              "      <td>0</td>\n",
              "      <td>0</td>\n",
              "      <td>1</td>\n",
              "      <td>0</td>\n",
              "      <td>0</td>\n",
              "      <td>0</td>\n",
              "    </tr>\n",
              "    <tr>\n",
              "      <th>16595</th>\n",
              "      <td>0</td>\n",
              "      <td>0</td>\n",
              "      <td>0</td>\n",
              "      <td>0</td>\n",
              "      <td>0</td>\n",
              "      <td>0</td>\n",
              "      <td>1</td>\n",
              "      <td>0</td>\n",
              "      <td>0</td>\n",
              "      <td>0</td>\n",
              "      <td>0</td>\n",
              "      <td>0</td>\n",
              "    </tr>\n",
              "    <tr>\n",
              "      <th>16596</th>\n",
              "      <td>0</td>\n",
              "      <td>0</td>\n",
              "      <td>0</td>\n",
              "      <td>0</td>\n",
              "      <td>0</td>\n",
              "      <td>1</td>\n",
              "      <td>0</td>\n",
              "      <td>0</td>\n",
              "      <td>0</td>\n",
              "      <td>0</td>\n",
              "      <td>0</td>\n",
              "      <td>0</td>\n",
              "    </tr>\n",
              "    <tr>\n",
              "      <th>16597</th>\n",
              "      <td>0</td>\n",
              "      <td>0</td>\n",
              "      <td>0</td>\n",
              "      <td>0</td>\n",
              "      <td>1</td>\n",
              "      <td>0</td>\n",
              "      <td>0</td>\n",
              "      <td>0</td>\n",
              "      <td>0</td>\n",
              "      <td>0</td>\n",
              "      <td>0</td>\n",
              "      <td>0</td>\n",
              "    </tr>\n",
              "  </tbody>\n",
              "</table>\n",
              "<p>16293 rows × 12 columns</p>\n",
              "</div>"
            ],
            "text/plain": [
              "       Action  Adventure  Fighting  Misc  Platform  Puzzle  Racing  \\\n",
              "0           0          0         0     0         0       0       0   \n",
              "2           0          0         0     0         0       0       1   \n",
              "3           0          0         0     0         0       0       0   \n",
              "4           0          0         0     0         0       0       0   \n",
              "6           0          0         0     0         1       0       0   \n",
              "...       ...        ...       ...   ...       ...     ...     ...   \n",
              "16593       0          0         0     0         1       0       0   \n",
              "16594       0          0         0     0         0       0       0   \n",
              "16595       0          0         0     0         0       0       1   \n",
              "16596       0          0         0     0         0       1       0   \n",
              "16597       0          0         0     0         1       0       0   \n",
              "\n",
              "       Role-Playing  Shooter  Simulation  Sports  Strategy  \n",
              "0                 0        0           0       1         0  \n",
              "2                 0        0           0       0         0  \n",
              "3                 0        0           0       1         0  \n",
              "4                 1        0           0       0         0  \n",
              "6                 0        0           0       0         0  \n",
              "...             ...      ...         ...     ...       ...  \n",
              "16593             0        0           0       0         0  \n",
              "16594             0        1           0       0         0  \n",
              "16595             0        0           0       0         0  \n",
              "16596             0        0           0       0         0  \n",
              "16597             0        0           0       0         0  \n",
              "\n",
              "[16293 rows x 12 columns]"
            ]
          },
          "execution_count": 39,
          "metadata": {},
          "output_type": "execute_result"
        }
      ],
      "source": [
        "#One hot Encoding on the column Genre\n",
        "new_var= pd.get_dummies(drive['Genre'])"
      ]
    },
    {
      "cell_type": "code",
      "execution_count": null,
      "metadata": {
        "id": "xPUzZK8iE711"
      },
      "outputs": [],
      "source": [
        "#Adding two dataframes together\n",
        "drive = pd.concat([drive,new_var], axis=1)"
      ]
    },
    {
      "cell_type": "code",
      "execution_count": null,
      "metadata": {
        "id": "c7eg7bEPE712",
        "outputId": "9eefb0c3-4282-4ccd-b0c8-f2380ef419f3"
      },
      "outputs": [
        {
          "data": {
            "text/html": [
              "<div>\n",
              "<style scoped>\n",
              "    .dataframe tbody tr th:only-of-type {\n",
              "        vertical-align: middle;\n",
              "    }\n",
              "\n",
              "    .dataframe tbody tr th {\n",
              "        vertical-align: top;\n",
              "    }\n",
              "\n",
              "    .dataframe thead th {\n",
              "        text-align: right;\n",
              "    }\n",
              "</style>\n",
              "<table border=\"1\" class=\"dataframe\">\n",
              "  <thead>\n",
              "    <tr style=\"text-align: right;\">\n",
              "      <th></th>\n",
              "      <th>Rank</th>\n",
              "      <th>Name</th>\n",
              "      <th>Platform</th>\n",
              "      <th>Year</th>\n",
              "      <th>Publisher</th>\n",
              "      <th>NA_Sales</th>\n",
              "      <th>EU_Sales</th>\n",
              "      <th>JP_Sales</th>\n",
              "      <th>Other_Sales</th>\n",
              "      <th>Global_Sales</th>\n",
              "      <th>...</th>\n",
              "      <th>Fighting</th>\n",
              "      <th>Misc</th>\n",
              "      <th>Platform</th>\n",
              "      <th>Puzzle</th>\n",
              "      <th>Racing</th>\n",
              "      <th>Role-Playing</th>\n",
              "      <th>Shooter</th>\n",
              "      <th>Simulation</th>\n",
              "      <th>Sports</th>\n",
              "      <th>Strategy</th>\n",
              "    </tr>\n",
              "  </thead>\n",
              "  <tbody>\n",
              "    <tr>\n",
              "      <th>0</th>\n",
              "      <td>1</td>\n",
              "      <td>Wii Sports</td>\n",
              "      <td>Wii</td>\n",
              "      <td>2006.0</td>\n",
              "      <td>Nintendo</td>\n",
              "      <td>41.49</td>\n",
              "      <td>29.02</td>\n",
              "      <td>3.77</td>\n",
              "      <td>8.46</td>\n",
              "      <td>82.74</td>\n",
              "      <td>...</td>\n",
              "      <td>0</td>\n",
              "      <td>0</td>\n",
              "      <td>0</td>\n",
              "      <td>0</td>\n",
              "      <td>0</td>\n",
              "      <td>0</td>\n",
              "      <td>0</td>\n",
              "      <td>0</td>\n",
              "      <td>1</td>\n",
              "      <td>0</td>\n",
              "    </tr>\n",
              "    <tr>\n",
              "      <th>2</th>\n",
              "      <td>3</td>\n",
              "      <td>Mario Kart Wii</td>\n",
              "      <td>Wii</td>\n",
              "      <td>2008.0</td>\n",
              "      <td>Nintendo</td>\n",
              "      <td>15.85</td>\n",
              "      <td>12.88</td>\n",
              "      <td>3.79</td>\n",
              "      <td>3.31</td>\n",
              "      <td>35.82</td>\n",
              "      <td>...</td>\n",
              "      <td>0</td>\n",
              "      <td>0</td>\n",
              "      <td>0</td>\n",
              "      <td>0</td>\n",
              "      <td>1</td>\n",
              "      <td>0</td>\n",
              "      <td>0</td>\n",
              "      <td>0</td>\n",
              "      <td>0</td>\n",
              "      <td>0</td>\n",
              "    </tr>\n",
              "    <tr>\n",
              "      <th>3</th>\n",
              "      <td>4</td>\n",
              "      <td>Wii Sports Resort</td>\n",
              "      <td>Wii</td>\n",
              "      <td>2009.0</td>\n",
              "      <td>Nintendo</td>\n",
              "      <td>15.75</td>\n",
              "      <td>11.01</td>\n",
              "      <td>3.28</td>\n",
              "      <td>2.96</td>\n",
              "      <td>33.00</td>\n",
              "      <td>...</td>\n",
              "      <td>0</td>\n",
              "      <td>0</td>\n",
              "      <td>0</td>\n",
              "      <td>0</td>\n",
              "      <td>0</td>\n",
              "      <td>0</td>\n",
              "      <td>0</td>\n",
              "      <td>0</td>\n",
              "      <td>1</td>\n",
              "      <td>0</td>\n",
              "    </tr>\n",
              "    <tr>\n",
              "      <th>4</th>\n",
              "      <td>5</td>\n",
              "      <td>Pokemon Red/Pokemon Blue</td>\n",
              "      <td>GB</td>\n",
              "      <td>1996.0</td>\n",
              "      <td>Nintendo</td>\n",
              "      <td>11.27</td>\n",
              "      <td>8.89</td>\n",
              "      <td>10.22</td>\n",
              "      <td>1.00</td>\n",
              "      <td>31.37</td>\n",
              "      <td>...</td>\n",
              "      <td>0</td>\n",
              "      <td>0</td>\n",
              "      <td>0</td>\n",
              "      <td>0</td>\n",
              "      <td>0</td>\n",
              "      <td>1</td>\n",
              "      <td>0</td>\n",
              "      <td>0</td>\n",
              "      <td>0</td>\n",
              "      <td>0</td>\n",
              "    </tr>\n",
              "    <tr>\n",
              "      <th>6</th>\n",
              "      <td>7</td>\n",
              "      <td>New Super Mario Bros.</td>\n",
              "      <td>DS</td>\n",
              "      <td>2006.0</td>\n",
              "      <td>Nintendo</td>\n",
              "      <td>11.38</td>\n",
              "      <td>9.23</td>\n",
              "      <td>6.50</td>\n",
              "      <td>2.90</td>\n",
              "      <td>30.01</td>\n",
              "      <td>...</td>\n",
              "      <td>0</td>\n",
              "      <td>0</td>\n",
              "      <td>1</td>\n",
              "      <td>0</td>\n",
              "      <td>0</td>\n",
              "      <td>0</td>\n",
              "      <td>0</td>\n",
              "      <td>0</td>\n",
              "      <td>0</td>\n",
              "      <td>0</td>\n",
              "    </tr>\n",
              "    <tr>\n",
              "      <th>...</th>\n",
              "      <td>...</td>\n",
              "      <td>...</td>\n",
              "      <td>...</td>\n",
              "      <td>...</td>\n",
              "      <td>...</td>\n",
              "      <td>...</td>\n",
              "      <td>...</td>\n",
              "      <td>...</td>\n",
              "      <td>...</td>\n",
              "      <td>...</td>\n",
              "      <td>...</td>\n",
              "      <td>...</td>\n",
              "      <td>...</td>\n",
              "      <td>...</td>\n",
              "      <td>...</td>\n",
              "      <td>...</td>\n",
              "      <td>...</td>\n",
              "      <td>...</td>\n",
              "      <td>...</td>\n",
              "      <td>...</td>\n",
              "      <td>...</td>\n",
              "    </tr>\n",
              "    <tr>\n",
              "      <th>16593</th>\n",
              "      <td>16596</td>\n",
              "      <td>Woody Woodpecker in Crazy Castle 5</td>\n",
              "      <td>GBA</td>\n",
              "      <td>2002.0</td>\n",
              "      <td>Kemco</td>\n",
              "      <td>0.01</td>\n",
              "      <td>0.00</td>\n",
              "      <td>0.00</td>\n",
              "      <td>0.00</td>\n",
              "      <td>0.01</td>\n",
              "      <td>...</td>\n",
              "      <td>0</td>\n",
              "      <td>0</td>\n",
              "      <td>1</td>\n",
              "      <td>0</td>\n",
              "      <td>0</td>\n",
              "      <td>0</td>\n",
              "      <td>0</td>\n",
              "      <td>0</td>\n",
              "      <td>0</td>\n",
              "      <td>0</td>\n",
              "    </tr>\n",
              "    <tr>\n",
              "      <th>16594</th>\n",
              "      <td>16597</td>\n",
              "      <td>Men in Black II: Alien Escape</td>\n",
              "      <td>GC</td>\n",
              "      <td>2003.0</td>\n",
              "      <td>Infogrames</td>\n",
              "      <td>0.01</td>\n",
              "      <td>0.00</td>\n",
              "      <td>0.00</td>\n",
              "      <td>0.00</td>\n",
              "      <td>0.01</td>\n",
              "      <td>...</td>\n",
              "      <td>0</td>\n",
              "      <td>0</td>\n",
              "      <td>0</td>\n",
              "      <td>0</td>\n",
              "      <td>0</td>\n",
              "      <td>0</td>\n",
              "      <td>1</td>\n",
              "      <td>0</td>\n",
              "      <td>0</td>\n",
              "      <td>0</td>\n",
              "    </tr>\n",
              "    <tr>\n",
              "      <th>16595</th>\n",
              "      <td>16598</td>\n",
              "      <td>SCORE International Baja 1000: The Official Game</td>\n",
              "      <td>PS2</td>\n",
              "      <td>2008.0</td>\n",
              "      <td>Activision</td>\n",
              "      <td>0.00</td>\n",
              "      <td>0.00</td>\n",
              "      <td>0.00</td>\n",
              "      <td>0.00</td>\n",
              "      <td>0.01</td>\n",
              "      <td>...</td>\n",
              "      <td>0</td>\n",
              "      <td>0</td>\n",
              "      <td>0</td>\n",
              "      <td>0</td>\n",
              "      <td>1</td>\n",
              "      <td>0</td>\n",
              "      <td>0</td>\n",
              "      <td>0</td>\n",
              "      <td>0</td>\n",
              "      <td>0</td>\n",
              "    </tr>\n",
              "    <tr>\n",
              "      <th>16596</th>\n",
              "      <td>16599</td>\n",
              "      <td>Know How 2</td>\n",
              "      <td>DS</td>\n",
              "      <td>2010.0</td>\n",
              "      <td>7G//AMES</td>\n",
              "      <td>0.00</td>\n",
              "      <td>0.01</td>\n",
              "      <td>0.00</td>\n",
              "      <td>0.00</td>\n",
              "      <td>0.01</td>\n",
              "      <td>...</td>\n",
              "      <td>0</td>\n",
              "      <td>0</td>\n",
              "      <td>0</td>\n",
              "      <td>1</td>\n",
              "      <td>0</td>\n",
              "      <td>0</td>\n",
              "      <td>0</td>\n",
              "      <td>0</td>\n",
              "      <td>0</td>\n",
              "      <td>0</td>\n",
              "    </tr>\n",
              "    <tr>\n",
              "      <th>16597</th>\n",
              "      <td>16600</td>\n",
              "      <td>Spirits &amp; Spells</td>\n",
              "      <td>GBA</td>\n",
              "      <td>2003.0</td>\n",
              "      <td>Wanadoo</td>\n",
              "      <td>0.01</td>\n",
              "      <td>0.00</td>\n",
              "      <td>0.00</td>\n",
              "      <td>0.00</td>\n",
              "      <td>0.01</td>\n",
              "      <td>...</td>\n",
              "      <td>0</td>\n",
              "      <td>0</td>\n",
              "      <td>1</td>\n",
              "      <td>0</td>\n",
              "      <td>0</td>\n",
              "      <td>0</td>\n",
              "      <td>0</td>\n",
              "      <td>0</td>\n",
              "      <td>0</td>\n",
              "      <td>0</td>\n",
              "    </tr>\n",
              "  </tbody>\n",
              "</table>\n",
              "<p>16293 rows × 22 columns</p>\n",
              "</div>"
            ],
            "text/plain": [
              "        Rank                                              Name  Platform  \\\n",
              "0          1                                        Wii Sports       Wii   \n",
              "2          3                                    Mario Kart Wii       Wii   \n",
              "3          4                                 Wii Sports Resort       Wii   \n",
              "4          5                          Pokemon Red/Pokemon Blue        GB   \n",
              "6          7                             New Super Mario Bros.        DS   \n",
              "...      ...                                               ...       ...   \n",
              "16593  16596                Woody Woodpecker in Crazy Castle 5       GBA   \n",
              "16594  16597                     Men in Black II: Alien Escape        GC   \n",
              "16595  16598  SCORE International Baja 1000: The Official Game       PS2   \n",
              "16596  16599                                        Know How 2        DS   \n",
              "16597  16600                                  Spirits & Spells       GBA   \n",
              "\n",
              "         Year   Publisher  NA_Sales  EU_Sales  JP_Sales  Other_Sales  \\\n",
              "0      2006.0    Nintendo     41.49     29.02      3.77         8.46   \n",
              "2      2008.0    Nintendo     15.85     12.88      3.79         3.31   \n",
              "3      2009.0    Nintendo     15.75     11.01      3.28         2.96   \n",
              "4      1996.0    Nintendo     11.27      8.89     10.22         1.00   \n",
              "6      2006.0    Nintendo     11.38      9.23      6.50         2.90   \n",
              "...       ...         ...       ...       ...       ...          ...   \n",
              "16593  2002.0       Kemco      0.01      0.00      0.00         0.00   \n",
              "16594  2003.0  Infogrames      0.01      0.00      0.00         0.00   \n",
              "16595  2008.0  Activision      0.00      0.00      0.00         0.00   \n",
              "16596  2010.0    7G//AMES      0.00      0.01      0.00         0.00   \n",
              "16597  2003.0     Wanadoo      0.01      0.00      0.00         0.00   \n",
              "\n",
              "       Global_Sales  ...  Fighting  Misc  Platform  Puzzle  Racing  \\\n",
              "0             82.74  ...         0     0         0       0       0   \n",
              "2             35.82  ...         0     0         0       0       1   \n",
              "3             33.00  ...         0     0         0       0       0   \n",
              "4             31.37  ...         0     0         0       0       0   \n",
              "6             30.01  ...         0     0         1       0       0   \n",
              "...             ...  ...       ...   ...       ...     ...     ...   \n",
              "16593          0.01  ...         0     0         1       0       0   \n",
              "16594          0.01  ...         0     0         0       0       0   \n",
              "16595          0.01  ...         0     0         0       0       1   \n",
              "16596          0.01  ...         0     0         0       1       0   \n",
              "16597          0.01  ...         0     0         1       0       0   \n",
              "\n",
              "       Role-Playing  Shooter  Simulation  Sports  Strategy  \n",
              "0                 0        0           0       1         0  \n",
              "2                 0        0           0       0         0  \n",
              "3                 0        0           0       1         0  \n",
              "4                 1        0           0       0         0  \n",
              "6                 0        0           0       0         0  \n",
              "...             ...      ...         ...     ...       ...  \n",
              "16593             0        0           0       0         0  \n",
              "16594             0        1           0       0         0  \n",
              "16595             0        0           0       0         0  \n",
              "16596             0        0           0       0         0  \n",
              "16597             0        0           0       0         0  \n",
              "\n",
              "[16293 rows x 22 columns]"
            ]
          },
          "execution_count": 42,
          "metadata": {},
          "output_type": "execute_result"
        }
      ],
      "source": [
        "drive"
      ]
    },
    {
      "cell_type": "code",
      "execution_count": null,
      "metadata": {
        "id": "BW-p6jQSE712"
      },
      "outputs": [],
      "source": [
        "#Removing genre column\n",
        "drive.drop(['Genre'],axis=1, inplace=True)"
      ]
    },
    {
      "cell_type": "code",
      "execution_count": null,
      "metadata": {
        "id": "8yKO75zYE712"
      },
      "outputs": [],
      "source": [
        "drive =drive.drop(['Genre'],axis=1)"
      ]
    },
    {
      "cell_type": "markdown",
      "metadata": {
        "id": "jyxH-_XSE713"
      },
      "source": [
        "Reduce dimension and having more information"
      ]
    },
    {
      "cell_type": "markdown",
      "metadata": {
        "id": "fTh_0IGME713"
      },
      "source": [
        "Importing the important libraries - numpy, pandas, matplotlib, seaborn\n",
        "Import dataset pd.read_csv\n",
        "Basic function of dataframe Info, shape, head, tail, describe\n",
        "Check for null values remove them\n",
        "Check for outliers and remove them\n",
        "Analyze your variables unique, nuniqe, value counts\n",
        "Data visualization Univariate, bivariate, multivariate\n",
        "feature Engineering - Dealing with categorical variables - label encoder, one hot encoding\n",
        "Removing all unimportant columns\n",
        "Data manipulation adding new columns, deriving new column from old columns\n",
        "Feature selection- Selecting features that we will use for model building\n",
        "Scaling \n",
        "Diving my dataset into features and target\n",
        "Dimensionality reduction - PCA\n",
        "Train test splitting\n",
        "Model building"
      ]
    },
    {
      "cell_type": "markdown",
      "metadata": {
        "id": "eJx9mF2AE713"
      },
      "source": [
        "Feature Selection and Feature Engineering\n",
        "Feature Engineering- It is the process to add, delete and manipulate the columns accordingly to get best feature out of my dataset.\n",
        "Feature Selection - It is the process to consider only the important column before model building."
      ]
    },
    {
      "cell_type": "code",
      "execution_count": null,
      "metadata": {
        "id": "56RRtNpmE713",
        "outputId": "d01fb058-9628-4b15-f1cd-1031f2472272"
      },
      "outputs": [
        {
          "data": {
            "text/html": [
              "<div>\n",
              "<style scoped>\n",
              "    .dataframe tbody tr th:only-of-type {\n",
              "        vertical-align: middle;\n",
              "    }\n",
              "\n",
              "    .dataframe tbody tr th {\n",
              "        vertical-align: top;\n",
              "    }\n",
              "\n",
              "    .dataframe thead th {\n",
              "        text-align: right;\n",
              "    }\n",
              "</style>\n",
              "<table border=\"1\" class=\"dataframe\">\n",
              "  <thead>\n",
              "    <tr style=\"text-align: right;\">\n",
              "      <th></th>\n",
              "      <th>index</th>\n",
              "      <th>Rank</th>\n",
              "      <th>Name</th>\n",
              "      <th>Platform</th>\n",
              "      <th>Year</th>\n",
              "      <th>Genre</th>\n",
              "      <th>Publisher</th>\n",
              "      <th>NA_Sales</th>\n",
              "      <th>EU_Sales</th>\n",
              "      <th>JP_Sales</th>\n",
              "      <th>Other_Sales</th>\n",
              "      <th>Global_Sales</th>\n",
              "    </tr>\n",
              "  </thead>\n",
              "  <tbody>\n",
              "    <tr>\n",
              "      <th>0</th>\n",
              "      <td>0</td>\n",
              "      <td>1</td>\n",
              "      <td>Wii Sports</td>\n",
              "      <td>Wii</td>\n",
              "      <td>2006.0</td>\n",
              "      <td>Sports</td>\n",
              "      <td>Nintendo</td>\n",
              "      <td>41.49</td>\n",
              "      <td>29.02</td>\n",
              "      <td>3.77</td>\n",
              "      <td>8.46</td>\n",
              "      <td>82.74</td>\n",
              "    </tr>\n",
              "    <tr>\n",
              "      <th>2</th>\n",
              "      <td>2</td>\n",
              "      <td>3</td>\n",
              "      <td>Mario Kart Wii</td>\n",
              "      <td>Wii</td>\n",
              "      <td>2008.0</td>\n",
              "      <td>Racing</td>\n",
              "      <td>Nintendo</td>\n",
              "      <td>15.85</td>\n",
              "      <td>12.88</td>\n",
              "      <td>3.79</td>\n",
              "      <td>3.31</td>\n",
              "      <td>35.82</td>\n",
              "    </tr>\n",
              "    <tr>\n",
              "      <th>3</th>\n",
              "      <td>3</td>\n",
              "      <td>4</td>\n",
              "      <td>Wii Sports Resort</td>\n",
              "      <td>Wii</td>\n",
              "      <td>2009.0</td>\n",
              "      <td>Sports</td>\n",
              "      <td>Nintendo</td>\n",
              "      <td>15.75</td>\n",
              "      <td>11.01</td>\n",
              "      <td>3.28</td>\n",
              "      <td>2.96</td>\n",
              "      <td>33.00</td>\n",
              "    </tr>\n",
              "    <tr>\n",
              "      <th>4</th>\n",
              "      <td>4</td>\n",
              "      <td>5</td>\n",
              "      <td>Pokemon Red/Pokemon Blue</td>\n",
              "      <td>GB</td>\n",
              "      <td>1996.0</td>\n",
              "      <td>Role-Playing</td>\n",
              "      <td>Nintendo</td>\n",
              "      <td>11.27</td>\n",
              "      <td>8.89</td>\n",
              "      <td>10.22</td>\n",
              "      <td>1.00</td>\n",
              "      <td>31.37</td>\n",
              "    </tr>\n",
              "    <tr>\n",
              "      <th>6</th>\n",
              "      <td>6</td>\n",
              "      <td>7</td>\n",
              "      <td>New Super Mario Bros.</td>\n",
              "      <td>DS</td>\n",
              "      <td>2006.0</td>\n",
              "      <td>Platform</td>\n",
              "      <td>Nintendo</td>\n",
              "      <td>11.38</td>\n",
              "      <td>9.23</td>\n",
              "      <td>6.50</td>\n",
              "      <td>2.90</td>\n",
              "      <td>30.01</td>\n",
              "    </tr>\n",
              "    <tr>\n",
              "      <th>...</th>\n",
              "      <td>...</td>\n",
              "      <td>...</td>\n",
              "      <td>...</td>\n",
              "      <td>...</td>\n",
              "      <td>...</td>\n",
              "      <td>...</td>\n",
              "      <td>...</td>\n",
              "      <td>...</td>\n",
              "      <td>...</td>\n",
              "      <td>...</td>\n",
              "      <td>...</td>\n",
              "      <td>...</td>\n",
              "    </tr>\n",
              "    <tr>\n",
              "      <th>16286</th>\n",
              "      <td>16593</td>\n",
              "      <td>16596</td>\n",
              "      <td>Woody Woodpecker in Crazy Castle 5</td>\n",
              "      <td>GBA</td>\n",
              "      <td>2002.0</td>\n",
              "      <td>Platform</td>\n",
              "      <td>Kemco</td>\n",
              "      <td>0.01</td>\n",
              "      <td>0.00</td>\n",
              "      <td>0.00</td>\n",
              "      <td>0.00</td>\n",
              "      <td>0.01</td>\n",
              "    </tr>\n",
              "    <tr>\n",
              "      <th>16287</th>\n",
              "      <td>16594</td>\n",
              "      <td>16597</td>\n",
              "      <td>Men in Black II: Alien Escape</td>\n",
              "      <td>GC</td>\n",
              "      <td>2003.0</td>\n",
              "      <td>Shooter</td>\n",
              "      <td>Infogrames</td>\n",
              "      <td>0.01</td>\n",
              "      <td>0.00</td>\n",
              "      <td>0.00</td>\n",
              "      <td>0.00</td>\n",
              "      <td>0.01</td>\n",
              "    </tr>\n",
              "    <tr>\n",
              "      <th>16288</th>\n",
              "      <td>16595</td>\n",
              "      <td>16598</td>\n",
              "      <td>SCORE International Baja 1000: The Official Game</td>\n",
              "      <td>PS2</td>\n",
              "      <td>2008.0</td>\n",
              "      <td>Racing</td>\n",
              "      <td>Activision</td>\n",
              "      <td>0.00</td>\n",
              "      <td>0.00</td>\n",
              "      <td>0.00</td>\n",
              "      <td>0.00</td>\n",
              "      <td>0.01</td>\n",
              "    </tr>\n",
              "    <tr>\n",
              "      <th>16289</th>\n",
              "      <td>16596</td>\n",
              "      <td>16599</td>\n",
              "      <td>Know How 2</td>\n",
              "      <td>DS</td>\n",
              "      <td>2010.0</td>\n",
              "      <td>Puzzle</td>\n",
              "      <td>7G//AMES</td>\n",
              "      <td>0.00</td>\n",
              "      <td>0.01</td>\n",
              "      <td>0.00</td>\n",
              "      <td>0.00</td>\n",
              "      <td>0.01</td>\n",
              "    </tr>\n",
              "    <tr>\n",
              "      <th>16290</th>\n",
              "      <td>16597</td>\n",
              "      <td>16600</td>\n",
              "      <td>Spirits &amp; Spells</td>\n",
              "      <td>GBA</td>\n",
              "      <td>2003.0</td>\n",
              "      <td>Platform</td>\n",
              "      <td>Wanadoo</td>\n",
              "      <td>0.01</td>\n",
              "      <td>0.00</td>\n",
              "      <td>0.00</td>\n",
              "      <td>0.00</td>\n",
              "      <td>0.01</td>\n",
              "    </tr>\n",
              "  </tbody>\n",
              "</table>\n",
              "<p>15986 rows × 12 columns</p>\n",
              "</div>"
            ],
            "text/plain": [
              "       index   Rank                                              Name  \\\n",
              "0          0      1                                        Wii Sports   \n",
              "2          2      3                                    Mario Kart Wii   \n",
              "3          3      4                                 Wii Sports Resort   \n",
              "4          4      5                          Pokemon Red/Pokemon Blue   \n",
              "6          6      7                             New Super Mario Bros.   \n",
              "...      ...    ...                                               ...   \n",
              "16286  16593  16596                Woody Woodpecker in Crazy Castle 5   \n",
              "16287  16594  16597                     Men in Black II: Alien Escape   \n",
              "16288  16595  16598  SCORE International Baja 1000: The Official Game   \n",
              "16289  16596  16599                                        Know How 2   \n",
              "16290  16597  16600                                  Spirits & Spells   \n",
              "\n",
              "      Platform    Year         Genre   Publisher  NA_Sales  EU_Sales  \\\n",
              "0          Wii  2006.0        Sports    Nintendo     41.49     29.02   \n",
              "2          Wii  2008.0        Racing    Nintendo     15.85     12.88   \n",
              "3          Wii  2009.0        Sports    Nintendo     15.75     11.01   \n",
              "4           GB  1996.0  Role-Playing    Nintendo     11.27      8.89   \n",
              "6           DS  2006.0      Platform    Nintendo     11.38      9.23   \n",
              "...        ...     ...           ...         ...       ...       ...   \n",
              "16286      GBA  2002.0      Platform       Kemco      0.01      0.00   \n",
              "16287       GC  2003.0       Shooter  Infogrames      0.01      0.00   \n",
              "16288      PS2  2008.0        Racing  Activision      0.00      0.00   \n",
              "16289       DS  2010.0        Puzzle    7G//AMES      0.00      0.01   \n",
              "16290      GBA  2003.0      Platform     Wanadoo      0.01      0.00   \n",
              "\n",
              "       JP_Sales  Other_Sales  Global_Sales  \n",
              "0          3.77         8.46         82.74  \n",
              "2          3.79         3.31         35.82  \n",
              "3          3.28         2.96         33.00  \n",
              "4         10.22         1.00         31.37  \n",
              "6          6.50         2.90         30.01  \n",
              "...         ...          ...           ...  \n",
              "16286      0.00         0.00          0.01  \n",
              "16287      0.00         0.00          0.01  \n",
              "16288      0.00         0.00          0.01  \n",
              "16289      0.00         0.00          0.01  \n",
              "16290      0.00         0.00          0.01  \n",
              "\n",
              "[15986 rows x 12 columns]"
            ]
          },
          "execution_count": 12,
          "metadata": {},
          "output_type": "execute_result"
        }
      ],
      "source": [
        "drive"
      ]
    },
    {
      "cell_type": "code",
      "execution_count": null,
      "metadata": {
        "id": "IApVGPh5E713"
      },
      "outputs": [],
      "source": [
        "#Deleting columns from my original dataset\n",
        "drive =drive.drop(['index','Name','Rank'],axis=1)"
      ]
    },
    {
      "cell_type": "code",
      "execution_count": null,
      "metadata": {
        "id": "aXpnTnmfE713"
      },
      "outputs": [],
      "source": [
        "#Adding new Name column to my new dataset from older dataset.\n",
        "New_drive['Name_'] = drive['Name']\n"
      ]
    },
    {
      "cell_type": "code",
      "execution_count": null,
      "metadata": {
        "id": "nLYG4wLPE714"
      },
      "outputs": [],
      "source": [
        "New_drive['Index_value'] = drive['index']"
      ]
    },
    {
      "cell_type": "code",
      "execution_count": null,
      "metadata": {
        "id": "bKq6KeAUE714"
      },
      "outputs": [],
      "source": [
        "#Adding index column to my dataset\n",
        "New_drive=New_drive.reset_index()"
      ]
    },
    {
      "cell_type": "code",
      "execution_count": null,
      "metadata": {
        "id": "YQ3vRRMfE714"
      },
      "outputs": [],
      "source": []
    },
    {
      "cell_type": "code",
      "execution_count": null,
      "metadata": {
        "id": "Qamaut3rE714",
        "outputId": "94f96d1d-40db-487c-f632-98c25a8d2755"
      },
      "outputs": [
        {
          "data": {
            "text/html": [
              "<div>\n",
              "<style scoped>\n",
              "    .dataframe tbody tr th:only-of-type {\n",
              "        vertical-align: middle;\n",
              "    }\n",
              "\n",
              "    .dataframe tbody tr th {\n",
              "        vertical-align: top;\n",
              "    }\n",
              "\n",
              "    .dataframe thead th {\n",
              "        text-align: right;\n",
              "    }\n",
              "</style>\n",
              "<table border=\"1\" class=\"dataframe\">\n",
              "  <thead>\n",
              "    <tr style=\"text-align: right;\">\n",
              "      <th></th>\n",
              "      <th>index</th>\n",
              "      <th>Platform</th>\n",
              "      <th>Year</th>\n",
              "      <th>Genre</th>\n",
              "      <th>Publisher</th>\n",
              "      <th>NA_Sales</th>\n",
              "      <th>EU_Sales</th>\n",
              "      <th>JP_Sales</th>\n",
              "      <th>Other_Sales</th>\n",
              "      <th>Global_Sales</th>\n",
              "      <th>Name</th>\n",
              "      <th>Name_</th>\n",
              "      <th>Index_value</th>\n",
              "    </tr>\n",
              "  </thead>\n",
              "  <tbody>\n",
              "    <tr>\n",
              "      <th>0</th>\n",
              "      <td>0</td>\n",
              "      <td>Wii</td>\n",
              "      <td>2006.0</td>\n",
              "      <td>Sports</td>\n",
              "      <td>Nintendo</td>\n",
              "      <td>41.49</td>\n",
              "      <td>29.02</td>\n",
              "      <td>3.77</td>\n",
              "      <td>8.46</td>\n",
              "      <td>82.74</td>\n",
              "      <td>Wii Sports</td>\n",
              "      <td>Wii Sports</td>\n",
              "      <td>0</td>\n",
              "    </tr>\n",
              "    <tr>\n",
              "      <th>1</th>\n",
              "      <td>2</td>\n",
              "      <td>Wii</td>\n",
              "      <td>2008.0</td>\n",
              "      <td>Racing</td>\n",
              "      <td>Nintendo</td>\n",
              "      <td>15.85</td>\n",
              "      <td>12.88</td>\n",
              "      <td>3.79</td>\n",
              "      <td>3.31</td>\n",
              "      <td>35.82</td>\n",
              "      <td>Mario Kart Wii</td>\n",
              "      <td>Mario Kart Wii</td>\n",
              "      <td>2</td>\n",
              "    </tr>\n",
              "    <tr>\n",
              "      <th>2</th>\n",
              "      <td>3</td>\n",
              "      <td>Wii</td>\n",
              "      <td>2009.0</td>\n",
              "      <td>Sports</td>\n",
              "      <td>Nintendo</td>\n",
              "      <td>15.75</td>\n",
              "      <td>11.01</td>\n",
              "      <td>3.28</td>\n",
              "      <td>2.96</td>\n",
              "      <td>33.00</td>\n",
              "      <td>Wii Sports Resort</td>\n",
              "      <td>Wii Sports Resort</td>\n",
              "      <td>3</td>\n",
              "    </tr>\n",
              "    <tr>\n",
              "      <th>3</th>\n",
              "      <td>4</td>\n",
              "      <td>GB</td>\n",
              "      <td>1996.0</td>\n",
              "      <td>Role-Playing</td>\n",
              "      <td>Nintendo</td>\n",
              "      <td>11.27</td>\n",
              "      <td>8.89</td>\n",
              "      <td>10.22</td>\n",
              "      <td>1.00</td>\n",
              "      <td>31.37</td>\n",
              "      <td>Pokemon Red/Pokemon Blue</td>\n",
              "      <td>Pokemon Red/Pokemon Blue</td>\n",
              "      <td>4</td>\n",
              "    </tr>\n",
              "    <tr>\n",
              "      <th>4</th>\n",
              "      <td>6</td>\n",
              "      <td>DS</td>\n",
              "      <td>2006.0</td>\n",
              "      <td>Platform</td>\n",
              "      <td>Nintendo</td>\n",
              "      <td>11.38</td>\n",
              "      <td>9.23</td>\n",
              "      <td>6.50</td>\n",
              "      <td>2.90</td>\n",
              "      <td>30.01</td>\n",
              "      <td>New Super Mario Bros.</td>\n",
              "      <td>New Super Mario Bros.</td>\n",
              "      <td>6</td>\n",
              "    </tr>\n",
              "    <tr>\n",
              "      <th>...</th>\n",
              "      <td>...</td>\n",
              "      <td>...</td>\n",
              "      <td>...</td>\n",
              "      <td>...</td>\n",
              "      <td>...</td>\n",
              "      <td>...</td>\n",
              "      <td>...</td>\n",
              "      <td>...</td>\n",
              "      <td>...</td>\n",
              "      <td>...</td>\n",
              "      <td>...</td>\n",
              "      <td>...</td>\n",
              "      <td>...</td>\n",
              "    </tr>\n",
              "    <tr>\n",
              "      <th>15981</th>\n",
              "      <td>16286</td>\n",
              "      <td>GBA</td>\n",
              "      <td>2002.0</td>\n",
              "      <td>Platform</td>\n",
              "      <td>Kemco</td>\n",
              "      <td>0.01</td>\n",
              "      <td>0.00</td>\n",
              "      <td>0.00</td>\n",
              "      <td>0.00</td>\n",
              "      <td>0.01</td>\n",
              "      <td>Woody Woodpecker in Crazy Castle 5</td>\n",
              "      <td>Woody Woodpecker in Crazy Castle 5</td>\n",
              "      <td>16593</td>\n",
              "    </tr>\n",
              "    <tr>\n",
              "      <th>15982</th>\n",
              "      <td>16287</td>\n",
              "      <td>GC</td>\n",
              "      <td>2003.0</td>\n",
              "      <td>Shooter</td>\n",
              "      <td>Infogrames</td>\n",
              "      <td>0.01</td>\n",
              "      <td>0.00</td>\n",
              "      <td>0.00</td>\n",
              "      <td>0.00</td>\n",
              "      <td>0.01</td>\n",
              "      <td>Men in Black II: Alien Escape</td>\n",
              "      <td>Men in Black II: Alien Escape</td>\n",
              "      <td>16594</td>\n",
              "    </tr>\n",
              "    <tr>\n",
              "      <th>15983</th>\n",
              "      <td>16288</td>\n",
              "      <td>PS2</td>\n",
              "      <td>2008.0</td>\n",
              "      <td>Racing</td>\n",
              "      <td>Activision</td>\n",
              "      <td>0.00</td>\n",
              "      <td>0.00</td>\n",
              "      <td>0.00</td>\n",
              "      <td>0.00</td>\n",
              "      <td>0.01</td>\n",
              "      <td>SCORE International Baja 1000: The Official Game</td>\n",
              "      <td>SCORE International Baja 1000: The Official Game</td>\n",
              "      <td>16595</td>\n",
              "    </tr>\n",
              "    <tr>\n",
              "      <th>15984</th>\n",
              "      <td>16289</td>\n",
              "      <td>DS</td>\n",
              "      <td>2010.0</td>\n",
              "      <td>Puzzle</td>\n",
              "      <td>7G//AMES</td>\n",
              "      <td>0.00</td>\n",
              "      <td>0.01</td>\n",
              "      <td>0.00</td>\n",
              "      <td>0.00</td>\n",
              "      <td>0.01</td>\n",
              "      <td>Know How 2</td>\n",
              "      <td>Know How 2</td>\n",
              "      <td>16596</td>\n",
              "    </tr>\n",
              "    <tr>\n",
              "      <th>15985</th>\n",
              "      <td>16290</td>\n",
              "      <td>GBA</td>\n",
              "      <td>2003.0</td>\n",
              "      <td>Platform</td>\n",
              "      <td>Wanadoo</td>\n",
              "      <td>0.01</td>\n",
              "      <td>0.00</td>\n",
              "      <td>0.00</td>\n",
              "      <td>0.00</td>\n",
              "      <td>0.01</td>\n",
              "      <td>Spirits &amp; Spells</td>\n",
              "      <td>Spirits &amp; Spells</td>\n",
              "      <td>16597</td>\n",
              "    </tr>\n",
              "  </tbody>\n",
              "</table>\n",
              "<p>15986 rows × 13 columns</p>\n",
              "</div>"
            ],
            "text/plain": [
              "       index Platform    Year         Genre   Publisher  NA_Sales  EU_Sales  \\\n",
              "0          0      Wii  2006.0        Sports    Nintendo     41.49     29.02   \n",
              "1          2      Wii  2008.0        Racing    Nintendo     15.85     12.88   \n",
              "2          3      Wii  2009.0        Sports    Nintendo     15.75     11.01   \n",
              "3          4       GB  1996.0  Role-Playing    Nintendo     11.27      8.89   \n",
              "4          6       DS  2006.0      Platform    Nintendo     11.38      9.23   \n",
              "...      ...      ...     ...           ...         ...       ...       ...   \n",
              "15981  16286      GBA  2002.0      Platform       Kemco      0.01      0.00   \n",
              "15982  16287       GC  2003.0       Shooter  Infogrames      0.01      0.00   \n",
              "15983  16288      PS2  2008.0        Racing  Activision      0.00      0.00   \n",
              "15984  16289       DS  2010.0        Puzzle    7G//AMES      0.00      0.01   \n",
              "15985  16290      GBA  2003.0      Platform     Wanadoo      0.01      0.00   \n",
              "\n",
              "       JP_Sales  Other_Sales  Global_Sales  \\\n",
              "0          3.77         8.46         82.74   \n",
              "1          3.79         3.31         35.82   \n",
              "2          3.28         2.96         33.00   \n",
              "3         10.22         1.00         31.37   \n",
              "4          6.50         2.90         30.01   \n",
              "...         ...          ...           ...   \n",
              "15981      0.00         0.00          0.01   \n",
              "15982      0.00         0.00          0.01   \n",
              "15983      0.00         0.00          0.01   \n",
              "15984      0.00         0.00          0.01   \n",
              "15985      0.00         0.00          0.01   \n",
              "\n",
              "                                                   Name  \\\n",
              "0                                            Wii Sports   \n",
              "1                                        Mario Kart Wii   \n",
              "2                                     Wii Sports Resort   \n",
              "3                              Pokemon Red/Pokemon Blue   \n",
              "4                                 New Super Mario Bros.   \n",
              "...                                                 ...   \n",
              "15981                Woody Woodpecker in Crazy Castle 5   \n",
              "15982                     Men in Black II: Alien Escape   \n",
              "15983  SCORE International Baja 1000: The Official Game   \n",
              "15984                                        Know How 2   \n",
              "15985                                  Spirits & Spells   \n",
              "\n",
              "                                                  Name_  Index_value  \n",
              "0                                            Wii Sports            0  \n",
              "1                                        Mario Kart Wii            2  \n",
              "2                                     Wii Sports Resort            3  \n",
              "3                              Pokemon Red/Pokemon Blue            4  \n",
              "4                                 New Super Mario Bros.            6  \n",
              "...                                                 ...          ...  \n",
              "15981                Woody Woodpecker in Crazy Castle 5        16593  \n",
              "15982                     Men in Black II: Alien Escape        16594  \n",
              "15983  SCORE International Baja 1000: The Official Game        16595  \n",
              "15984                                        Know How 2        16596  \n",
              "15985                                  Spirits & Spells        16597  \n",
              "\n",
              "[15986 rows x 13 columns]"
            ]
          },
          "execution_count": 26,
          "metadata": {},
          "output_type": "execute_result"
        }
      ],
      "source": [
        "New_drive"
      ]
    },
    {
      "cell_type": "code",
      "execution_count": null,
      "metadata": {
        "id": "RHrC8rVkE715",
        "outputId": "c57cb1b0-e187-402b-c5ed-1b7dc0649978"
      },
      "outputs": [
        {
          "data": {
            "text/html": [
              "<div>\n",
              "<style scoped>\n",
              "    .dataframe tbody tr th:only-of-type {\n",
              "        vertical-align: middle;\n",
              "    }\n",
              "\n",
              "    .dataframe tbody tr th {\n",
              "        vertical-align: top;\n",
              "    }\n",
              "\n",
              "    .dataframe thead th {\n",
              "        text-align: right;\n",
              "    }\n",
              "</style>\n",
              "<table border=\"1\" class=\"dataframe\">\n",
              "  <thead>\n",
              "    <tr style=\"text-align: right;\">\n",
              "      <th></th>\n",
              "      <th>Platform</th>\n",
              "      <th>Year</th>\n",
              "      <th>Genre</th>\n",
              "      <th>Publisher</th>\n",
              "      <th>NA_Sales</th>\n",
              "      <th>EU_Sales</th>\n",
              "      <th>JP_Sales</th>\n",
              "      <th>Other_Sales</th>\n",
              "      <th>Global_Sales</th>\n",
              "    </tr>\n",
              "  </thead>\n",
              "  <tbody>\n",
              "    <tr>\n",
              "      <th>0</th>\n",
              "      <td>Wii</td>\n",
              "      <td>2006.0</td>\n",
              "      <td>Sports</td>\n",
              "      <td>Nintendo</td>\n",
              "      <td>41.49</td>\n",
              "      <td>29.02</td>\n",
              "      <td>3.77</td>\n",
              "      <td>8.46</td>\n",
              "      <td>82.74</td>\n",
              "    </tr>\n",
              "    <tr>\n",
              "      <th>2</th>\n",
              "      <td>Wii</td>\n",
              "      <td>2008.0</td>\n",
              "      <td>Racing</td>\n",
              "      <td>Nintendo</td>\n",
              "      <td>15.85</td>\n",
              "      <td>12.88</td>\n",
              "      <td>3.79</td>\n",
              "      <td>3.31</td>\n",
              "      <td>35.82</td>\n",
              "    </tr>\n",
              "    <tr>\n",
              "      <th>3</th>\n",
              "      <td>Wii</td>\n",
              "      <td>2009.0</td>\n",
              "      <td>Sports</td>\n",
              "      <td>Nintendo</td>\n",
              "      <td>15.75</td>\n",
              "      <td>11.01</td>\n",
              "      <td>3.28</td>\n",
              "      <td>2.96</td>\n",
              "      <td>33.00</td>\n",
              "    </tr>\n",
              "    <tr>\n",
              "      <th>4</th>\n",
              "      <td>GB</td>\n",
              "      <td>1996.0</td>\n",
              "      <td>Role-Playing</td>\n",
              "      <td>Nintendo</td>\n",
              "      <td>11.27</td>\n",
              "      <td>8.89</td>\n",
              "      <td>10.22</td>\n",
              "      <td>1.00</td>\n",
              "      <td>31.37</td>\n",
              "    </tr>\n",
              "    <tr>\n",
              "      <th>6</th>\n",
              "      <td>DS</td>\n",
              "      <td>2006.0</td>\n",
              "      <td>Platform</td>\n",
              "      <td>Nintendo</td>\n",
              "      <td>11.38</td>\n",
              "      <td>9.23</td>\n",
              "      <td>6.50</td>\n",
              "      <td>2.90</td>\n",
              "      <td>30.01</td>\n",
              "    </tr>\n",
              "    <tr>\n",
              "      <th>...</th>\n",
              "      <td>...</td>\n",
              "      <td>...</td>\n",
              "      <td>...</td>\n",
              "      <td>...</td>\n",
              "      <td>...</td>\n",
              "      <td>...</td>\n",
              "      <td>...</td>\n",
              "      <td>...</td>\n",
              "      <td>...</td>\n",
              "    </tr>\n",
              "    <tr>\n",
              "      <th>16286</th>\n",
              "      <td>GBA</td>\n",
              "      <td>2002.0</td>\n",
              "      <td>Platform</td>\n",
              "      <td>Kemco</td>\n",
              "      <td>0.01</td>\n",
              "      <td>0.00</td>\n",
              "      <td>0.00</td>\n",
              "      <td>0.00</td>\n",
              "      <td>0.01</td>\n",
              "    </tr>\n",
              "    <tr>\n",
              "      <th>16287</th>\n",
              "      <td>GC</td>\n",
              "      <td>2003.0</td>\n",
              "      <td>Shooter</td>\n",
              "      <td>Infogrames</td>\n",
              "      <td>0.01</td>\n",
              "      <td>0.00</td>\n",
              "      <td>0.00</td>\n",
              "      <td>0.00</td>\n",
              "      <td>0.01</td>\n",
              "    </tr>\n",
              "    <tr>\n",
              "      <th>16288</th>\n",
              "      <td>PS2</td>\n",
              "      <td>2008.0</td>\n",
              "      <td>Racing</td>\n",
              "      <td>Activision</td>\n",
              "      <td>0.00</td>\n",
              "      <td>0.00</td>\n",
              "      <td>0.00</td>\n",
              "      <td>0.00</td>\n",
              "      <td>0.01</td>\n",
              "    </tr>\n",
              "    <tr>\n",
              "      <th>16289</th>\n",
              "      <td>DS</td>\n",
              "      <td>2010.0</td>\n",
              "      <td>Puzzle</td>\n",
              "      <td>7G//AMES</td>\n",
              "      <td>0.00</td>\n",
              "      <td>0.01</td>\n",
              "      <td>0.00</td>\n",
              "      <td>0.00</td>\n",
              "      <td>0.01</td>\n",
              "    </tr>\n",
              "    <tr>\n",
              "      <th>16290</th>\n",
              "      <td>GBA</td>\n",
              "      <td>2003.0</td>\n",
              "      <td>Platform</td>\n",
              "      <td>Wanadoo</td>\n",
              "      <td>0.01</td>\n",
              "      <td>0.00</td>\n",
              "      <td>0.00</td>\n",
              "      <td>0.00</td>\n",
              "      <td>0.01</td>\n",
              "    </tr>\n",
              "  </tbody>\n",
              "</table>\n",
              "<p>15986 rows × 9 columns</p>\n",
              "</div>"
            ],
            "text/plain": [
              "      Platform    Year         Genre   Publisher  NA_Sales  EU_Sales  \\\n",
              "0          Wii  2006.0        Sports    Nintendo     41.49     29.02   \n",
              "2          Wii  2008.0        Racing    Nintendo     15.85     12.88   \n",
              "3          Wii  2009.0        Sports    Nintendo     15.75     11.01   \n",
              "4           GB  1996.0  Role-Playing    Nintendo     11.27      8.89   \n",
              "6           DS  2006.0      Platform    Nintendo     11.38      9.23   \n",
              "...        ...     ...           ...         ...       ...       ...   \n",
              "16286      GBA  2002.0      Platform       Kemco      0.01      0.00   \n",
              "16287       GC  2003.0       Shooter  Infogrames      0.01      0.00   \n",
              "16288      PS2  2008.0        Racing  Activision      0.00      0.00   \n",
              "16289       DS  2010.0        Puzzle    7G//AMES      0.00      0.01   \n",
              "16290      GBA  2003.0      Platform     Wanadoo      0.01      0.00   \n",
              "\n",
              "       JP_Sales  Other_Sales  Global_Sales  \n",
              "0          3.77         8.46         82.74  \n",
              "2          3.79         3.31         35.82  \n",
              "3          3.28         2.96         33.00  \n",
              "4         10.22         1.00         31.37  \n",
              "6          6.50         2.90         30.01  \n",
              "...         ...          ...           ...  \n",
              "16286      0.00         0.00          0.01  \n",
              "16287      0.00         0.00          0.01  \n",
              "16288      0.00         0.00          0.01  \n",
              "16289      0.00         0.00          0.01  \n",
              "16290      0.00         0.00          0.01  \n",
              "\n",
              "[15986 rows x 9 columns]"
            ]
          },
          "execution_count": 28,
          "metadata": {},
          "output_type": "execute_result"
        }
      ],
      "source": [
        "drive"
      ]
    },
    {
      "cell_type": "code",
      "execution_count": null,
      "metadata": {
        "id": "MwDS8jRUE715"
      },
      "outputs": [],
      "source": [
        "drive['Total_sales']= drive['NA_Sales']+drive['EU_Sales']+drive['JP_Sales']+drive['Other_Sales']"
      ]
    },
    {
      "cell_type": "code",
      "execution_count": null,
      "metadata": {
        "id": "IoI89DRRE716"
      },
      "outputs": [],
      "source": []
    },
    {
      "cell_type": "code",
      "execution_count": null,
      "metadata": {
        "id": "YXAsLZTtE716",
        "outputId": "9e39a9f4-ea4e-437e-825f-c030fc01496f"
      },
      "outputs": [
        {
          "data": {
            "text/html": [
              "<div>\n",
              "<style scoped>\n",
              "    .dataframe tbody tr th:only-of-type {\n",
              "        vertical-align: middle;\n",
              "    }\n",
              "\n",
              "    .dataframe tbody tr th {\n",
              "        vertical-align: top;\n",
              "    }\n",
              "\n",
              "    .dataframe thead th {\n",
              "        text-align: right;\n",
              "    }\n",
              "</style>\n",
              "<table border=\"1\" class=\"dataframe\">\n",
              "  <thead>\n",
              "    <tr style=\"text-align: right;\">\n",
              "      <th></th>\n",
              "      <th>Platform</th>\n",
              "      <th>Year</th>\n",
              "      <th>Genre</th>\n",
              "      <th>Publisher</th>\n",
              "      <th>NA_Sales</th>\n",
              "      <th>EU_Sales</th>\n",
              "      <th>JP_Sales</th>\n",
              "      <th>Other_Sales</th>\n",
              "      <th>Global_Sales</th>\n",
              "      <th>Total_sales</th>\n",
              "    </tr>\n",
              "  </thead>\n",
              "  <tbody>\n",
              "    <tr>\n",
              "      <th>0</th>\n",
              "      <td>Wii</td>\n",
              "      <td>2006.0</td>\n",
              "      <td>Sports</td>\n",
              "      <td>Nintendo</td>\n",
              "      <td>41.49</td>\n",
              "      <td>29.02</td>\n",
              "      <td>3.77</td>\n",
              "      <td>8.46</td>\n",
              "      <td>82.74</td>\n",
              "      <td>82.74</td>\n",
              "    </tr>\n",
              "    <tr>\n",
              "      <th>2</th>\n",
              "      <td>Wii</td>\n",
              "      <td>2008.0</td>\n",
              "      <td>Racing</td>\n",
              "      <td>Nintendo</td>\n",
              "      <td>15.85</td>\n",
              "      <td>12.88</td>\n",
              "      <td>3.79</td>\n",
              "      <td>3.31</td>\n",
              "      <td>35.82</td>\n",
              "      <td>35.83</td>\n",
              "    </tr>\n",
              "    <tr>\n",
              "      <th>3</th>\n",
              "      <td>Wii</td>\n",
              "      <td>2009.0</td>\n",
              "      <td>Sports</td>\n",
              "      <td>Nintendo</td>\n",
              "      <td>15.75</td>\n",
              "      <td>11.01</td>\n",
              "      <td>3.28</td>\n",
              "      <td>2.96</td>\n",
              "      <td>33.00</td>\n",
              "      <td>33.00</td>\n",
              "    </tr>\n",
              "    <tr>\n",
              "      <th>4</th>\n",
              "      <td>GB</td>\n",
              "      <td>1996.0</td>\n",
              "      <td>Role-Playing</td>\n",
              "      <td>Nintendo</td>\n",
              "      <td>11.27</td>\n",
              "      <td>8.89</td>\n",
              "      <td>10.22</td>\n",
              "      <td>1.00</td>\n",
              "      <td>31.37</td>\n",
              "      <td>31.38</td>\n",
              "    </tr>\n",
              "    <tr>\n",
              "      <th>6</th>\n",
              "      <td>DS</td>\n",
              "      <td>2006.0</td>\n",
              "      <td>Platform</td>\n",
              "      <td>Nintendo</td>\n",
              "      <td>11.38</td>\n",
              "      <td>9.23</td>\n",
              "      <td>6.50</td>\n",
              "      <td>2.90</td>\n",
              "      <td>30.01</td>\n",
              "      <td>30.01</td>\n",
              "    </tr>\n",
              "    <tr>\n",
              "      <th>...</th>\n",
              "      <td>...</td>\n",
              "      <td>...</td>\n",
              "      <td>...</td>\n",
              "      <td>...</td>\n",
              "      <td>...</td>\n",
              "      <td>...</td>\n",
              "      <td>...</td>\n",
              "      <td>...</td>\n",
              "      <td>...</td>\n",
              "      <td>...</td>\n",
              "    </tr>\n",
              "    <tr>\n",
              "      <th>16286</th>\n",
              "      <td>GBA</td>\n",
              "      <td>2002.0</td>\n",
              "      <td>Platform</td>\n",
              "      <td>Kemco</td>\n",
              "      <td>0.01</td>\n",
              "      <td>0.00</td>\n",
              "      <td>0.00</td>\n",
              "      <td>0.00</td>\n",
              "      <td>0.01</td>\n",
              "      <td>0.01</td>\n",
              "    </tr>\n",
              "    <tr>\n",
              "      <th>16287</th>\n",
              "      <td>GC</td>\n",
              "      <td>2003.0</td>\n",
              "      <td>Shooter</td>\n",
              "      <td>Infogrames</td>\n",
              "      <td>0.01</td>\n",
              "      <td>0.00</td>\n",
              "      <td>0.00</td>\n",
              "      <td>0.00</td>\n",
              "      <td>0.01</td>\n",
              "      <td>0.01</td>\n",
              "    </tr>\n",
              "    <tr>\n",
              "      <th>16288</th>\n",
              "      <td>PS2</td>\n",
              "      <td>2008.0</td>\n",
              "      <td>Racing</td>\n",
              "      <td>Activision</td>\n",
              "      <td>0.00</td>\n",
              "      <td>0.00</td>\n",
              "      <td>0.00</td>\n",
              "      <td>0.00</td>\n",
              "      <td>0.01</td>\n",
              "      <td>0.00</td>\n",
              "    </tr>\n",
              "    <tr>\n",
              "      <th>16289</th>\n",
              "      <td>DS</td>\n",
              "      <td>2010.0</td>\n",
              "      <td>Puzzle</td>\n",
              "      <td>7G//AMES</td>\n",
              "      <td>0.00</td>\n",
              "      <td>0.01</td>\n",
              "      <td>0.00</td>\n",
              "      <td>0.00</td>\n",
              "      <td>0.01</td>\n",
              "      <td>0.01</td>\n",
              "    </tr>\n",
              "    <tr>\n",
              "      <th>16290</th>\n",
              "      <td>GBA</td>\n",
              "      <td>2003.0</td>\n",
              "      <td>Platform</td>\n",
              "      <td>Wanadoo</td>\n",
              "      <td>0.01</td>\n",
              "      <td>0.00</td>\n",
              "      <td>0.00</td>\n",
              "      <td>0.00</td>\n",
              "      <td>0.01</td>\n",
              "      <td>0.01</td>\n",
              "    </tr>\n",
              "  </tbody>\n",
              "</table>\n",
              "<p>15986 rows × 10 columns</p>\n",
              "</div>"
            ],
            "text/plain": [
              "      Platform    Year         Genre   Publisher  NA_Sales  EU_Sales  \\\n",
              "0          Wii  2006.0        Sports    Nintendo     41.49     29.02   \n",
              "2          Wii  2008.0        Racing    Nintendo     15.85     12.88   \n",
              "3          Wii  2009.0        Sports    Nintendo     15.75     11.01   \n",
              "4           GB  1996.0  Role-Playing    Nintendo     11.27      8.89   \n",
              "6           DS  2006.0      Platform    Nintendo     11.38      9.23   \n",
              "...        ...     ...           ...         ...       ...       ...   \n",
              "16286      GBA  2002.0      Platform       Kemco      0.01      0.00   \n",
              "16287       GC  2003.0       Shooter  Infogrames      0.01      0.00   \n",
              "16288      PS2  2008.0        Racing  Activision      0.00      0.00   \n",
              "16289       DS  2010.0        Puzzle    7G//AMES      0.00      0.01   \n",
              "16290      GBA  2003.0      Platform     Wanadoo      0.01      0.00   \n",
              "\n",
              "       JP_Sales  Other_Sales  Global_Sales  Total_sales  \n",
              "0          3.77         8.46         82.74        82.74  \n",
              "2          3.79         3.31         35.82        35.83  \n",
              "3          3.28         2.96         33.00        33.00  \n",
              "4         10.22         1.00         31.37        31.38  \n",
              "6          6.50         2.90         30.01        30.01  \n",
              "...         ...          ...           ...          ...  \n",
              "16286      0.00         0.00          0.01         0.01  \n",
              "16287      0.00         0.00          0.01         0.01  \n",
              "16288      0.00         0.00          0.01         0.00  \n",
              "16289      0.00         0.00          0.01         0.01  \n",
              "16290      0.00         0.00          0.01         0.01  \n",
              "\n",
              "[15986 rows x 10 columns]"
            ]
          },
          "execution_count": 30,
          "metadata": {},
          "output_type": "execute_result"
        }
      ],
      "source": [
        "drive"
      ]
    },
    {
      "cell_type": "code",
      "execution_count": null,
      "metadata": {
        "id": "Ku0fq6fcE717"
      },
      "outputs": [],
      "source": [
        "#Extracting all the rows where Na sales is greater than 5 and Genre is Sports\n",
        "Sports_nasales= drive[(drive['NA_Sales']>5)&(drive['Genre']=='Sports')]"
      ]
    },
    {
      "cell_type": "code",
      "execution_count": null,
      "metadata": {
        "id": "pq12YIwlE717",
        "outputId": "01c55f5e-087c-488a-f4db-82aa61e9fd85"
      },
      "outputs": [
        {
          "data": {
            "text/html": [
              "<div>\n",
              "<style scoped>\n",
              "    .dataframe tbody tr th:only-of-type {\n",
              "        vertical-align: middle;\n",
              "    }\n",
              "\n",
              "    .dataframe tbody tr th {\n",
              "        vertical-align: top;\n",
              "    }\n",
              "\n",
              "    .dataframe thead th {\n",
              "        text-align: right;\n",
              "    }\n",
              "</style>\n",
              "<table border=\"1\" class=\"dataframe\">\n",
              "  <thead>\n",
              "    <tr style=\"text-align: right;\">\n",
              "      <th></th>\n",
              "      <th>Year</th>\n",
              "      <th>Genre</th>\n",
              "      <th>NA_Sales</th>\n",
              "    </tr>\n",
              "  </thead>\n",
              "  <tbody>\n",
              "    <tr>\n",
              "      <th>0</th>\n",
              "      <td>2006.0</td>\n",
              "      <td>Sports</td>\n",
              "      <td>41.49</td>\n",
              "    </tr>\n",
              "    <tr>\n",
              "      <th>3</th>\n",
              "      <td>2009.0</td>\n",
              "      <td>Sports</td>\n",
              "      <td>15.75</td>\n",
              "    </tr>\n",
              "    <tr>\n",
              "      <th>13</th>\n",
              "      <td>2007.0</td>\n",
              "      <td>Sports</td>\n",
              "      <td>8.94</td>\n",
              "    </tr>\n",
              "    <tr>\n",
              "      <th>14</th>\n",
              "      <td>2009.0</td>\n",
              "      <td>Sports</td>\n",
              "      <td>9.09</td>\n",
              "    </tr>\n",
              "  </tbody>\n",
              "</table>\n",
              "</div>"
            ],
            "text/plain": [
              "      Year   Genre  NA_Sales\n",
              "0   2006.0  Sports     41.49\n",
              "3   2009.0  Sports     15.75\n",
              "13  2007.0  Sports      8.94\n",
              "14  2009.0  Sports      9.09"
            ]
          },
          "execution_count": 40,
          "metadata": {},
          "output_type": "execute_result"
        }
      ],
      "source": [
        "Sports_nasales[['Year','Genre','NA_Sales']]"
      ]
    },
    {
      "cell_type": "code",
      "execution_count": null,
      "metadata": {
        "id": "LkpbSlp2E718",
        "outputId": "0c4200b7-a177-4b85-91e3-e0c185baf52f"
      },
      "outputs": [
        {
          "data": {
            "text/html": [
              "<div>\n",
              "<style scoped>\n",
              "    .dataframe tbody tr th:only-of-type {\n",
              "        vertical-align: middle;\n",
              "    }\n",
              "\n",
              "    .dataframe tbody tr th {\n",
              "        vertical-align: top;\n",
              "    }\n",
              "\n",
              "    .dataframe thead th {\n",
              "        text-align: right;\n",
              "    }\n",
              "</style>\n",
              "<table border=\"1\" class=\"dataframe\">\n",
              "  <thead>\n",
              "    <tr style=\"text-align: right;\">\n",
              "      <th></th>\n",
              "      <th>Platform</th>\n",
              "      <th>Year</th>\n",
              "      <th>Genre</th>\n",
              "      <th>Publisher</th>\n",
              "      <th>NA_Sales</th>\n",
              "      <th>EU_Sales</th>\n",
              "      <th>JP_Sales</th>\n",
              "      <th>Other_Sales</th>\n",
              "      <th>Global_Sales</th>\n",
              "      <th>Total_sales</th>\n",
              "    </tr>\n",
              "  </thead>\n",
              "  <tbody>\n",
              "    <tr>\n",
              "      <th>6</th>\n",
              "      <td>DS</td>\n",
              "      <td>2006.0</td>\n",
              "      <td>Platform</td>\n",
              "      <td>Nintendo</td>\n",
              "      <td>11.38</td>\n",
              "      <td>9.23</td>\n",
              "      <td>6.50</td>\n",
              "      <td>2.90</td>\n",
              "      <td>30.01</td>\n",
              "      <td>30.01</td>\n",
              "    </tr>\n",
              "    <tr>\n",
              "      <th>7</th>\n",
              "      <td>Wii</td>\n",
              "      <td>2006.0</td>\n",
              "      <td>Misc</td>\n",
              "      <td>Nintendo</td>\n",
              "      <td>14.03</td>\n",
              "      <td>9.20</td>\n",
              "      <td>2.93</td>\n",
              "      <td>2.85</td>\n",
              "      <td>29.02</td>\n",
              "      <td>29.01</td>\n",
              "    </tr>\n",
              "    <tr>\n",
              "      <th>8</th>\n",
              "      <td>Wii</td>\n",
              "      <td>2009.0</td>\n",
              "      <td>Platform</td>\n",
              "      <td>Nintendo</td>\n",
              "      <td>14.59</td>\n",
              "      <td>7.06</td>\n",
              "      <td>4.70</td>\n",
              "      <td>2.26</td>\n",
              "      <td>28.62</td>\n",
              "      <td>28.61</td>\n",
              "    </tr>\n",
              "    <tr>\n",
              "      <th>10</th>\n",
              "      <td>DS</td>\n",
              "      <td>2005.0</td>\n",
              "      <td>Simulation</td>\n",
              "      <td>Nintendo</td>\n",
              "      <td>9.07</td>\n",
              "      <td>11.00</td>\n",
              "      <td>1.93</td>\n",
              "      <td>2.75</td>\n",
              "      <td>24.76</td>\n",
              "      <td>24.75</td>\n",
              "    </tr>\n",
              "    <tr>\n",
              "      <th>11</th>\n",
              "      <td>DS</td>\n",
              "      <td>2005.0</td>\n",
              "      <td>Racing</td>\n",
              "      <td>Nintendo</td>\n",
              "      <td>9.81</td>\n",
              "      <td>7.57</td>\n",
              "      <td>4.13</td>\n",
              "      <td>1.92</td>\n",
              "      <td>23.42</td>\n",
              "      <td>23.43</td>\n",
              "    </tr>\n",
              "    <tr>\n",
              "      <th>...</th>\n",
              "      <td>...</td>\n",
              "      <td>...</td>\n",
              "      <td>...</td>\n",
              "      <td>...</td>\n",
              "      <td>...</td>\n",
              "      <td>...</td>\n",
              "      <td>...</td>\n",
              "      <td>...</td>\n",
              "      <td>...</td>\n",
              "      <td>...</td>\n",
              "    </tr>\n",
              "    <tr>\n",
              "      <th>85</th>\n",
              "      <td>Wii</td>\n",
              "      <td>2007.0</td>\n",
              "      <td>Sports</td>\n",
              "      <td>Sega</td>\n",
              "      <td>2.58</td>\n",
              "      <td>3.90</td>\n",
              "      <td>0.66</td>\n",
              "      <td>0.91</td>\n",
              "      <td>8.06</td>\n",
              "      <td>8.05</td>\n",
              "    </tr>\n",
              "    <tr>\n",
              "      <th>86</th>\n",
              "      <td>PS2</td>\n",
              "      <td>2001.0</td>\n",
              "      <td>Role-Playing</td>\n",
              "      <td>Sony Computer Entertainment</td>\n",
              "      <td>2.91</td>\n",
              "      <td>2.07</td>\n",
              "      <td>2.73</td>\n",
              "      <td>0.33</td>\n",
              "      <td>8.05</td>\n",
              "      <td>8.04</td>\n",
              "    </tr>\n",
              "    <tr>\n",
              "      <th>87</th>\n",
              "      <td>PS</td>\n",
              "      <td>1999.0</td>\n",
              "      <td>Role-Playing</td>\n",
              "      <td>SquareSoft</td>\n",
              "      <td>2.28</td>\n",
              "      <td>1.72</td>\n",
              "      <td>3.63</td>\n",
              "      <td>0.23</td>\n",
              "      <td>7.86</td>\n",
              "      <td>7.86</td>\n",
              "    </tr>\n",
              "    <tr>\n",
              "      <th>88</th>\n",
              "      <td>DS</td>\n",
              "      <td>2008.0</td>\n",
              "      <td>Role-Playing</td>\n",
              "      <td>Nintendo</td>\n",
              "      <td>2.82</td>\n",
              "      <td>1.78</td>\n",
              "      <td>2.69</td>\n",
              "      <td>0.55</td>\n",
              "      <td>7.84</td>\n",
              "      <td>7.84</td>\n",
              "    </tr>\n",
              "    <tr>\n",
              "      <th>90</th>\n",
              "      <td>PSP</td>\n",
              "      <td>2005.0</td>\n",
              "      <td>Action</td>\n",
              "      <td>Take-Two Interactive</td>\n",
              "      <td>2.90</td>\n",
              "      <td>2.83</td>\n",
              "      <td>0.24</td>\n",
              "      <td>1.75</td>\n",
              "      <td>7.72</td>\n",
              "      <td>7.72</td>\n",
              "    </tr>\n",
              "  </tbody>\n",
              "</table>\n",
              "<p>78 rows × 10 columns</p>\n",
              "</div>"
            ],
            "text/plain": [
              "   Platform    Year         Genre                    Publisher  NA_Sales  \\\n",
              "6        DS  2006.0      Platform                     Nintendo     11.38   \n",
              "7       Wii  2006.0          Misc                     Nintendo     14.03   \n",
              "8       Wii  2009.0      Platform                     Nintendo     14.59   \n",
              "10       DS  2005.0    Simulation                     Nintendo      9.07   \n",
              "11       DS  2005.0        Racing                     Nintendo      9.81   \n",
              "..      ...     ...           ...                          ...       ...   \n",
              "85      Wii  2007.0        Sports                         Sega      2.58   \n",
              "86      PS2  2001.0  Role-Playing  Sony Computer Entertainment      2.91   \n",
              "87       PS  1999.0  Role-Playing                   SquareSoft      2.28   \n",
              "88       DS  2008.0  Role-Playing                     Nintendo      2.82   \n",
              "90      PSP  2005.0        Action         Take-Two Interactive      2.90   \n",
              "\n",
              "    EU_Sales  JP_Sales  Other_Sales  Global_Sales  Total_sales  \n",
              "6       9.23      6.50         2.90         30.01        30.01  \n",
              "7       9.20      2.93         2.85         29.02        29.01  \n",
              "8       7.06      4.70         2.26         28.62        28.61  \n",
              "10     11.00      1.93         2.75         24.76        24.75  \n",
              "11      7.57      4.13         1.92         23.42        23.43  \n",
              "..       ...       ...          ...           ...          ...  \n",
              "85      3.90      0.66         0.91          8.06         8.05  \n",
              "86      2.07      2.73         0.33          8.05         8.04  \n",
              "87      1.72      3.63         0.23          7.86         7.86  \n",
              "88      1.78      2.69         0.55          7.84         7.84  \n",
              "90      2.83      0.24         1.75          7.72         7.72  \n",
              "\n",
              "[78 rows x 10 columns]"
            ]
          },
          "execution_count": 45,
          "metadata": {},
          "output_type": "execute_result"
        }
      ],
      "source": [
        "#Accessing the rows by providing the labels of rows\n",
        "drive.loc[5:90]"
      ]
    },
    {
      "cell_type": "code",
      "execution_count": null,
      "metadata": {
        "id": "3ao6PmvTE718",
        "outputId": "57288312-9355-4758-eba8-4659906b3927"
      },
      "outputs": [
        {
          "data": {
            "text/html": [
              "<div>\n",
              "<style scoped>\n",
              "    .dataframe tbody tr th:only-of-type {\n",
              "        vertical-align: middle;\n",
              "    }\n",
              "\n",
              "    .dataframe tbody tr th {\n",
              "        vertical-align: top;\n",
              "    }\n",
              "\n",
              "    .dataframe thead th {\n",
              "        text-align: right;\n",
              "    }\n",
              "</style>\n",
              "<table border=\"1\" class=\"dataframe\">\n",
              "  <thead>\n",
              "    <tr style=\"text-align: right;\">\n",
              "      <th></th>\n",
              "      <th>Genre</th>\n",
              "      <th>Publisher</th>\n",
              "      <th>NA_Sales</th>\n",
              "    </tr>\n",
              "  </thead>\n",
              "  <tbody>\n",
              "    <tr>\n",
              "      <th>7</th>\n",
              "      <td>Misc</td>\n",
              "      <td>Nintendo</td>\n",
              "      <td>14.03</td>\n",
              "    </tr>\n",
              "    <tr>\n",
              "      <th>8</th>\n",
              "      <td>Platform</td>\n",
              "      <td>Nintendo</td>\n",
              "      <td>14.59</td>\n",
              "    </tr>\n",
              "    <tr>\n",
              "      <th>10</th>\n",
              "      <td>Simulation</td>\n",
              "      <td>Nintendo</td>\n",
              "      <td>9.07</td>\n",
              "    </tr>\n",
              "    <tr>\n",
              "      <th>11</th>\n",
              "      <td>Racing</td>\n",
              "      <td>Nintendo</td>\n",
              "      <td>9.81</td>\n",
              "    </tr>\n",
              "    <tr>\n",
              "      <th>12</th>\n",
              "      <td>Role-Playing</td>\n",
              "      <td>Nintendo</td>\n",
              "      <td>9.00</td>\n",
              "    </tr>\n",
              "    <tr>\n",
              "      <th>...</th>\n",
              "      <td>...</td>\n",
              "      <td>...</td>\n",
              "      <td>...</td>\n",
              "    </tr>\n",
              "    <tr>\n",
              "      <th>94</th>\n",
              "      <td>Action</td>\n",
              "      <td>Nintendo</td>\n",
              "      <td>4.10</td>\n",
              "    </tr>\n",
              "    <tr>\n",
              "      <th>95</th>\n",
              "      <td>Platform</td>\n",
              "      <td>Sony Computer Entertainment</td>\n",
              "      <td>3.78</td>\n",
              "    </tr>\n",
              "    <tr>\n",
              "      <th>97</th>\n",
              "      <td>Fighting</td>\n",
              "      <td>Nintendo</td>\n",
              "      <td>3.24</td>\n",
              "    </tr>\n",
              "    <tr>\n",
              "      <th>98</th>\n",
              "      <td>Shooter</td>\n",
              "      <td>Activision</td>\n",
              "      <td>4.79</td>\n",
              "    </tr>\n",
              "    <tr>\n",
              "      <th>99</th>\n",
              "      <td>Shooter</td>\n",
              "      <td>Electronic Arts</td>\n",
              "      <td>4.46</td>\n",
              "    </tr>\n",
              "  </tbody>\n",
              "</table>\n",
              "<p>85 rows × 3 columns</p>\n",
              "</div>"
            ],
            "text/plain": [
              "           Genre                    Publisher  NA_Sales\n",
              "7           Misc                     Nintendo     14.03\n",
              "8       Platform                     Nintendo     14.59\n",
              "10    Simulation                     Nintendo      9.07\n",
              "11        Racing                     Nintendo      9.81\n",
              "12  Role-Playing                     Nintendo      9.00\n",
              "..           ...                          ...       ...\n",
              "94        Action                     Nintendo      4.10\n",
              "95      Platform  Sony Computer Entertainment      3.78\n",
              "97      Fighting                     Nintendo      3.24\n",
              "98       Shooter                   Activision      4.79\n",
              "99       Shooter              Electronic Arts      4.46\n",
              "\n",
              "[85 rows x 3 columns]"
            ]
          },
          "execution_count": 46,
          "metadata": {},
          "output_type": "execute_result"
        }
      ],
      "source": [
        "#Accessing rows and columns by providing their range\n",
        "drive.iloc[5:90,2:5]"
      ]
    },
    {
      "cell_type": "code",
      "execution_count": null,
      "metadata": {
        "id": "3uMoH7jcE718",
        "outputId": "20f597c2-dc22-423c-e252-0d04ebdc2f5f"
      },
      "outputs": [
        {
          "data": {
            "text/html": [
              "<div>\n",
              "<style scoped>\n",
              "    .dataframe tbody tr th:only-of-type {\n",
              "        vertical-align: middle;\n",
              "    }\n",
              "\n",
              "    .dataframe tbody tr th {\n",
              "        vertical-align: top;\n",
              "    }\n",
              "\n",
              "    .dataframe thead th {\n",
              "        text-align: right;\n",
              "    }\n",
              "</style>\n",
              "<table border=\"1\" class=\"dataframe\">\n",
              "  <thead>\n",
              "    <tr style=\"text-align: right;\">\n",
              "      <th></th>\n",
              "      <th>Platform</th>\n",
              "      <th>Year</th>\n",
              "      <th>Genre</th>\n",
              "      <th>Publisher</th>\n",
              "      <th>NA_Sales</th>\n",
              "      <th>EU_Sales</th>\n",
              "      <th>JP_Sales</th>\n",
              "      <th>Other_Sales</th>\n",
              "      <th>Global_Sales</th>\n",
              "      <th>Total_sales</th>\n",
              "    </tr>\n",
              "  </thead>\n",
              "  <tbody>\n",
              "    <tr>\n",
              "      <th>2</th>\n",
              "      <td>Wii</td>\n",
              "      <td>2008.0</td>\n",
              "      <td>Racing</td>\n",
              "      <td>Nintendo</td>\n",
              "      <td>15.85</td>\n",
              "      <td>12.88</td>\n",
              "      <td>3.79</td>\n",
              "      <td>3.31</td>\n",
              "      <td>35.82</td>\n",
              "      <td>35.83</td>\n",
              "    </tr>\n",
              "    <tr>\n",
              "      <th>7</th>\n",
              "      <td>Wii</td>\n",
              "      <td>2006.0</td>\n",
              "      <td>Misc</td>\n",
              "      <td>Nintendo</td>\n",
              "      <td>14.03</td>\n",
              "      <td>9.20</td>\n",
              "      <td>2.93</td>\n",
              "      <td>2.85</td>\n",
              "      <td>29.02</td>\n",
              "      <td>29.01</td>\n",
              "    </tr>\n",
              "    <tr>\n",
              "      <th>12</th>\n",
              "      <td>GB</td>\n",
              "      <td>1999.0</td>\n",
              "      <td>Role-Playing</td>\n",
              "      <td>Nintendo</td>\n",
              "      <td>9.00</td>\n",
              "      <td>6.18</td>\n",
              "      <td>7.20</td>\n",
              "      <td>0.71</td>\n",
              "      <td>23.10</td>\n",
              "      <td>23.09</td>\n",
              "    </tr>\n",
              "    <tr>\n",
              "      <th>123</th>\n",
              "      <td>PS3</td>\n",
              "      <td>2010.0</td>\n",
              "      <td>Action</td>\n",
              "      <td>Take-Two Interactive</td>\n",
              "      <td>2.79</td>\n",
              "      <td>2.61</td>\n",
              "      <td>0.17</td>\n",
              "      <td>1.03</td>\n",
              "      <td>6.60</td>\n",
              "      <td>6.60</td>\n",
              "    </tr>\n",
              "  </tbody>\n",
              "</table>\n",
              "</div>"
            ],
            "text/plain": [
              "    Platform    Year         Genre             Publisher  NA_Sales  EU_Sales  \\\n",
              "2        Wii  2008.0        Racing              Nintendo     15.85     12.88   \n",
              "7        Wii  2006.0          Misc              Nintendo     14.03      9.20   \n",
              "12        GB  1999.0  Role-Playing              Nintendo      9.00      6.18   \n",
              "123      PS3  2010.0        Action  Take-Two Interactive      2.79      2.61   \n",
              "\n",
              "     JP_Sales  Other_Sales  Global_Sales  Total_sales  \n",
              "2        3.79         3.31         35.82        35.83  \n",
              "7        2.93         2.85         29.02        29.01  \n",
              "12       7.20         0.71         23.10        23.09  \n",
              "123      0.17         1.03          6.60         6.60  "
            ]
          },
          "execution_count": 48,
          "metadata": {},
          "output_type": "execute_result"
        }
      ],
      "source": [
        "#Accessing specific rows from my dataset\n",
        "drive.iloc[[1,5,9,113]] #In iloc function we have to give the index values for rows and columns"
      ]
    },
    {
      "cell_type": "markdown",
      "metadata": {
        "id": "P1sNeSs3E718"
      },
      "source": [
        "Feature Selection - It is a technique to reduce the no of columns while keeping all the important features and getting rid of noise or unimportant features in my data.\n",
        "\n",
        "1.If you are having domain knowledge you can easily know which feature is important for you and which is not\n",
        "2. Checking for Correlation\n",
        "3. Analyzing all the variables with target variable"
      ]
    },
    {
      "cell_type": "code",
      "execution_count": null,
      "metadata": {
        "id": "U_p3-GHDE719",
        "outputId": "9532add1-1384-4396-b28f-d52185c3aaa8"
      },
      "outputs": [
        {
          "data": {
            "text/html": [
              "<div>\n",
              "<style scoped>\n",
              "    .dataframe tbody tr th:only-of-type {\n",
              "        vertical-align: middle;\n",
              "    }\n",
              "\n",
              "    .dataframe tbody tr th {\n",
              "        vertical-align: top;\n",
              "    }\n",
              "\n",
              "    .dataframe thead th {\n",
              "        text-align: right;\n",
              "    }\n",
              "</style>\n",
              "<table border=\"1\" class=\"dataframe\">\n",
              "  <thead>\n",
              "    <tr style=\"text-align: right;\">\n",
              "      <th></th>\n",
              "      <th>Rank</th>\n",
              "      <th>Year</th>\n",
              "      <th>NA_Sales</th>\n",
              "      <th>EU_Sales</th>\n",
              "      <th>JP_Sales</th>\n",
              "      <th>Other_Sales</th>\n",
              "      <th>Global_Sales</th>\n",
              "    </tr>\n",
              "  </thead>\n",
              "  <tbody>\n",
              "    <tr>\n",
              "      <th>Rank</th>\n",
              "      <td>1.000000</td>\n",
              "      <td>0.132547</td>\n",
              "      <td>-0.434420</td>\n",
              "      <td>-0.381915</td>\n",
              "      <td>-0.252595</td>\n",
              "      <td>-0.337709</td>\n",
              "      <td>-0.435372</td>\n",
              "    </tr>\n",
              "    <tr>\n",
              "      <th>Year</th>\n",
              "      <td>0.132547</td>\n",
              "      <td>1.000000</td>\n",
              "      <td>-0.042363</td>\n",
              "      <td>0.008131</td>\n",
              "      <td>-0.107556</td>\n",
              "      <td>0.040428</td>\n",
              "      <td>-0.033303</td>\n",
              "    </tr>\n",
              "    <tr>\n",
              "      <th>NA_Sales</th>\n",
              "      <td>-0.434420</td>\n",
              "      <td>-0.042363</td>\n",
              "      <td>1.000000</td>\n",
              "      <td>0.838510</td>\n",
              "      <td>0.423855</td>\n",
              "      <td>0.705603</td>\n",
              "      <td>0.949092</td>\n",
              "    </tr>\n",
              "    <tr>\n",
              "      <th>EU_Sales</th>\n",
              "      <td>-0.381915</td>\n",
              "      <td>0.008131</td>\n",
              "      <td>0.838510</td>\n",
              "      <td>1.000000</td>\n",
              "      <td>0.450093</td>\n",
              "      <td>0.728018</td>\n",
              "      <td>0.934070</td>\n",
              "    </tr>\n",
              "    <tr>\n",
              "      <th>JP_Sales</th>\n",
              "      <td>-0.252595</td>\n",
              "      <td>-0.107556</td>\n",
              "      <td>0.423855</td>\n",
              "      <td>0.450093</td>\n",
              "      <td>1.000000</td>\n",
              "      <td>0.308122</td>\n",
              "      <td>0.593852</td>\n",
              "    </tr>\n",
              "    <tr>\n",
              "      <th>Other_Sales</th>\n",
              "      <td>-0.337709</td>\n",
              "      <td>0.040428</td>\n",
              "      <td>0.705603</td>\n",
              "      <td>0.728018</td>\n",
              "      <td>0.308122</td>\n",
              "      <td>1.000000</td>\n",
              "      <td>0.783335</td>\n",
              "    </tr>\n",
              "    <tr>\n",
              "      <th>Global_Sales</th>\n",
              "      <td>-0.435372</td>\n",
              "      <td>-0.033303</td>\n",
              "      <td>0.949092</td>\n",
              "      <td>0.934070</td>\n",
              "      <td>0.593852</td>\n",
              "      <td>0.783335</td>\n",
              "      <td>1.000000</td>\n",
              "    </tr>\n",
              "  </tbody>\n",
              "</table>\n",
              "</div>"
            ],
            "text/plain": [
              "                  Rank      Year  NA_Sales  EU_Sales  JP_Sales  Other_Sales  \\\n",
              "Rank          1.000000  0.132547 -0.434420 -0.381915 -0.252595    -0.337709   \n",
              "Year          0.132547  1.000000 -0.042363  0.008131 -0.107556     0.040428   \n",
              "NA_Sales     -0.434420 -0.042363  1.000000  0.838510  0.423855     0.705603   \n",
              "EU_Sales     -0.381915  0.008131  0.838510  1.000000  0.450093     0.728018   \n",
              "JP_Sales     -0.252595 -0.107556  0.423855  0.450093  1.000000     0.308122   \n",
              "Other_Sales  -0.337709  0.040428  0.705603  0.728018  0.308122     1.000000   \n",
              "Global_Sales -0.435372 -0.033303  0.949092  0.934070  0.593852     0.783335   \n",
              "\n",
              "              Global_Sales  \n",
              "Rank             -0.435372  \n",
              "Year             -0.033303  \n",
              "NA_Sales          0.949092  \n",
              "EU_Sales          0.934070  \n",
              "JP_Sales          0.593852  \n",
              "Other_Sales       0.783335  \n",
              "Global_Sales      1.000000  "
            ]
          },
          "execution_count": 11,
          "metadata": {},
          "output_type": "execute_result"
        }
      ],
      "source": [
        "drive.corr()"
      ]
    },
    {
      "cell_type": "code",
      "execution_count": null,
      "metadata": {
        "id": "Kai5h9doE719"
      },
      "outputs": [],
      "source": [
        "PCA - Principal Component Analysis It is an algorithm that will reduce my dimensions \n",
        "but it will try to gain the complete information\n",
        "Dimensionality Reduction -"
      ]
    },
    {
      "cell_type": "code",
      "execution_count": null,
      "metadata": {
        "id": "b9tmgDzNE719",
        "outputId": "c3a82d66-38ae-4b89-e643-1c5b77182791"
      },
      "outputs": [
        {
          "data": {
            "text/html": [
              "<div>\n",
              "<style scoped>\n",
              "    .dataframe tbody tr th:only-of-type {\n",
              "        vertical-align: middle;\n",
              "    }\n",
              "\n",
              "    .dataframe tbody tr th {\n",
              "        vertical-align: top;\n",
              "    }\n",
              "\n",
              "    .dataframe thead th {\n",
              "        text-align: right;\n",
              "    }\n",
              "</style>\n",
              "<table border=\"1\" class=\"dataframe\">\n",
              "  <thead>\n",
              "    <tr style=\"text-align: right;\">\n",
              "      <th></th>\n",
              "      <th>Rank</th>\n",
              "      <th>Name</th>\n",
              "      <th>Platform</th>\n",
              "      <th>Year</th>\n",
              "      <th>Genre</th>\n",
              "      <th>Publisher</th>\n",
              "      <th>NA_Sales</th>\n",
              "      <th>EU_Sales</th>\n",
              "      <th>JP_Sales</th>\n",
              "      <th>Other_Sales</th>\n",
              "      <th>Global_Sales</th>\n",
              "    </tr>\n",
              "  </thead>\n",
              "  <tbody>\n",
              "    <tr>\n",
              "      <th>0</th>\n",
              "      <td>1</td>\n",
              "      <td>Wii Sports</td>\n",
              "      <td>Wii</td>\n",
              "      <td>2006.0</td>\n",
              "      <td>Sports</td>\n",
              "      <td>Nintendo</td>\n",
              "      <td>41.49</td>\n",
              "      <td>29.02</td>\n",
              "      <td>3.77</td>\n",
              "      <td>8.46</td>\n",
              "      <td>82.74</td>\n",
              "    </tr>\n",
              "    <tr>\n",
              "      <th>2</th>\n",
              "      <td>3</td>\n",
              "      <td>Mario Kart Wii</td>\n",
              "      <td>Wii</td>\n",
              "      <td>2008.0</td>\n",
              "      <td>Racing</td>\n",
              "      <td>Nintendo</td>\n",
              "      <td>15.85</td>\n",
              "      <td>12.88</td>\n",
              "      <td>3.79</td>\n",
              "      <td>3.31</td>\n",
              "      <td>35.82</td>\n",
              "    </tr>\n",
              "    <tr>\n",
              "      <th>3</th>\n",
              "      <td>4</td>\n",
              "      <td>Wii Sports Resort</td>\n",
              "      <td>Wii</td>\n",
              "      <td>2009.0</td>\n",
              "      <td>Sports</td>\n",
              "      <td>Nintendo</td>\n",
              "      <td>15.75</td>\n",
              "      <td>11.01</td>\n",
              "      <td>3.28</td>\n",
              "      <td>2.96</td>\n",
              "      <td>33.00</td>\n",
              "    </tr>\n",
              "    <tr>\n",
              "      <th>4</th>\n",
              "      <td>5</td>\n",
              "      <td>Pokemon Red/Pokemon Blue</td>\n",
              "      <td>GB</td>\n",
              "      <td>1996.0</td>\n",
              "      <td>Role-Playing</td>\n",
              "      <td>Nintendo</td>\n",
              "      <td>11.27</td>\n",
              "      <td>8.89</td>\n",
              "      <td>10.22</td>\n",
              "      <td>1.00</td>\n",
              "      <td>31.37</td>\n",
              "    </tr>\n",
              "    <tr>\n",
              "      <th>6</th>\n",
              "      <td>7</td>\n",
              "      <td>New Super Mario Bros.</td>\n",
              "      <td>DS</td>\n",
              "      <td>2006.0</td>\n",
              "      <td>Platform</td>\n",
              "      <td>Nintendo</td>\n",
              "      <td>11.38</td>\n",
              "      <td>9.23</td>\n",
              "      <td>6.50</td>\n",
              "      <td>2.90</td>\n",
              "      <td>30.01</td>\n",
              "    </tr>\n",
              "    <tr>\n",
              "      <th>...</th>\n",
              "      <td>...</td>\n",
              "      <td>...</td>\n",
              "      <td>...</td>\n",
              "      <td>...</td>\n",
              "      <td>...</td>\n",
              "      <td>...</td>\n",
              "      <td>...</td>\n",
              "      <td>...</td>\n",
              "      <td>...</td>\n",
              "      <td>...</td>\n",
              "      <td>...</td>\n",
              "    </tr>\n",
              "    <tr>\n",
              "      <th>16593</th>\n",
              "      <td>16596</td>\n",
              "      <td>Woody Woodpecker in Crazy Castle 5</td>\n",
              "      <td>GBA</td>\n",
              "      <td>2002.0</td>\n",
              "      <td>Platform</td>\n",
              "      <td>Kemco</td>\n",
              "      <td>0.01</td>\n",
              "      <td>0.00</td>\n",
              "      <td>0.00</td>\n",
              "      <td>0.00</td>\n",
              "      <td>0.01</td>\n",
              "    </tr>\n",
              "    <tr>\n",
              "      <th>16594</th>\n",
              "      <td>16597</td>\n",
              "      <td>Men in Black II: Alien Escape</td>\n",
              "      <td>GC</td>\n",
              "      <td>2003.0</td>\n",
              "      <td>Shooter</td>\n",
              "      <td>Infogrames</td>\n",
              "      <td>0.01</td>\n",
              "      <td>0.00</td>\n",
              "      <td>0.00</td>\n",
              "      <td>0.00</td>\n",
              "      <td>0.01</td>\n",
              "    </tr>\n",
              "    <tr>\n",
              "      <th>16595</th>\n",
              "      <td>16598</td>\n",
              "      <td>SCORE International Baja 1000: The Official Game</td>\n",
              "      <td>PS2</td>\n",
              "      <td>2008.0</td>\n",
              "      <td>Racing</td>\n",
              "      <td>Activision</td>\n",
              "      <td>0.00</td>\n",
              "      <td>0.00</td>\n",
              "      <td>0.00</td>\n",
              "      <td>0.00</td>\n",
              "      <td>0.01</td>\n",
              "    </tr>\n",
              "    <tr>\n",
              "      <th>16596</th>\n",
              "      <td>16599</td>\n",
              "      <td>Know How 2</td>\n",
              "      <td>DS</td>\n",
              "      <td>2010.0</td>\n",
              "      <td>Puzzle</td>\n",
              "      <td>7G//AMES</td>\n",
              "      <td>0.00</td>\n",
              "      <td>0.01</td>\n",
              "      <td>0.00</td>\n",
              "      <td>0.00</td>\n",
              "      <td>0.01</td>\n",
              "    </tr>\n",
              "    <tr>\n",
              "      <th>16597</th>\n",
              "      <td>16600</td>\n",
              "      <td>Spirits &amp; Spells</td>\n",
              "      <td>GBA</td>\n",
              "      <td>2003.0</td>\n",
              "      <td>Platform</td>\n",
              "      <td>Wanadoo</td>\n",
              "      <td>0.01</td>\n",
              "      <td>0.00</td>\n",
              "      <td>0.00</td>\n",
              "      <td>0.00</td>\n",
              "      <td>0.01</td>\n",
              "    </tr>\n",
              "  </tbody>\n",
              "</table>\n",
              "<p>16293 rows × 11 columns</p>\n",
              "</div>"
            ],
            "text/plain": [
              "        Rank                                              Name Platform  \\\n",
              "0          1                                        Wii Sports      Wii   \n",
              "2          3                                    Mario Kart Wii      Wii   \n",
              "3          4                                 Wii Sports Resort      Wii   \n",
              "4          5                          Pokemon Red/Pokemon Blue       GB   \n",
              "6          7                             New Super Mario Bros.       DS   \n",
              "...      ...                                               ...      ...   \n",
              "16593  16596                Woody Woodpecker in Crazy Castle 5      GBA   \n",
              "16594  16597                     Men in Black II: Alien Escape       GC   \n",
              "16595  16598  SCORE International Baja 1000: The Official Game      PS2   \n",
              "16596  16599                                        Know How 2       DS   \n",
              "16597  16600                                  Spirits & Spells      GBA   \n",
              "\n",
              "         Year         Genre   Publisher  NA_Sales  EU_Sales  JP_Sales  \\\n",
              "0      2006.0        Sports    Nintendo     41.49     29.02      3.77   \n",
              "2      2008.0        Racing    Nintendo     15.85     12.88      3.79   \n",
              "3      2009.0        Sports    Nintendo     15.75     11.01      3.28   \n",
              "4      1996.0  Role-Playing    Nintendo     11.27      8.89     10.22   \n",
              "6      2006.0      Platform    Nintendo     11.38      9.23      6.50   \n",
              "...       ...           ...         ...       ...       ...       ...   \n",
              "16593  2002.0      Platform       Kemco      0.01      0.00      0.00   \n",
              "16594  2003.0       Shooter  Infogrames      0.01      0.00      0.00   \n",
              "16595  2008.0        Racing  Activision      0.00      0.00      0.00   \n",
              "16596  2010.0        Puzzle    7G//AMES      0.00      0.01      0.00   \n",
              "16597  2003.0      Platform     Wanadoo      0.01      0.00      0.00   \n",
              "\n",
              "       Other_Sales  Global_Sales  \n",
              "0             8.46         82.74  \n",
              "2             3.31         35.82  \n",
              "3             2.96         33.00  \n",
              "4             1.00         31.37  \n",
              "6             2.90         30.01  \n",
              "...            ...           ...  \n",
              "16593         0.00          0.01  \n",
              "16594         0.00          0.01  \n",
              "16595         0.00          0.01  \n",
              "16596         0.00          0.01  \n",
              "16597         0.00          0.01  \n",
              "\n",
              "[16293 rows x 11 columns]"
            ]
          },
          "execution_count": 12,
          "metadata": {},
          "output_type": "execute_result"
        }
      ],
      "source": [
        "drive"
      ]
    },
    {
      "cell_type": "code",
      "execution_count": null,
      "metadata": {
        "id": "cjk6wxGqE719"
      },
      "outputs": [],
      "source": [
        "#Splitting my dataset into features and Target\n",
        "X = drive[['Year','NA_Sales','JP_Sales','Other_Sales','EU_Sales']]\n",
        "Y = drive['Global_Sales']"
      ]
    },
    {
      "cell_type": "code",
      "execution_count": null,
      "metadata": {
        "id": "bYcOmJ1pE719",
        "outputId": "99ab6052-c3e7-4b18-97c5-346aa5238892"
      },
      "outputs": [
        {
          "data": {
            "text/html": [
              "<div>\n",
              "<style scoped>\n",
              "    .dataframe tbody tr th:only-of-type {\n",
              "        vertical-align: middle;\n",
              "    }\n",
              "\n",
              "    .dataframe tbody tr th {\n",
              "        vertical-align: top;\n",
              "    }\n",
              "\n",
              "    .dataframe thead th {\n",
              "        text-align: right;\n",
              "    }\n",
              "</style>\n",
              "<table border=\"1\" class=\"dataframe\">\n",
              "  <thead>\n",
              "    <tr style=\"text-align: right;\">\n",
              "      <th></th>\n",
              "      <th>Year</th>\n",
              "      <th>NA_Sales</th>\n",
              "      <th>JP_Sales</th>\n",
              "      <th>Other_Sales</th>\n",
              "      <th>EU_Sales</th>\n",
              "    </tr>\n",
              "  </thead>\n",
              "  <tbody>\n",
              "    <tr>\n",
              "      <th>0</th>\n",
              "      <td>2006.0</td>\n",
              "      <td>41.49</td>\n",
              "      <td>3.77</td>\n",
              "      <td>8.46</td>\n",
              "      <td>29.02</td>\n",
              "    </tr>\n",
              "    <tr>\n",
              "      <th>2</th>\n",
              "      <td>2008.0</td>\n",
              "      <td>15.85</td>\n",
              "      <td>3.79</td>\n",
              "      <td>3.31</td>\n",
              "      <td>12.88</td>\n",
              "    </tr>\n",
              "    <tr>\n",
              "      <th>3</th>\n",
              "      <td>2009.0</td>\n",
              "      <td>15.75</td>\n",
              "      <td>3.28</td>\n",
              "      <td>2.96</td>\n",
              "      <td>11.01</td>\n",
              "    </tr>\n",
              "    <tr>\n",
              "      <th>4</th>\n",
              "      <td>1996.0</td>\n",
              "      <td>11.27</td>\n",
              "      <td>10.22</td>\n",
              "      <td>1.00</td>\n",
              "      <td>8.89</td>\n",
              "    </tr>\n",
              "    <tr>\n",
              "      <th>6</th>\n",
              "      <td>2006.0</td>\n",
              "      <td>11.38</td>\n",
              "      <td>6.50</td>\n",
              "      <td>2.90</td>\n",
              "      <td>9.23</td>\n",
              "    </tr>\n",
              "    <tr>\n",
              "      <th>...</th>\n",
              "      <td>...</td>\n",
              "      <td>...</td>\n",
              "      <td>...</td>\n",
              "      <td>...</td>\n",
              "      <td>...</td>\n",
              "    </tr>\n",
              "    <tr>\n",
              "      <th>16593</th>\n",
              "      <td>2002.0</td>\n",
              "      <td>0.01</td>\n",
              "      <td>0.00</td>\n",
              "      <td>0.00</td>\n",
              "      <td>0.00</td>\n",
              "    </tr>\n",
              "    <tr>\n",
              "      <th>16594</th>\n",
              "      <td>2003.0</td>\n",
              "      <td>0.01</td>\n",
              "      <td>0.00</td>\n",
              "      <td>0.00</td>\n",
              "      <td>0.00</td>\n",
              "    </tr>\n",
              "    <tr>\n",
              "      <th>16595</th>\n",
              "      <td>2008.0</td>\n",
              "      <td>0.00</td>\n",
              "      <td>0.00</td>\n",
              "      <td>0.00</td>\n",
              "      <td>0.00</td>\n",
              "    </tr>\n",
              "    <tr>\n",
              "      <th>16596</th>\n",
              "      <td>2010.0</td>\n",
              "      <td>0.00</td>\n",
              "      <td>0.00</td>\n",
              "      <td>0.00</td>\n",
              "      <td>0.01</td>\n",
              "    </tr>\n",
              "    <tr>\n",
              "      <th>16597</th>\n",
              "      <td>2003.0</td>\n",
              "      <td>0.01</td>\n",
              "      <td>0.00</td>\n",
              "      <td>0.00</td>\n",
              "      <td>0.00</td>\n",
              "    </tr>\n",
              "  </tbody>\n",
              "</table>\n",
              "<p>16293 rows × 5 columns</p>\n",
              "</div>"
            ],
            "text/plain": [
              "         Year  NA_Sales  JP_Sales  Other_Sales  EU_Sales\n",
              "0      2006.0     41.49      3.77         8.46     29.02\n",
              "2      2008.0     15.85      3.79         3.31     12.88\n",
              "3      2009.0     15.75      3.28         2.96     11.01\n",
              "4      1996.0     11.27     10.22         1.00      8.89\n",
              "6      2006.0     11.38      6.50         2.90      9.23\n",
              "...       ...       ...       ...          ...       ...\n",
              "16593  2002.0      0.01      0.00         0.00      0.00\n",
              "16594  2003.0      0.01      0.00         0.00      0.00\n",
              "16595  2008.0      0.00      0.00         0.00      0.00\n",
              "16596  2010.0      0.00      0.00         0.00      0.01\n",
              "16597  2003.0      0.01      0.00         0.00      0.00\n",
              "\n",
              "[16293 rows x 5 columns]"
            ]
          },
          "execution_count": 16,
          "metadata": {},
          "output_type": "execute_result"
        }
      ],
      "source": [
        "X"
      ]
    },
    {
      "cell_type": "code",
      "execution_count": null,
      "metadata": {
        "id": "wZPhRjl6E719"
      },
      "outputs": [],
      "source": [
        "#Applying PCA algorithm on features of my dataset\n",
        "from sklearn.decomposition import PCA\n",
        "\n",
        "pca = PCA(n_components=4)\n",
        "\n",
        "x_pca =pd.DataFrame(pca.fit_transform(X))"
      ]
    },
    {
      "cell_type": "raw",
      "metadata": {
        "id": "jA4SqsUXE71-"
      },
      "source": [
        "Train test split\n"
      ]
    },
    {
      "cell_type": "code",
      "execution_count": null,
      "metadata": {
        "id": "5zHSJndpE71-"
      },
      "outputs": [],
      "source": [
        "#Splitting my dataset in training and testing\n",
        "from sklearn.model_selection import train_test_split\n",
        "\n",
        "train_x,test_x,train_y,test_y = train_test_split(X,Y, test_size=0.25)"
      ]
    },
    {
      "cell_type": "code",
      "execution_count": null,
      "metadata": {
        "id": "YjEjdtvUE71-",
        "outputId": "29ed7f7f-dac8-46c2-c804-24697036419c"
      },
      "outputs": [
        {
          "name": "stdout",
          "output_type": "stream",
          "text": [
            "(12219, 5)\n",
            "(12219,)\n",
            "(4074, 5)\n",
            "(4074,)\n"
          ]
        }
      ],
      "source": [
        "print(train_x.shape)\n",
        "print(train_y.shape)\n",
        "print(test_x.shape)\n",
        "print(test_y.shape)"
      ]
    },
    {
      "cell_type": "markdown",
      "metadata": {
        "id": "9Zqv_Mu4E71-"
      },
      "source": [
        "Hypothesis Test  - to test the assumption that we have if they are correct or not.\n",
        " \n",
        "Null Hypothesis H0 - If my assumptions is correct null hypothesis will be accepted.\n",
        "Alternative Hypothesis H1 - If my assumption is not correct alternative hypothesis will be accepted.\n",
        "\n",
        "Eg. my coin is fair.\n",
        "\n",
        "\n",
        "H0 - My coin is fair.\n",
        "H1 - My coin is not fair.\n",
        "\n",
        "T-test\n",
        "f-test\n",
        "chi-square test\n",
        "z-test\n",
        "Anova test\n",
        "\n",
        "\n",
        "\n",
        "\n"
      ]
    },
    {
      "cell_type": "code",
      "execution_count": null,
      "metadata": {
        "id": "ENf21fKSE71-"
      },
      "outputs": [],
      "source": [
        "sample =np.array([34,56,76,56,34,45])\n",
        "\n",
        "sam_mean= sample.mean()"
      ]
    },
    {
      "cell_type": "code",
      "execution_count": null,
      "metadata": {
        "id": "Im5huii2E71_"
      },
      "outputs": [],
      "source": [
        "from scipy.stats import ttest_1samp\n",
        "\n",
        "t_stat, p_value = ttest_1samp(sample, popmean=sam_mean)\n",
        "\n",
        "#H0=Sample mean is less than or equal to hypothetical mean\n",
        "#H1=Sample mean is not less than or equal to hypothetical mean"
      ]
    },
    {
      "cell_type": "code",
      "execution_count": null,
      "metadata": {
        "id": "AnTYvWFUE71_",
        "outputId": "dd70b815-6bc1-4d64-d11b-4a3f11cbc64e"
      },
      "outputs": [
        {
          "name": "stdout",
          "output_type": "stream",
          "text": [
            "0.0\n",
            "1.0\n"
          ]
        }
      ],
      "source": [
        "print(t_stat)\n",
        "print(p_value)"
      ]
    },
    {
      "cell_type": "markdown",
      "metadata": {
        "id": "7GHjKwY9E71_"
      },
      "source": [
        "Importing important libraries\n",
        "Importing dataset\n",
        "Checking my dataset - info, shape, describe, dimension\n",
        "Checking for null values - .isna().sum()\n",
        "Dealing with na vales - Dropna or fillna\n",
        "Analyzing the data set with univariate, bivariate and multivariate analysis\n",
        "Unique, nunique, value counts, corr, mean, mode median\n",
        "barplot. histogram, box plot, heatmap, pairplot, scatterplot, line plot\n",
        "Checking for outliers\n",
        "Dealing with outliers \n",
        "Analysize my variable\n",
        "Manipulation\n",
        "Dealing with categorical variables - Label Encoder, one hot encoding\n",
        "Dropping unimportant columns\n",
        "SPlitting my data into features and target\n",
        "Pca\n",
        "Splitting data into train and test\n"
      ]
    }
  ],
  "metadata": {
    "kernelspec": {
      "display_name": "Python 3",
      "language": "python",
      "name": "python3"
    },
    "language_info": {
      "codemirror_mode": {
        "name": "ipython",
        "version": 3
      },
      "file_extension": ".py",
      "mimetype": "text/x-python",
      "name": "python",
      "nbconvert_exporter": "python",
      "pygments_lexer": "ipython3",
      "version": "3.7.6"
    },
    "colab": {
      "provenance": [],
      "include_colab_link": true
    }
  },
  "nbformat": 4,
  "nbformat_minor": 0
}