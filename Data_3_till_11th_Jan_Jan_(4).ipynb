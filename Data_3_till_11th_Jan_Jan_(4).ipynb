{
  "cells": [
    {
      "cell_type": "markdown",
      "metadata": {
        "id": "view-in-github",
        "colab_type": "text"
      },
      "source": [
        "<a href=\"https://colab.research.google.com/github/Gaddameedi/DSWP_Day2_Practice_Simplilearn/blob/main/Data_3_till_11th_Jan_Jan_(4).ipynb\" target=\"_parent\"><img src=\"https://colab.research.google.com/assets/colab-badge.svg\" alt=\"Open In Colab\"/></a>"
      ]
    },
    {
      "cell_type": "markdown",
      "metadata": {
        "id": "lCkjbbzS2ibR"
      },
      "source": [
        "Data Science - Data + Science.\n",
        "Machine learning - Training the machines to take intelligent decision as we are taking. \n",
        "\n",
        "\n",
        "Data\n",
        "- Structured \n",
        "- Unstructured\n",
        "- Semi Structured Data\n",
        "\n",
        "Science\n",
        "- Stats - Descriptive stats, Infrential Stats\n",
        "- Matehmatical models\n",
        "- Visualization"
      ]
    },
    {
      "cell_type": "markdown",
      "metadata": {
        "id": "2TErmK252ibX"
      },
      "source": [
        "Data science use cases\n",
        "1. For any Buisness problem\n",
        "2. Classification of mail\n",
        "3. Fraud Detection\n",
        "4. Recommendation Enginer\n",
        "5. Auto complete sentence\n",
        "6. Predictive Analysis\n",
        "7. Stock price prediction\n",
        "8. House price prediction\n",
        "9. Weather Prediction"
      ]
    },
    {
      "cell_type": "code",
      "execution_count": null,
      "metadata": {
        "id": "P8uQQ45O2ibX"
      },
      "outputs": [],
      "source": [
        "Data scientist Lifecycle\n",
        "\n",
        "1. Collecting Data\n",
        "2. Understanding buisness problem\n",
        "3. Data cleaning  (Duplicate data, Wrong Entry, null values, Outliers)\n",
        "4. Data Exploration (EDA) Explorartory Data Analysis\n",
        "5. Data Visualization (Bar graph, Histogram, Scatter plot, Line graph, Heatmap)\n",
        "6. Data Manipulation\n",
        "7. Scaling, PCA  (Scaling - Min max scaling, StandardScaler)(Principal component analysis)\n",
        "8. Splitting the data (Training data, Testing data)\n",
        "9. Training the model\n",
        "10. Getting prediction from model\n",
        "\n",
        "\n"
      ]
    },
    {
      "cell_type": "code",
      "execution_count": null,
      "metadata": {
        "id": "kj6jfHKL2ibZ"
      },
      "outputs": [],
      "source": [
        "Python\n",
        "1.Easy to learn\n",
        "2. Large no. of libraries\n",
        "3. open source\n",
        "4. large coummunity\n"
      ]
    },
    {
      "cell_type": "code",
      "execution_count": null,
      "metadata": {
        "id": "z9wGv-6c2iba"
      },
      "outputs": [],
      "source": [
        "Library - It is a bundle of function that can call for your use \n",
        "by provided some keywords that are specified to these functions. "
      ]
    },
    {
      "cell_type": "markdown",
      "metadata": {
        "id": "7j-NvZn_2iba"
      },
      "source": [
        "1. Numpy - Numerical Python\n",
        "2. Pandas - Reading writing files, Manipualtion\n",
        "3. Matplotlib - Data visualization\n",
        "4. Seaborn -Data visualization\n",
        "5. Scikit-learn - Machine learning\n",
        "\n"
      ]
    },
    {
      "cell_type": "code",
      "execution_count": null,
      "metadata": {
        "id": "yZe-pxCp2ibb",
        "outputId": "f9b4c961-521a-4fc2-bc4a-b95e55d631bd"
      },
      "outputs": [
        {
          "data": {
            "text/plain": [
              "5"
            ]
          },
          "execution_count": 2,
          "metadata": {},
          "output_type": "execute_result"
        }
      ],
      "source": [
        "#Python\n",
        "#Adding two numbers\n",
        "3+2"
      ]
    },
    {
      "cell_type": "code",
      "execution_count": null,
      "metadata": {
        "id": "sJJ8UJ3q2ibe",
        "outputId": "118c2039-8ed4-4a7b-bdb2-034adbb0aef8"
      },
      "outputs": [
        {
          "data": {
            "text/plain": [
              "2025"
            ]
          },
          "execution_count": 3,
          "metadata": {},
          "output_type": "execute_result"
        }
      ],
      "source": [
        "#Adding  numbers\n",
        "45*45"
      ]
    },
    {
      "cell_type": "code",
      "execution_count": null,
      "metadata": {
        "id": "zzd-iCr72ibf",
        "outputId": "fc9b8d3a-e312-460a-a6d1-7f5cf90f04ba"
      },
      "outputs": [
        {
          "data": {
            "text/plain": [
              "3322"
            ]
          },
          "execution_count": 4,
          "metadata": {},
          "output_type": "execute_result"
        }
      ],
      "source": [
        "3456-134"
      ]
    },
    {
      "cell_type": "code",
      "execution_count": null,
      "metadata": {
        "id": "R4zr13I02ibg",
        "outputId": "06750fe8-0a90-4a91-8d15-7aa03033f9a8"
      },
      "outputs": [
        {
          "data": {
            "text/plain": [
              "1152.0"
            ]
          },
          "execution_count": 5,
          "metadata": {},
          "output_type": "execute_result"
        }
      ],
      "source": [
        "3456/3"
      ]
    },
    {
      "cell_type": "code",
      "execution_count": null,
      "metadata": {
        "id": "OsKPca-32ibg",
        "outputId": "4e22385c-ec4d-4b58-f58b-0d8cc448e110"
      },
      "outputs": [
        {
          "data": {
            "text/plain": [
              "19"
            ]
          },
          "execution_count": 6,
          "metadata": {},
          "output_type": "execute_result"
        }
      ],
      "source": [
        "2245%21"
      ]
    },
    {
      "cell_type": "code",
      "execution_count": null,
      "metadata": {
        "id": "2UdjXM_M2ibh",
        "outputId": "955e31eb-3c34-423e-b774-ac3c47ea7478"
      },
      "outputs": [
        {
          "data": {
            "text/plain": [
              "193.5"
            ]
          },
          "execution_count": 5,
          "metadata": {},
          "output_type": "execute_result"
        }
      ],
      "source": [
        "193 #Integer\n",
        "'abc' #String\n",
        "True, False #boolean\n",
        "193.5 #float\n"
      ]
    },
    {
      "cell_type": "code",
      "execution_count": null,
      "metadata": {
        "id": "N6C_e8N52ibh"
      },
      "outputs": [],
      "source": [
        "a = 5"
      ]
    },
    {
      "cell_type": "code",
      "execution_count": null,
      "metadata": {
        "id": "Muj1bWPw2ibh",
        "outputId": "e3ce6b10-bd9b-491a-b121-85185746154f"
      },
      "outputs": [
        {
          "data": {
            "text/plain": [
              "int"
            ]
          },
          "execution_count": 4,
          "metadata": {},
          "output_type": "execute_result"
        }
      ],
      "source": [
        "type(a)"
      ]
    },
    {
      "cell_type": "code",
      "execution_count": null,
      "metadata": {
        "id": "PLGauQgS2ibi"
      },
      "outputs": [],
      "source": [
        "b =193.5"
      ]
    },
    {
      "cell_type": "code",
      "execution_count": null,
      "metadata": {
        "id": "pavX-0Tz2ibi",
        "outputId": "17cf22c9-133a-4ced-e6c1-493f5f5c2111"
      },
      "outputs": [
        {
          "data": {
            "text/plain": [
              "float"
            ]
          },
          "execution_count": 7,
          "metadata": {},
          "output_type": "execute_result"
        }
      ],
      "source": [
        "type(b)"
      ]
    },
    {
      "cell_type": "code",
      "execution_count": null,
      "metadata": {
        "id": "Ebh7_rtG2ibi"
      },
      "outputs": [],
      "source": [
        "c = True"
      ]
    },
    {
      "cell_type": "code",
      "execution_count": null,
      "metadata": {
        "id": "U_0AgAQV2ibi",
        "outputId": "e961c8b7-70cd-4067-b29e-fb4f535358ec"
      },
      "outputs": [
        {
          "data": {
            "text/plain": [
              "bool"
            ]
          },
          "execution_count": 9,
          "metadata": {},
          "output_type": "execute_result"
        }
      ],
      "source": [
        "type(c)"
      ]
    },
    {
      "cell_type": "code",
      "execution_count": null,
      "metadata": {
        "id": "zMXQ5i3v2ibj"
      },
      "outputs": [],
      "source": [
        "d = 'abc'"
      ]
    },
    {
      "cell_type": "code",
      "execution_count": null,
      "metadata": {
        "id": "TaNDF9Pr2ibj",
        "outputId": "0a772176-adc5-4719-87b8-3647c3ed3def"
      },
      "outputs": [
        {
          "data": {
            "text/plain": [
              "str"
            ]
          },
          "execution_count": 11,
          "metadata": {},
          "output_type": "execute_result"
        }
      ],
      "source": [
        "type(d)"
      ]
    },
    {
      "cell_type": "code",
      "execution_count": null,
      "metadata": {
        "id": "JswJcL7Z2ibj"
      },
      "outputs": [],
      "source": [
        "a = 45\n",
        "b =35"
      ]
    },
    {
      "cell_type": "code",
      "execution_count": null,
      "metadata": {
        "id": "SkkR1bdt2ibk",
        "outputId": "03fbd370-16f2-4e9d-e0ac-95858a01250e"
      },
      "outputs": [
        {
          "data": {
            "text/plain": [
              "False"
            ]
          },
          "execution_count": 14,
          "metadata": {},
          "output_type": "execute_result"
        }
      ],
      "source": [
        "a<=b"
      ]
    },
    {
      "cell_type": "code",
      "execution_count": null,
      "metadata": {
        "id": "FEZtaK7V2ibk",
        "outputId": "df863343-0d44-4ee5-cc27-1d226b37df32"
      },
      "outputs": [
        {
          "data": {
            "text/plain": [
              "True"
            ]
          },
          "execution_count": 15,
          "metadata": {},
          "output_type": "execute_result"
        }
      ],
      "source": [
        "a>=b"
      ]
    },
    {
      "cell_type": "code",
      "execution_count": null,
      "metadata": {
        "id": "qy2WNCDx2ibl",
        "outputId": "3ccbb619-74c7-4074-a486-14cd1663a055"
      },
      "outputs": [
        {
          "data": {
            "text/plain": [
              "False"
            ]
          },
          "execution_count": 16,
          "metadata": {},
          "output_type": "execute_result"
        }
      ],
      "source": [
        "a==b"
      ]
    },
    {
      "cell_type": "code",
      "execution_count": null,
      "metadata": {
        "id": "v65tj_6M2ibl",
        "outputId": "a7251a89-73ba-44f9-e6b4-3a2129a1bd85"
      },
      "outputs": [
        {
          "data": {
            "text/plain": [
              "True"
            ]
          },
          "execution_count": 17,
          "metadata": {},
          "output_type": "execute_result"
        }
      ],
      "source": [
        "a!=b"
      ]
    },
    {
      "cell_type": "code",
      "execution_count": null,
      "metadata": {
        "id": "8vAGoE3S2ibl",
        "outputId": "489c3392-6302-4245-f16d-1f9ff56fb488"
      },
      "outputs": [
        {
          "data": {
            "text/plain": [
              "False"
            ]
          },
          "execution_count": 20,
          "metadata": {},
          "output_type": "execute_result"
        }
      ],
      "source": [
        "a =23\n",
        "b =12\n",
        "#a = b\n",
        "a==b"
      ]
    },
    {
      "cell_type": "markdown",
      "metadata": {
        "id": "WkW39mhT2ibl"
      },
      "source": [
        "Data Structures in Python\n",
        "1. List\n",
        "2. Tuple\n",
        "3. Dict\n"
      ]
    },
    {
      "cell_type": "code",
      "execution_count": null,
      "metadata": {
        "id": "LW-ve_wF2ibm"
      },
      "outputs": [],
      "source": [
        "#creating a list with 4 different data types\n",
        "a = [123,23, True, 12.7,123, 'strings',(1,4,5)]"
      ]
    },
    {
      "cell_type": "code",
      "execution_count": null,
      "metadata": {
        "id": "Jy3pakdM2ibm",
        "outputId": "adfcf343-3c20-4f2d-d832-1f98dca845f8"
      },
      "outputs": [
        {
          "data": {
            "text/plain": [
              "list"
            ]
          },
          "execution_count": 28,
          "metadata": {},
          "output_type": "execute_result"
        }
      ],
      "source": [
        "#Checking type of a variable\n",
        "type(a)"
      ]
    },
    {
      "cell_type": "code",
      "execution_count": null,
      "metadata": {
        "id": "jxApPJw62ibm",
        "outputId": "159db659-8bdb-43ff-fadd-3a0312d00e21"
      },
      "outputs": [
        {
          "data": {
            "text/plain": [
              "[23, True, [5, 6], 5, 12.7, 123, 'strings']"
            ]
          },
          "execution_count": 75,
          "metadata": {},
          "output_type": "execute_result"
        }
      ],
      "source": [
        "a"
      ]
    },
    {
      "cell_type": "code",
      "execution_count": null,
      "metadata": {
        "id": "mTUXdlOt2ibm",
        "outputId": "0c8f63ef-84c5-4f60-cab7-9308b8864e8c"
      },
      "outputs": [
        {
          "data": {
            "text/plain": [
              "23"
            ]
          },
          "execution_count": 56,
          "metadata": {},
          "output_type": "execute_result"
        }
      ],
      "source": [
        "#accessing the element from a list\n",
        "a[1]"
      ]
    },
    {
      "cell_type": "code",
      "execution_count": null,
      "metadata": {
        "id": "nmPHUy7F2ibn",
        "outputId": "97f36f23-6b1c-4e48-e252-65687610b15c"
      },
      "outputs": [
        {
          "data": {
            "text/plain": [
              "9"
            ]
          },
          "execution_count": 47,
          "metadata": {},
          "output_type": "execute_result"
        }
      ],
      "source": [
        "# to check total no. of elements in the list\n",
        "len(a)"
      ]
    },
    {
      "cell_type": "code",
      "execution_count": null,
      "metadata": {
        "id": "TfLLQGUY2ibn",
        "outputId": "4c6964e4-60de-46dc-ce70-2f5d975202cc"
      },
      "outputs": [
        {
          "data": {
            "text/plain": [
              "[True, 12.7, 123, 'strings', (1, 4, 5)]"
            ]
          },
          "execution_count": 39,
          "metadata": {},
          "output_type": "execute_result"
        }
      ],
      "source": [
        "b"
      ]
    },
    {
      "cell_type": "code",
      "execution_count": null,
      "metadata": {
        "id": "7_CML1Ye2ibn"
      },
      "outputs": [],
      "source": [
        "#adding an element in the list at last index\n",
        "a.append(433)"
      ]
    },
    {
      "cell_type": "code",
      "execution_count": null,
      "metadata": {
        "id": "jsUb5OI32ibo"
      },
      "outputs": [],
      "source": [
        "#inserting an element in list at desired position\n",
        "a.insert(3,'yjf')"
      ]
    },
    {
      "cell_type": "code",
      "execution_count": null,
      "metadata": {
        "id": "KCYOjvQN2ibo",
        "outputId": "e2dcc1c3-f646-434e-bb58-4c1306fa1a87"
      },
      "outputs": [
        {
          "data": {
            "text/plain": [
              "11"
            ]
          },
          "execution_count": 63,
          "metadata": {},
          "output_type": "execute_result"
        }
      ],
      "source": [
        "# Finding the index of a specific element\n",
        "a.index(433)"
      ]
    },
    {
      "cell_type": "code",
      "execution_count": null,
      "metadata": {
        "id": "TYn5FSaf2ibo"
      },
      "outputs": [],
      "source": [
        "#Remove element from list\n",
        "a.remove(a[0])"
      ]
    },
    {
      "cell_type": "code",
      "execution_count": null,
      "metadata": {
        "id": "-cIZuS6p2ibp"
      },
      "outputs": [],
      "source": [
        "#creating tuples\n",
        "b = (123, False, 13.7, 'string1',(5,7))"
      ]
    },
    {
      "cell_type": "code",
      "execution_count": null,
      "metadata": {
        "id": "wZxJ9-yC2ibp",
        "outputId": "18b18956-fb41-4c83-b449-661a79b8518f"
      },
      "outputs": [
        {
          "data": {
            "text/plain": [
              "tuple"
            ]
          },
          "execution_count": 24,
          "metadata": {},
          "output_type": "execute_result"
        }
      ],
      "source": [
        "type(b)"
      ]
    },
    {
      "cell_type": "code",
      "execution_count": null,
      "metadata": {
        "id": "E3lr_DUu2ibp"
      },
      "outputs": [],
      "source": []
    },
    {
      "cell_type": "code",
      "execution_count": null,
      "metadata": {
        "id": "9bQZsRxd2ibp",
        "outputId": "108b2baf-7ece-4ab7-9e11-910c6d6bb9ee"
      },
      "outputs": [
        {
          "data": {
            "text/plain": [
              "(123, False, 13.7, 'string1', (5, 7))"
            ]
          },
          "execution_count": 77,
          "metadata": {},
          "output_type": "execute_result"
        }
      ],
      "source": [
        "b"
      ]
    },
    {
      "cell_type": "code",
      "execution_count": null,
      "metadata": {
        "id": "H45pYNcr2ibq"
      },
      "outputs": [],
      "source": [
        "#created the Dictionary\n",
        "dict = {True:'one',2:'two', 'str':'three'}"
      ]
    },
    {
      "cell_type": "code",
      "execution_count": null,
      "metadata": {
        "id": "lF57-61I2ibq",
        "outputId": "e2d32805-a9f9-4cad-854c-0a96faf29a00"
      },
      "outputs": [
        {
          "data": {
            "text/plain": [
              "dict"
            ]
          },
          "execution_count": 2,
          "metadata": {},
          "output_type": "execute_result"
        }
      ],
      "source": [
        "type(dict)"
      ]
    },
    {
      "cell_type": "code",
      "execution_count": null,
      "metadata": {
        "id": "BNXvBt6R2ibq",
        "outputId": "4be5f0c2-bf08-43c9-80be-38c8b06ff25b"
      },
      "outputs": [
        {
          "data": {
            "text/plain": [
              "{True: 'one', 2: 'two', 'str': 'three'}"
            ]
          },
          "execution_count": 12,
          "metadata": {},
          "output_type": "execute_result"
        }
      ],
      "source": [
        "dict"
      ]
    },
    {
      "cell_type": "code",
      "execution_count": null,
      "metadata": {
        "id": "uCx0YuDM2ibr",
        "outputId": "7dabc2c7-8ecd-46a8-a285-055de0cf9caf"
      },
      "outputs": [
        {
          "data": {
            "text/plain": [
              "dict_keys([True, 2, 'str'])"
            ]
          },
          "execution_count": 4,
          "metadata": {},
          "output_type": "execute_result"
        }
      ],
      "source": [
        "#Printing all the keys present in dict\n",
        "dict.keys()"
      ]
    },
    {
      "cell_type": "code",
      "execution_count": null,
      "metadata": {
        "id": "ceUo4ddj2ibr",
        "outputId": "46ae1c20-f711-4795-9b26-191139d1ba03"
      },
      "outputs": [
        {
          "data": {
            "text/plain": [
              "dict_items([(True, 'one'), (2, 'two'), ('str', 'three')])"
            ]
          },
          "execution_count": 102,
          "metadata": {},
          "output_type": "execute_result"
        }
      ],
      "source": [
        "#Printing all the key values present in dict in the form of tuples\n",
        "dict.items()"
      ]
    },
    {
      "cell_type": "code",
      "execution_count": null,
      "metadata": {
        "id": "yo47MjDP2ibr",
        "outputId": "b4fa7662-5176-485e-9e99-55f3269ed336"
      },
      "outputs": [
        {
          "data": {
            "text/plain": [
              "dict_values(['one', 'two', 'three'])"
            ]
          },
          "execution_count": 7,
          "metadata": {},
          "output_type": "execute_result"
        }
      ],
      "source": [
        "#printing all the values of all keys in dict\n",
        "dict.values()"
      ]
    },
    {
      "cell_type": "code",
      "execution_count": null,
      "metadata": {
        "id": "GCdd2pW12ibr",
        "outputId": "d87d950f-5cd1-45d0-ebf5-2c5e34a86350"
      },
      "outputs": [
        {
          "data": {
            "text/plain": [
              "'two'"
            ]
          },
          "execution_count": 6,
          "metadata": {},
          "output_type": "execute_result"
        }
      ],
      "source": [
        "#accessing the value of list by giving key name \n",
        "dict.get(2)"
      ]
    },
    {
      "cell_type": "code",
      "execution_count": null,
      "metadata": {
        "id": "iaY4NoXF2ibs"
      },
      "outputs": [],
      "source": [
        "#Adding key value into dict.\n",
        "dict[4] = 'Four'"
      ]
    },
    {
      "cell_type": "code",
      "execution_count": null,
      "metadata": {
        "id": "EIsnbkzb2ibt",
        "outputId": "1bba28fa-b94f-4e7a-ebbe-163407bd256b"
      },
      "outputs": [
        {
          "data": {
            "text/plain": [
              "'Four'"
            ]
          },
          "execution_count": 101,
          "metadata": {},
          "output_type": "execute_result"
        }
      ],
      "source": [
        "# removing elements from Dict\n",
        "dict.pop(4)"
      ]
    },
    {
      "cell_type": "code",
      "execution_count": null,
      "metadata": {
        "id": "SjXYngzi2ibu",
        "outputId": "9a3d23f8-ad18-4b80-916c-78495e3c06a4"
      },
      "outputs": [
        {
          "data": {
            "text/plain": [
              "(4, 'Four')"
            ]
          },
          "execution_count": 11,
          "metadata": {},
          "output_type": "execute_result"
        }
      ],
      "source": [
        "#removing the key value pair from dict\n",
        "dict.popitem()"
      ]
    },
    {
      "cell_type": "code",
      "execution_count": null,
      "metadata": {
        "id": "rqXVRv852ibu"
      },
      "outputs": [],
      "source": [
        "#syntax to import complete library\n",
        "import numpy as np"
      ]
    },
    {
      "cell_type": "code",
      "execution_count": null,
      "metadata": {
        "id": "NyDYNKOB2ibv",
        "outputId": "22df8eef-b4cb-44b0-ee1a-902a6a9b6fa1"
      },
      "outputs": [
        {
          "data": {
            "text/plain": [
              "11.180339887498949"
            ]
          },
          "execution_count": 15,
          "metadata": {},
          "output_type": "execute_result"
        }
      ],
      "source": [
        "np.sqrt(125)"
      ]
    },
    {
      "cell_type": "markdown",
      "metadata": {
        "id": "Uru52HU22ibw"
      },
      "source": [
        "Numpy - Numerical python \n",
        "\n",
        "Array - 1 Darray\n",
        "      - 2 Darray\n",
        "      - Multi Darray\n",
        "      \n",
        "why we use array\n",
        "It can mathematical operations\n",
        "Arrays are fast as compared to list\n",
        "It has multidimension.\n",
        "Mutable in nature\n",
        "More functionality as compared to lists"
      ]
    },
    {
      "cell_type": "code",
      "execution_count": null,
      "metadata": {
        "id": "cKHKYJPb2ibw"
      },
      "outputs": [],
      "source": [
        "#Creating Array\n",
        "abb = np.array([1,True, 34.5, 'fdg'])"
      ]
    },
    {
      "cell_type": "code",
      "execution_count": null,
      "metadata": {
        "id": "5NA4Pku42ibw",
        "outputId": "9c5cbd8e-00b7-449b-8a60-c562b353f25a"
      },
      "outputs": [
        {
          "data": {
            "text/plain": [
              "numpy.ndarray"
            ]
          },
          "execution_count": 17,
          "metadata": {},
          "output_type": "execute_result"
        }
      ],
      "source": [
        "type(abb)"
      ]
    },
    {
      "cell_type": "code",
      "execution_count": null,
      "metadata": {
        "id": "f1PQhA_W2ibw"
      },
      "outputs": [],
      "source": [
        "#creating a zero array\n",
        "zero= np.zeros(4)"
      ]
    },
    {
      "cell_type": "code",
      "execution_count": null,
      "metadata": {
        "id": "OADaxl6K2ibw"
      },
      "outputs": [],
      "source": [
        "#creating all ones array\n",
        "ones = np.ones(5)"
      ]
    },
    {
      "cell_type": "code",
      "execution_count": null,
      "metadata": {
        "id": "wQgeCdNx2ibx",
        "outputId": "496a3353-d827-4f46-de59-d70e1cd51177"
      },
      "outputs": [
        {
          "data": {
            "text/plain": [
              "array([ 0,  1,  2,  3,  4,  5,  6,  7,  8,  9, 10, 11, 12, 13, 14, 15, 16,\n",
              "       17, 18, 19, 20, 21, 22, 23, 24, 25, 26, 27, 28, 29, 30, 31, 32, 33,\n",
              "       34, 35, 36, 37, 38, 39, 40, 41, 42, 43, 44, 45, 46, 47, 48, 49, 50,\n",
              "       51, 52, 53, 54, 55, 56, 57, 58, 59, 60, 61, 62, 63, 64, 65, 66, 67,\n",
              "       68, 69, 70, 71, 72, 73, 74, 75, 76, 77, 78, 79, 80, 81, 82, 83, 84,\n",
              "       85, 86, 87, 88, 89, 90, 91, 92, 93, 94, 95, 96, 97, 98, 99])"
            ]
          },
          "execution_count": 10,
          "metadata": {},
          "output_type": "execute_result"
        }
      ],
      "source": [
        "#creating array by giving no. of elements\n",
        "np.arange(100)"
      ]
    },
    {
      "cell_type": "code",
      "execution_count": null,
      "metadata": {
        "id": "MsHfqEkc2ibx"
      },
      "outputs": [],
      "source": [
        "#creating 1 d array by providing start\n",
        "\n",
        "rew= np.linspace(1,50,10)"
      ]
    },
    {
      "cell_type": "code",
      "execution_count": null,
      "metadata": {
        "id": "W4VPisR32iby",
        "outputId": "503f4259-19fa-45c9-c22b-338f69904d43"
      },
      "outputs": [
        {
          "data": {
            "text/plain": [
              "10"
            ]
          },
          "execution_count": 19,
          "metadata": {},
          "output_type": "execute_result"
        }
      ],
      "source": [
        "len(rew)"
      ]
    },
    {
      "cell_type": "code",
      "execution_count": null,
      "metadata": {
        "id": "ZuTa00Oi2iby",
        "outputId": "22520162-14fc-479a-ae72-a7328ee69d7f"
      },
      "outputs": [
        {
          "data": {
            "text/plain": [
              "1"
            ]
          },
          "execution_count": 22,
          "metadata": {},
          "output_type": "execute_result"
        }
      ],
      "source": [
        "rew.ndim"
      ]
    },
    {
      "cell_type": "code",
      "execution_count": null,
      "metadata": {
        "id": "WbcNClrj2ibz"
      },
      "outputs": [],
      "source": [
        "abc = np.array([4,5,7,9])\n",
        "dsc = np.array([5,9,8,2])"
      ]
    },
    {
      "cell_type": "code",
      "execution_count": null,
      "metadata": {
        "id": "vNZCjRo-2ibz",
        "outputId": "08d24149-556c-4efd-8ad3-6e40d48877b0"
      },
      "outputs": [
        {
          "data": {
            "text/plain": [
              "array([ 9, 14, 15, 11])"
            ]
          },
          "execution_count": 30,
          "metadata": {},
          "output_type": "execute_result"
        }
      ],
      "source": [
        "abc+dsc"
      ]
    },
    {
      "cell_type": "code",
      "execution_count": null,
      "metadata": {
        "id": "d0lJq3zK2ib0",
        "outputId": "e5fd3d96-37f5-4caa-8ad1-6b643359cf6f"
      },
      "outputs": [
        {
          "data": {
            "text/plain": [
              "array([1., 1., 1., 1., 1.])"
            ]
          },
          "execution_count": 6,
          "metadata": {},
          "output_type": "execute_result"
        }
      ],
      "source": [
        "ones"
      ]
    },
    {
      "cell_type": "code",
      "execution_count": null,
      "metadata": {
        "id": "qmjRbd4Y2ib0",
        "outputId": "0595bb2c-4043-42ce-ff6b-0ab8ffc33d73"
      },
      "outputs": [
        {
          "data": {
            "text/plain": [
              "array([0., 0., 0., 0.])"
            ]
          },
          "execution_count": 3,
          "metadata": {},
          "output_type": "execute_result"
        }
      ],
      "source": [
        "zero"
      ]
    },
    {
      "cell_type": "code",
      "execution_count": null,
      "metadata": {
        "id": "OcMGwmay2ib0"
      },
      "outputs": [],
      "source": [
        "#creating a 2d array\n",
        "inn = np.array([[3,5,6,7],[6,7,9,0]])"
      ]
    },
    {
      "cell_type": "code",
      "execution_count": null,
      "metadata": {
        "id": "ep3kUZ2i2ib1",
        "outputId": "cbcb2203-daef-40c7-d92c-f0eefd9c9c86"
      },
      "outputs": [
        {
          "data": {
            "text/plain": [
              "numpy.ndarray"
            ]
          },
          "execution_count": 32,
          "metadata": {},
          "output_type": "execute_result"
        }
      ],
      "source": [
        "type(inn)"
      ]
    },
    {
      "cell_type": "code",
      "execution_count": null,
      "metadata": {
        "id": "vlr2aaAO2ib1",
        "outputId": "6f511ca7-8820-4c35-91dd-3df8193ca583"
      },
      "outputs": [
        {
          "data": {
            "text/plain": [
              "2"
            ]
          },
          "execution_count": 33,
          "metadata": {},
          "output_type": "execute_result"
        }
      ],
      "source": [
        "len(inn)"
      ]
    },
    {
      "cell_type": "code",
      "execution_count": null,
      "metadata": {
        "id": "V5q6TSNx2ib1",
        "outputId": "54028a45-2fa8-4f3e-d831-86e30ba421d1"
      },
      "outputs": [
        {
          "data": {
            "text/plain": [
              "2"
            ]
          },
          "execution_count": 34,
          "metadata": {},
          "output_type": "execute_result"
        }
      ],
      "source": [
        "inn.ndim"
      ]
    },
    {
      "cell_type": "code",
      "execution_count": null,
      "metadata": {
        "id": "k-428HTf2ib2",
        "outputId": "43e69263-8e87-4542-99dd-8c9fca55f78b"
      },
      "outputs": [
        {
          "data": {
            "text/plain": [
              "(6, 2)"
            ]
          },
          "execution_count": 55,
          "metadata": {},
          "output_type": "execute_result"
        }
      ],
      "source": [
        "ret.shape"
      ]
    },
    {
      "cell_type": "code",
      "execution_count": null,
      "metadata": {
        "id": "LRcqDsJd2ib2"
      },
      "outputs": [],
      "source": [
        "ret = np.array([4,6,8,9,7,5,4,0,6,2,34,65])"
      ]
    },
    {
      "cell_type": "code",
      "execution_count": null,
      "metadata": {
        "id": "694u0pRQ2ib2",
        "outputId": "febaa8a8-ca24-479c-d186-787dea61cf0e"
      },
      "outputs": [
        {
          "data": {
            "text/plain": [
              "array([[ 4,  6,  8],\n",
              "       [ 9,  7,  5],\n",
              "       [ 4,  0,  6],\n",
              "       [ 2, 34, 65]])"
            ]
          },
          "execution_count": 52,
          "metadata": {},
          "output_type": "execute_result"
        }
      ],
      "source": [
        "#Converting 1d array to 2 d array\n",
        "ret = ret.reshape(4,3)"
      ]
    },
    {
      "cell_type": "code",
      "execution_count": null,
      "metadata": {
        "id": "NGq48rNd2ib2"
      },
      "outputs": [],
      "source": [
        "#Converting 1d array to 2 d array\n",
        "ret.resize(3,4)"
      ]
    },
    {
      "cell_type": "code",
      "execution_count": null,
      "metadata": {
        "id": "dFyxDAEg2ib2",
        "outputId": "70adf0da-f153-4fc4-993b-ecafe4f57fb6"
      },
      "outputs": [
        {
          "data": {
            "text/plain": [
              "array([[ 4,  6,  8,  9],\n",
              "       [ 7,  5,  4,  0],\n",
              "       [ 6,  2, 34, 65]])"
            ]
          },
          "execution_count": 6,
          "metadata": {},
          "output_type": "execute_result"
        }
      ],
      "source": [
        "ret"
      ]
    },
    {
      "cell_type": "code",
      "execution_count": null,
      "metadata": {
        "id": "fiqZNfAe2ib3"
      },
      "outputs": [],
      "source": []
    },
    {
      "cell_type": "code",
      "execution_count": null,
      "metadata": {
        "id": "GT1rhonY2ib3"
      },
      "outputs": [],
      "source": [
        "#splitting array to given parts\n",
        "array1, array2,array3,array4 = np.hsplit(ret, 4)"
      ]
    },
    {
      "cell_type": "code",
      "execution_count": null,
      "metadata": {
        "id": "6hs7SLBZ2ib3",
        "outputId": "eedeb2bd-99bd-4f9e-9e37-9cb1d3c6d518"
      },
      "outputs": [
        {
          "data": {
            "text/plain": [
              "array([[ 9],\n",
              "       [ 0],\n",
              "       [65]])"
            ]
          },
          "execution_count": 11,
          "metadata": {},
          "output_type": "execute_result"
        }
      ],
      "source": [
        "array4"
      ]
    },
    {
      "cell_type": "code",
      "execution_count": null,
      "metadata": {
        "id": "CFQIDT9e2ib3"
      },
      "outputs": [],
      "source": [
        "#creating 3d array\n",
        "wer = np.array([[[3,5,7],[5,8,7]],[[5,7,8],[6,9,0]]])"
      ]
    },
    {
      "cell_type": "code",
      "execution_count": null,
      "metadata": {
        "id": "F-xEQ98E2ib3",
        "outputId": "3730364f-eb85-45f5-f3d9-34d07d24d78c"
      },
      "outputs": [
        {
          "data": {
            "text/plain": [
              "(2, 2, 3)"
            ]
          },
          "execution_count": 13,
          "metadata": {},
          "output_type": "execute_result"
        }
      ],
      "source": [
        "wer.shape"
      ]
    },
    {
      "cell_type": "code",
      "execution_count": null,
      "metadata": {
        "id": "qI46pryV2ib4",
        "outputId": "ff461b4f-936f-4884-f5ef-059ded9c378a"
      },
      "outputs": [
        {
          "data": {
            "text/plain": [
              "array([[[3, 5, 7],\n",
              "        [5, 8, 7]],\n",
              "\n",
              "       [[5, 7, 8],\n",
              "        [6, 9, 0]]])"
            ]
          },
          "execution_count": 14,
          "metadata": {},
          "output_type": "execute_result"
        }
      ],
      "source": [
        "wer"
      ]
    },
    {
      "cell_type": "code",
      "execution_count": null,
      "metadata": {
        "id": "Tk8qatmi2ib4"
      },
      "outputs": [],
      "source": [
        "bed = np.array([3,5,8,7,9,6,8,5,4,3,7,9])"
      ]
    },
    {
      "cell_type": "code",
      "execution_count": null,
      "metadata": {
        "id": "icSvo5ON2ib4",
        "outputId": "34739b5d-bc14-4de9-8832-f0ceedc71827"
      },
      "outputs": [
        {
          "data": {
            "text/plain": [
              "12"
            ]
          },
          "execution_count": 77,
          "metadata": {},
          "output_type": "execute_result"
        }
      ],
      "source": [
        "len(bed)"
      ]
    },
    {
      "cell_type": "code",
      "execution_count": null,
      "metadata": {
        "id": "1Ce1ALcd2ib5"
      },
      "outputs": [],
      "source": [
        "bed.resize(2,3,2)"
      ]
    },
    {
      "cell_type": "code",
      "execution_count": null,
      "metadata": {
        "id": "n-VbGyjk2ib5",
        "outputId": "231ffc64-e569-4f50-bd52-f201979c0766"
      },
      "outputs": [
        {
          "data": {
            "text/plain": [
              "array([[[3, 5],\n",
              "        [8, 7],\n",
              "        [9, 6]],\n",
              "\n",
              "       [[8, 5],\n",
              "        [4, 3],\n",
              "        [7, 9]]])"
            ]
          },
          "execution_count": 29,
          "metadata": {},
          "output_type": "execute_result"
        }
      ],
      "source": [
        "bed"
      ]
    },
    {
      "cell_type": "code",
      "execution_count": null,
      "metadata": {
        "id": "eFIsCaWJ2ib5",
        "outputId": "1ef19d1c-f719-43f8-82fe-b9e32f7b47b0"
      },
      "outputs": [
        {
          "data": {
            "text/plain": [
              "(2, 3, 2)"
            ]
          },
          "execution_count": 82,
          "metadata": {},
          "output_type": "execute_result"
        }
      ],
      "source": [
        "bed.shape"
      ]
    },
    {
      "cell_type": "code",
      "execution_count": null,
      "metadata": {
        "id": "7ypqoLpX2ib5",
        "outputId": "82922346-d806-4fef-b770-f724804580a8"
      },
      "outputs": [
        {
          "data": {
            "text/plain": [
              "array([6, 8, 5, 4])"
            ]
          },
          "execution_count": 20,
          "metadata": {},
          "output_type": "execute_result"
        }
      ],
      "source": [
        "#accessing elements of 1 d array\n",
        "bed[5:9]"
      ]
    },
    {
      "cell_type": "code",
      "execution_count": null,
      "metadata": {
        "id": "GynN3OH02ib5",
        "outputId": "7687080e-e488-45b9-c700-efcca6f4b16b"
      },
      "outputs": [
        {
          "data": {
            "text/plain": [
              "array([[3, 5],\n",
              "       [8, 7]])"
            ]
          },
          "execution_count": 33,
          "metadata": {},
          "output_type": "execute_result"
        }
      ],
      "source": [
        "#accessing 2d array \n",
        "bed[0,0:2,0:2]"
      ]
    },
    {
      "cell_type": "markdown",
      "metadata": {
        "id": "P7tVVSd22ib6"
      },
      "source": [
        "Pandas\n",
        "\n",
        "Data Structure - Series,\n",
        "Dataframe---\n",
        "it is having a lot of functionality as compared to array.\n",
        "It can a very large amount of data.\n",
        "It can read and write from mostly all of the file formats.\n",
        "\n"
      ]
    },
    {
      "cell_type": "code",
      "execution_count": null,
      "metadata": {
        "id": "-3ikOoW02ib6"
      },
      "outputs": [],
      "source": [
        "#importing pandas library\n",
        "import pandas as pd"
      ]
    },
    {
      "cell_type": "code",
      "execution_count": null,
      "metadata": {
        "id": "vPC7q7sq2ib6"
      },
      "outputs": [],
      "source": [
        "#Reading the dataset\n",
        "\n",
        "drive = pd.read_csv('vgsales.csv')\n"
      ]
    },
    {
      "cell_type": "code",
      "execution_count": null,
      "metadata": {
        "id": "ck_tXdqF2ib6",
        "outputId": "6e0e7c0e-74e3-462b-870f-9a22a038cff1"
      },
      "outputs": [
        {
          "data": {
            "text/plain": [
              "pandas.core.frame.DataFrame"
            ]
          },
          "execution_count": 11,
          "metadata": {},
          "output_type": "execute_result"
        }
      ],
      "source": [
        "type(drive)"
      ]
    },
    {
      "cell_type": "code",
      "execution_count": null,
      "metadata": {
        "id": "02zYYBtt2ib7",
        "outputId": "745365cd-7b50-4992-f7e6-3348029c96db"
      },
      "outputs": [
        {
          "data": {
            "text/html": [
              "<div>\n",
              "<style scoped>\n",
              "    .dataframe tbody tr th:only-of-type {\n",
              "        vertical-align: middle;\n",
              "    }\n",
              "\n",
              "    .dataframe tbody tr th {\n",
              "        vertical-align: top;\n",
              "    }\n",
              "\n",
              "    .dataframe thead th {\n",
              "        text-align: right;\n",
              "    }\n",
              "</style>\n",
              "<table border=\"1\" class=\"dataframe\">\n",
              "  <thead>\n",
              "    <tr style=\"text-align: right;\">\n",
              "      <th></th>\n",
              "      <th>Rank</th>\n",
              "      <th>Name</th>\n",
              "      <th>Platform</th>\n",
              "      <th>Year</th>\n",
              "      <th>Genre</th>\n",
              "      <th>Publisher</th>\n",
              "      <th>NA_Sales</th>\n",
              "      <th>EU_Sales</th>\n",
              "      <th>JP_Sales</th>\n",
              "      <th>Other_Sales</th>\n",
              "      <th>Global_Sales</th>\n",
              "    </tr>\n",
              "  </thead>\n",
              "  <tbody>\n",
              "    <tr>\n",
              "      <th>0</th>\n",
              "      <td>1</td>\n",
              "      <td>Wii Sports</td>\n",
              "      <td>Wii</td>\n",
              "      <td>2006.0</td>\n",
              "      <td>Sports</td>\n",
              "      <td>Nintendo</td>\n",
              "      <td>41.49</td>\n",
              "      <td>29.02</td>\n",
              "      <td>3.77</td>\n",
              "      <td>8.46</td>\n",
              "      <td>82.74</td>\n",
              "    </tr>\n",
              "    <tr>\n",
              "      <th>1</th>\n",
              "      <td>2</td>\n",
              "      <td>Super Mario Bros.</td>\n",
              "      <td>NES</td>\n",
              "      <td>1985.0</td>\n",
              "      <td>Platform</td>\n",
              "      <td>Nintendo</td>\n",
              "      <td>29.08</td>\n",
              "      <td>3.58</td>\n",
              "      <td>6.81</td>\n",
              "      <td>0.77</td>\n",
              "      <td>40.24</td>\n",
              "    </tr>\n",
              "    <tr>\n",
              "      <th>2</th>\n",
              "      <td>3</td>\n",
              "      <td>Mario Kart Wii</td>\n",
              "      <td>Wii</td>\n",
              "      <td>2008.0</td>\n",
              "      <td>Racing</td>\n",
              "      <td>Nintendo</td>\n",
              "      <td>15.85</td>\n",
              "      <td>12.88</td>\n",
              "      <td>3.79</td>\n",
              "      <td>3.31</td>\n",
              "      <td>35.82</td>\n",
              "    </tr>\n",
              "    <tr>\n",
              "      <th>3</th>\n",
              "      <td>4</td>\n",
              "      <td>Wii Sports Resort</td>\n",
              "      <td>Wii</td>\n",
              "      <td>2009.0</td>\n",
              "      <td>Sports</td>\n",
              "      <td>Nintendo</td>\n",
              "      <td>15.75</td>\n",
              "      <td>11.01</td>\n",
              "      <td>3.28</td>\n",
              "      <td>2.96</td>\n",
              "      <td>33.00</td>\n",
              "    </tr>\n",
              "    <tr>\n",
              "      <th>4</th>\n",
              "      <td>5</td>\n",
              "      <td>Pokemon Red/Pokemon Blue</td>\n",
              "      <td>GB</td>\n",
              "      <td>1996.0</td>\n",
              "      <td>Role-Playing</td>\n",
              "      <td>Nintendo</td>\n",
              "      <td>11.27</td>\n",
              "      <td>8.89</td>\n",
              "      <td>10.22</td>\n",
              "      <td>1.00</td>\n",
              "      <td>31.37</td>\n",
              "    </tr>\n",
              "    <tr>\n",
              "      <th>...</th>\n",
              "      <td>...</td>\n",
              "      <td>...</td>\n",
              "      <td>...</td>\n",
              "      <td>...</td>\n",
              "      <td>...</td>\n",
              "      <td>...</td>\n",
              "      <td>...</td>\n",
              "      <td>...</td>\n",
              "      <td>...</td>\n",
              "      <td>...</td>\n",
              "      <td>...</td>\n",
              "    </tr>\n",
              "    <tr>\n",
              "      <th>16593</th>\n",
              "      <td>16596</td>\n",
              "      <td>Woody Woodpecker in Crazy Castle 5</td>\n",
              "      <td>GBA</td>\n",
              "      <td>2002.0</td>\n",
              "      <td>Platform</td>\n",
              "      <td>Kemco</td>\n",
              "      <td>0.01</td>\n",
              "      <td>0.00</td>\n",
              "      <td>0.00</td>\n",
              "      <td>0.00</td>\n",
              "      <td>0.01</td>\n",
              "    </tr>\n",
              "    <tr>\n",
              "      <th>16594</th>\n",
              "      <td>16597</td>\n",
              "      <td>Men in Black II: Alien Escape</td>\n",
              "      <td>GC</td>\n",
              "      <td>2003.0</td>\n",
              "      <td>Shooter</td>\n",
              "      <td>Infogrames</td>\n",
              "      <td>0.01</td>\n",
              "      <td>0.00</td>\n",
              "      <td>0.00</td>\n",
              "      <td>0.00</td>\n",
              "      <td>0.01</td>\n",
              "    </tr>\n",
              "    <tr>\n",
              "      <th>16595</th>\n",
              "      <td>16598</td>\n",
              "      <td>SCORE International Baja 1000: The Official Game</td>\n",
              "      <td>PS2</td>\n",
              "      <td>2008.0</td>\n",
              "      <td>Racing</td>\n",
              "      <td>Activision</td>\n",
              "      <td>0.00</td>\n",
              "      <td>0.00</td>\n",
              "      <td>0.00</td>\n",
              "      <td>0.00</td>\n",
              "      <td>0.01</td>\n",
              "    </tr>\n",
              "    <tr>\n",
              "      <th>16596</th>\n",
              "      <td>16599</td>\n",
              "      <td>Know How 2</td>\n",
              "      <td>DS</td>\n",
              "      <td>2010.0</td>\n",
              "      <td>Puzzle</td>\n",
              "      <td>7G//AMES</td>\n",
              "      <td>0.00</td>\n",
              "      <td>0.01</td>\n",
              "      <td>0.00</td>\n",
              "      <td>0.00</td>\n",
              "      <td>0.01</td>\n",
              "    </tr>\n",
              "    <tr>\n",
              "      <th>16597</th>\n",
              "      <td>16600</td>\n",
              "      <td>Spirits &amp; Spells</td>\n",
              "      <td>GBA</td>\n",
              "      <td>2003.0</td>\n",
              "      <td>Platform</td>\n",
              "      <td>Wanadoo</td>\n",
              "      <td>0.01</td>\n",
              "      <td>0.00</td>\n",
              "      <td>0.00</td>\n",
              "      <td>0.00</td>\n",
              "      <td>0.01</td>\n",
              "    </tr>\n",
              "  </tbody>\n",
              "</table>\n",
              "<p>16598 rows × 11 columns</p>\n",
              "</div>"
            ],
            "text/plain": [
              "        Rank                                              Name Platform  \\\n",
              "0          1                                        Wii Sports      Wii   \n",
              "1          2                                 Super Mario Bros.      NES   \n",
              "2          3                                    Mario Kart Wii      Wii   \n",
              "3          4                                 Wii Sports Resort      Wii   \n",
              "4          5                          Pokemon Red/Pokemon Blue       GB   \n",
              "...      ...                                               ...      ...   \n",
              "16593  16596                Woody Woodpecker in Crazy Castle 5      GBA   \n",
              "16594  16597                     Men in Black II: Alien Escape       GC   \n",
              "16595  16598  SCORE International Baja 1000: The Official Game      PS2   \n",
              "16596  16599                                        Know How 2       DS   \n",
              "16597  16600                                  Spirits & Spells      GBA   \n",
              "\n",
              "         Year         Genre   Publisher  NA_Sales  EU_Sales  JP_Sales  \\\n",
              "0      2006.0        Sports    Nintendo     41.49     29.02      3.77   \n",
              "1      1985.0      Platform    Nintendo     29.08      3.58      6.81   \n",
              "2      2008.0        Racing    Nintendo     15.85     12.88      3.79   \n",
              "3      2009.0        Sports    Nintendo     15.75     11.01      3.28   \n",
              "4      1996.0  Role-Playing    Nintendo     11.27      8.89     10.22   \n",
              "...       ...           ...         ...       ...       ...       ...   \n",
              "16593  2002.0      Platform       Kemco      0.01      0.00      0.00   \n",
              "16594  2003.0       Shooter  Infogrames      0.01      0.00      0.00   \n",
              "16595  2008.0        Racing  Activision      0.00      0.00      0.00   \n",
              "16596  2010.0        Puzzle    7G//AMES      0.00      0.01      0.00   \n",
              "16597  2003.0      Platform     Wanadoo      0.01      0.00      0.00   \n",
              "\n",
              "       Other_Sales  Global_Sales  \n",
              "0             8.46         82.74  \n",
              "1             0.77         40.24  \n",
              "2             3.31         35.82  \n",
              "3             2.96         33.00  \n",
              "4             1.00         31.37  \n",
              "...            ...           ...  \n",
              "16593         0.00          0.01  \n",
              "16594         0.00          0.01  \n",
              "16595         0.00          0.01  \n",
              "16596         0.00          0.01  \n",
              "16597         0.00          0.01  \n",
              "\n",
              "[16598 rows x 11 columns]"
            ]
          },
          "execution_count": 8,
          "metadata": {},
          "output_type": "execute_result"
        }
      ],
      "source": [
        "drive"
      ]
    },
    {
      "cell_type": "code",
      "execution_count": null,
      "metadata": {
        "id": "LNchgXOy2ib8",
        "outputId": "f2b422ae-313f-4a2f-b6e5-6d3f3b35b985"
      },
      "outputs": [
        {
          "data": {
            "text/html": [
              "<div>\n",
              "<style scoped>\n",
              "    .dataframe tbody tr th:only-of-type {\n",
              "        vertical-align: middle;\n",
              "    }\n",
              "\n",
              "    .dataframe tbody tr th {\n",
              "        vertical-align: top;\n",
              "    }\n",
              "\n",
              "    .dataframe thead th {\n",
              "        text-align: right;\n",
              "    }\n",
              "</style>\n",
              "<table border=\"1\" class=\"dataframe\">\n",
              "  <thead>\n",
              "    <tr style=\"text-align: right;\">\n",
              "      <th></th>\n",
              "      <th>Rank</th>\n",
              "      <th>Name</th>\n",
              "      <th>Platform</th>\n",
              "      <th>Year</th>\n",
              "      <th>Genre</th>\n",
              "      <th>Publisher</th>\n",
              "      <th>NA_Sales</th>\n",
              "      <th>EU_Sales</th>\n",
              "      <th>JP_Sales</th>\n",
              "      <th>Other_Sales</th>\n",
              "      <th>Global_Sales</th>\n",
              "    </tr>\n",
              "  </thead>\n",
              "  <tbody>\n",
              "    <tr>\n",
              "      <th>0</th>\n",
              "      <td>1</td>\n",
              "      <td>Wii Sports</td>\n",
              "      <td>Wii</td>\n",
              "      <td>2006.0</td>\n",
              "      <td>Sports</td>\n",
              "      <td>Nintendo</td>\n",
              "      <td>41.49</td>\n",
              "      <td>29.02</td>\n",
              "      <td>3.77</td>\n",
              "      <td>8.46</td>\n",
              "      <td>82.74</td>\n",
              "    </tr>\n",
              "    <tr>\n",
              "      <th>1</th>\n",
              "      <td>2</td>\n",
              "      <td>Super Mario Bros.</td>\n",
              "      <td>NES</td>\n",
              "      <td>1985.0</td>\n",
              "      <td>Platform</td>\n",
              "      <td>Nintendo</td>\n",
              "      <td>29.08</td>\n",
              "      <td>3.58</td>\n",
              "      <td>6.81</td>\n",
              "      <td>0.77</td>\n",
              "      <td>40.24</td>\n",
              "    </tr>\n",
              "    <tr>\n",
              "      <th>2</th>\n",
              "      <td>3</td>\n",
              "      <td>Mario Kart Wii</td>\n",
              "      <td>Wii</td>\n",
              "      <td>2008.0</td>\n",
              "      <td>Racing</td>\n",
              "      <td>Nintendo</td>\n",
              "      <td>15.85</td>\n",
              "      <td>12.88</td>\n",
              "      <td>3.79</td>\n",
              "      <td>3.31</td>\n",
              "      <td>35.82</td>\n",
              "    </tr>\n",
              "    <tr>\n",
              "      <th>3</th>\n",
              "      <td>4</td>\n",
              "      <td>Wii Sports Resort</td>\n",
              "      <td>Wii</td>\n",
              "      <td>2009.0</td>\n",
              "      <td>Sports</td>\n",
              "      <td>Nintendo</td>\n",
              "      <td>15.75</td>\n",
              "      <td>11.01</td>\n",
              "      <td>3.28</td>\n",
              "      <td>2.96</td>\n",
              "      <td>33.00</td>\n",
              "    </tr>\n",
              "    <tr>\n",
              "      <th>4</th>\n",
              "      <td>5</td>\n",
              "      <td>Pokemon Red/Pokemon Blue</td>\n",
              "      <td>GB</td>\n",
              "      <td>1996.0</td>\n",
              "      <td>Role-Playing</td>\n",
              "      <td>Nintendo</td>\n",
              "      <td>11.27</td>\n",
              "      <td>8.89</td>\n",
              "      <td>10.22</td>\n",
              "      <td>1.00</td>\n",
              "      <td>31.37</td>\n",
              "    </tr>\n",
              "  </tbody>\n",
              "</table>\n",
              "</div>"
            ],
            "text/plain": [
              "   Rank                      Name Platform    Year         Genre Publisher  \\\n",
              "0     1                Wii Sports      Wii  2006.0        Sports  Nintendo   \n",
              "1     2         Super Mario Bros.      NES  1985.0      Platform  Nintendo   \n",
              "2     3            Mario Kart Wii      Wii  2008.0        Racing  Nintendo   \n",
              "3     4         Wii Sports Resort      Wii  2009.0        Sports  Nintendo   \n",
              "4     5  Pokemon Red/Pokemon Blue       GB  1996.0  Role-Playing  Nintendo   \n",
              "\n",
              "   NA_Sales  EU_Sales  JP_Sales  Other_Sales  Global_Sales  \n",
              "0     41.49     29.02      3.77         8.46         82.74  \n",
              "1     29.08      3.58      6.81         0.77         40.24  \n",
              "2     15.85     12.88      3.79         3.31         35.82  \n",
              "3     15.75     11.01      3.28         2.96         33.00  \n",
              "4     11.27      8.89     10.22         1.00         31.37  "
            ]
          },
          "execution_count": 9,
          "metadata": {},
          "output_type": "execute_result"
        }
      ],
      "source": [
        "#printing first 5 lines of dataset\n",
        "drive.head()"
      ]
    },
    {
      "cell_type": "code",
      "execution_count": null,
      "metadata": {
        "id": "QkKlnRLP2ib8",
        "outputId": "3acf5961-d6e1-4345-a64f-fb4f331c3bc6"
      },
      "outputs": [
        {
          "data": {
            "text/html": [
              "<div>\n",
              "<style scoped>\n",
              "    .dataframe tbody tr th:only-of-type {\n",
              "        vertical-align: middle;\n",
              "    }\n",
              "\n",
              "    .dataframe tbody tr th {\n",
              "        vertical-align: top;\n",
              "    }\n",
              "\n",
              "    .dataframe thead th {\n",
              "        text-align: right;\n",
              "    }\n",
              "</style>\n",
              "<table border=\"1\" class=\"dataframe\">\n",
              "  <thead>\n",
              "    <tr style=\"text-align: right;\">\n",
              "      <th></th>\n",
              "      <th>id,mean_dist_day,mean_over_speed_perc</th>\n",
              "    </tr>\n",
              "  </thead>\n",
              "  <tbody>\n",
              "    <tr>\n",
              "      <th>3995</th>\n",
              "      <td>3423310685,160.04,10</td>\n",
              "    </tr>\n",
              "    <tr>\n",
              "      <th>3996</th>\n",
              "      <td>3423312600,176.17,5</td>\n",
              "    </tr>\n",
              "    <tr>\n",
              "      <th>3997</th>\n",
              "      <td>3423312921,170.91,12</td>\n",
              "    </tr>\n",
              "    <tr>\n",
              "      <th>3998</th>\n",
              "      <td>3423313630,176.14,5</td>\n",
              "    </tr>\n",
              "    <tr>\n",
              "      <th>3999</th>\n",
              "      <td>3423311533,168.03,9</td>\n",
              "    </tr>\n",
              "  </tbody>\n",
              "</table>\n",
              "</div>"
            ],
            "text/plain": [
              "     id,mean_dist_day,mean_over_speed_perc\n",
              "3995                  3423310685,160.04,10\n",
              "3996                   3423312600,176.17,5\n",
              "3997                  3423312921,170.91,12\n",
              "3998                   3423313630,176.14,5\n",
              "3999                   3423311533,168.03,9"
            ]
          },
          "execution_count": 44,
          "metadata": {},
          "output_type": "execute_result"
        }
      ],
      "source": [
        "#printing last 5 lines of dataset\n",
        "drive.tail()"
      ]
    },
    {
      "cell_type": "code",
      "execution_count": null,
      "metadata": {
        "id": "vLNux8V82ib8",
        "outputId": "8f86457a-bb0c-4f77-b3fe-1656524695a4"
      },
      "outputs": [
        {
          "data": {
            "text/plain": [
              "(4000, 1)"
            ]
          },
          "execution_count": 48,
          "metadata": {},
          "output_type": "execute_result"
        }
      ],
      "source": [
        "#Checking shape of my dataset\n",
        "drive.shape"
      ]
    },
    {
      "cell_type": "code",
      "execution_count": null,
      "metadata": {
        "id": "sEePseZY2ib9",
        "outputId": "ed1db32f-11aa-4f87-ede4-e4c44d42044f"
      },
      "outputs": [
        {
          "name": "stdout",
          "output_type": "stream",
          "text": [
            "<class 'pandas.core.frame.DataFrame'>\n",
            "RangeIndex: 16598 entries, 0 to 16597\n",
            "Data columns (total 11 columns):\n",
            " #   Column        Non-Null Count  Dtype  \n",
            "---  ------        --------------  -----  \n",
            " 0   Rank          16598 non-null  int64  \n",
            " 1   Name          16598 non-null  object \n",
            " 2   Platform      16598 non-null  object \n",
            " 3   Year          16598 non-null  float64\n",
            " 4   Genre         16598 non-null  object \n",
            " 5   Publisher     16598 non-null  object \n",
            " 6   NA_Sales      16598 non-null  float64\n",
            " 7   EU_Sales      16598 non-null  float64\n",
            " 8   JP_Sales      16598 non-null  float64\n",
            " 9   Other_Sales   16598 non-null  float64\n",
            " 10  Global_Sales  16598 non-null  float64\n",
            "dtypes: float64(6), int64(1), object(4)\n",
            "memory usage: 1.4+ MB\n"
          ]
        }
      ],
      "source": [
        "#Checking datatypes, no of columns, no of rows and no of null values\n",
        "drive.info()"
      ]
    },
    {
      "cell_type": "code",
      "execution_count": null,
      "metadata": {
        "id": "gktU-5Di2ib9",
        "outputId": "fd9f8035-784e-4d36-9e8d-e76d1c4ac234"
      },
      "outputs": [
        {
          "data": {
            "text/html": [
              "<div>\n",
              "<style scoped>\n",
              "    .dataframe tbody tr th:only-of-type {\n",
              "        vertical-align: middle;\n",
              "    }\n",
              "\n",
              "    .dataframe tbody tr th {\n",
              "        vertical-align: top;\n",
              "    }\n",
              "\n",
              "    .dataframe thead th {\n",
              "        text-align: right;\n",
              "    }\n",
              "</style>\n",
              "<table border=\"1\" class=\"dataframe\">\n",
              "  <thead>\n",
              "    <tr style=\"text-align: right;\">\n",
              "      <th></th>\n",
              "      <th>Rank</th>\n",
              "      <th>Year</th>\n",
              "      <th>NA_Sales</th>\n",
              "      <th>EU_Sales</th>\n",
              "      <th>JP_Sales</th>\n",
              "      <th>Other_Sales</th>\n",
              "      <th>Global_Sales</th>\n",
              "    </tr>\n",
              "  </thead>\n",
              "  <tbody>\n",
              "    <tr>\n",
              "      <th>count</th>\n",
              "      <td>16598.000000</td>\n",
              "      <td>16327.000000</td>\n",
              "      <td>16598.000000</td>\n",
              "      <td>16598.000000</td>\n",
              "      <td>16598.000000</td>\n",
              "      <td>16598.000000</td>\n",
              "      <td>16598.000000</td>\n",
              "    </tr>\n",
              "    <tr>\n",
              "      <th>mean</th>\n",
              "      <td>8300.605254</td>\n",
              "      <td>2006.406443</td>\n",
              "      <td>0.264667</td>\n",
              "      <td>0.146652</td>\n",
              "      <td>0.077782</td>\n",
              "      <td>0.048063</td>\n",
              "      <td>0.537441</td>\n",
              "    </tr>\n",
              "    <tr>\n",
              "      <th>std</th>\n",
              "      <td>4791.853933</td>\n",
              "      <td>5.828981</td>\n",
              "      <td>0.816683</td>\n",
              "      <td>0.505351</td>\n",
              "      <td>0.309291</td>\n",
              "      <td>0.188588</td>\n",
              "      <td>1.555028</td>\n",
              "    </tr>\n",
              "    <tr>\n",
              "      <th>min</th>\n",
              "      <td>1.000000</td>\n",
              "      <td>1980.000000</td>\n",
              "      <td>0.000000</td>\n",
              "      <td>0.000000</td>\n",
              "      <td>0.000000</td>\n",
              "      <td>0.000000</td>\n",
              "      <td>0.010000</td>\n",
              "    </tr>\n",
              "    <tr>\n",
              "      <th>25%</th>\n",
              "      <td>4151.250000</td>\n",
              "      <td>2003.000000</td>\n",
              "      <td>0.000000</td>\n",
              "      <td>0.000000</td>\n",
              "      <td>0.000000</td>\n",
              "      <td>0.000000</td>\n",
              "      <td>0.060000</td>\n",
              "    </tr>\n",
              "    <tr>\n",
              "      <th>50%</th>\n",
              "      <td>8300.500000</td>\n",
              "      <td>2007.000000</td>\n",
              "      <td>0.080000</td>\n",
              "      <td>0.020000</td>\n",
              "      <td>0.000000</td>\n",
              "      <td>0.010000</td>\n",
              "      <td>0.170000</td>\n",
              "    </tr>\n",
              "    <tr>\n",
              "      <th>75%</th>\n",
              "      <td>12449.750000</td>\n",
              "      <td>2010.000000</td>\n",
              "      <td>0.240000</td>\n",
              "      <td>0.110000</td>\n",
              "      <td>0.040000</td>\n",
              "      <td>0.040000</td>\n",
              "      <td>0.470000</td>\n",
              "    </tr>\n",
              "    <tr>\n",
              "      <th>max</th>\n",
              "      <td>16600.000000</td>\n",
              "      <td>2020.000000</td>\n",
              "      <td>41.490000</td>\n",
              "      <td>29.020000</td>\n",
              "      <td>10.220000</td>\n",
              "      <td>10.570000</td>\n",
              "      <td>82.740000</td>\n",
              "    </tr>\n",
              "  </tbody>\n",
              "</table>\n",
              "</div>"
            ],
            "text/plain": [
              "               Rank          Year      NA_Sales      EU_Sales      JP_Sales  \\\n",
              "count  16598.000000  16327.000000  16598.000000  16598.000000  16598.000000   \n",
              "mean    8300.605254   2006.406443      0.264667      0.146652      0.077782   \n",
              "std     4791.853933      5.828981      0.816683      0.505351      0.309291   \n",
              "min        1.000000   1980.000000      0.000000      0.000000      0.000000   \n",
              "25%     4151.250000   2003.000000      0.000000      0.000000      0.000000   \n",
              "50%     8300.500000   2007.000000      0.080000      0.020000      0.000000   \n",
              "75%    12449.750000   2010.000000      0.240000      0.110000      0.040000   \n",
              "max    16600.000000   2020.000000     41.490000     29.020000     10.220000   \n",
              "\n",
              "        Other_Sales  Global_Sales  \n",
              "count  16598.000000  16598.000000  \n",
              "mean       0.048063      0.537441  \n",
              "std        0.188588      1.555028  \n",
              "min        0.000000      0.010000  \n",
              "25%        0.000000      0.060000  \n",
              "50%        0.010000      0.170000  \n",
              "75%        0.040000      0.470000  \n",
              "max       10.570000     82.740000  "
            ]
          },
          "execution_count": 13,
          "metadata": {},
          "output_type": "execute_result"
        }
      ],
      "source": [
        "#Checking all statistics terms of my dataset\n",
        "drive.describe()"
      ]
    },
    {
      "cell_type": "code",
      "execution_count": null,
      "metadata": {
        "id": "3QA5h6mB2ib9",
        "outputId": "46a7c691-0630-4482-cf26-456b6cf62a1c"
      },
      "outputs": [
        {
          "data": {
            "text/plain": [
              "8300.605253645017"
            ]
          },
          "execution_count": 16,
          "metadata": {},
          "output_type": "execute_result"
        }
      ],
      "source": [
        "#Finding mean of Instant column from my dataset\n",
        "drive['Rank'].mean()"
      ]
    },
    {
      "cell_type": "code",
      "execution_count": null,
      "metadata": {
        "id": "utHPfgZS2ib9",
        "outputId": "fb3eaa27-ff26-4d68-c6c3-32e2feee6776"
      },
      "outputs": [
        {
          "data": {
            "text/plain": [
              "0    2\n",
              "dtype: int64"
            ]
          },
          "execution_count": 64,
          "metadata": {},
          "output_type": "execute_result"
        }
      ],
      "source": [
        "#Finding mode of Instant column from my dataset\n",
        "drive['mnth'].mode()"
      ]
    },
    {
      "cell_type": "code",
      "execution_count": null,
      "metadata": {
        "id": "ylmRZbST2ib-",
        "outputId": "b0411f21-d282-4efe-fd22-fd9f96cdd648"
      },
      "outputs": [
        {
          "data": {
            "text/plain": [
              "0.40051380881810306"
            ]
          },
          "execution_count": 65,
          "metadata": {},
          "output_type": "execute_result"
        }
      ],
      "source": [
        "#Finding std of Instant column from my dataset\n",
        "drive['mnth'].std()"
      ]
    },
    {
      "cell_type": "code",
      "execution_count": null,
      "metadata": {
        "id": "lcHflrrH2ib-",
        "outputId": "38446991-cbbb-4c3a-fab2-4703e021474f"
      },
      "outputs": [
        {
          "data": {
            "text/plain": [
              "Rank            0\n",
              "Name            0\n",
              "Platform        0\n",
              "Year            0\n",
              "Genre           0\n",
              "Publisher       0\n",
              "NA_Sales        0\n",
              "EU_Sales        0\n",
              "JP_Sales        0\n",
              "Other_Sales     0\n",
              "Global_Sales    0\n",
              "dtype: int64"
            ]
          },
          "execution_count": 61,
          "metadata": {},
          "output_type": "execute_result"
        }
      ],
      "source": [
        "#Checking for null values\n",
        "drive.isna().sum()"
      ]
    },
    {
      "cell_type": "code",
      "execution_count": null,
      "metadata": {
        "id": "Pi05qahh2ib-",
        "outputId": "e1ac18c8-7874-4af6-ce0d-753ec42dd856"
      },
      "outputs": [
        {
          "data": {
            "text/plain": [
              "0.019821665260874803"
            ]
          },
          "execution_count": 19,
          "metadata": {},
          "output_type": "execute_result"
        }
      ],
      "source": [
        "271+58\n",
        "329/16598"
      ]
    },
    {
      "cell_type": "code",
      "execution_count": null,
      "metadata": {
        "id": "08UmhuEN2ib-"
      },
      "outputs": [],
      "source": [
        "#Removing na values from Year column only\n",
        "drive= drive.dropna(subset=['Year'],axis=0)"
      ]
    },
    {
      "cell_type": "code",
      "execution_count": null,
      "metadata": {
        "id": "pI63vAeH2ib_"
      },
      "outputs": [],
      "source": [
        "#Removing na values from Publisher column only\n",
        "drive= drive.dropna(subset=['Publisher'],axis=0)"
      ]
    },
    {
      "cell_type": "code",
      "execution_count": null,
      "metadata": {
        "id": "62M5HdoW2ib_"
      },
      "outputs": [],
      "source": [
        "#Removing na values from all the columns at once\n",
        "drive = drive.dropna(axis=0)"
      ]
    },
    {
      "cell_type": "code",
      "execution_count": null,
      "metadata": {
        "id": "owxaLmxD2ib_"
      },
      "outputs": [],
      "source": [
        "#Replace na values in Year column with mode\n",
        "drive['Year'] = drive['Year'].fillna(drive['Year'].mode()[0])"
      ]
    },
    {
      "cell_type": "code",
      "execution_count": null,
      "metadata": {
        "id": "mEN22LFK2ib_"
      },
      "outputs": [],
      "source": [
        "drive['Publisher'] = drive['Publisher'].fillna(drive['Publisher'].mode()[0])"
      ]
    },
    {
      "cell_type": "code",
      "execution_count": null,
      "metadata": {
        "id": "6eGx0Qit2ib_",
        "outputId": "f82b7ba0-1f24-4134-83af-5be1b7dd8d50"
      },
      "outputs": [
        {
          "data": {
            "text/plain": [
              "39"
            ]
          },
          "execution_count": 53,
          "metadata": {},
          "output_type": "execute_result"
        }
      ],
      "source": [
        "#Checking for unique values in my year column\n",
        "drive['Year'].nunique()"
      ]
    },
    {
      "cell_type": "code",
      "execution_count": null,
      "metadata": {
        "id": "ZXzX9yit2icA",
        "outputId": "219cf153-f82c-4834-f15e-46a33df2d96e"
      },
      "outputs": [
        {
          "data": {
            "text/plain": [
              "0    2009.0\n",
              "dtype: float64"
            ]
          },
          "execution_count": 55,
          "metadata": {},
          "output_type": "execute_result"
        }
      ],
      "source": [
        "drive['Year'].mode()"
      ]
    },
    {
      "cell_type": "code",
      "execution_count": null,
      "metadata": {
        "id": "J8cxyok12icA",
        "outputId": "df0a2b71-c7d6-4b67-cafe-0b48f86d203b"
      },
      "outputs": [
        {
          "data": {
            "text/plain": [
              "array([2006., 1985., 2008., 2009., 1996., 1989., 1984., 2005., 1999.,\n",
              "       2007., 2010., 2013., 2004., 1990., 1988., 2002., 2001., 2011.,\n",
              "       1998., 2015., 2012., 2014., 1992., 1997., 1993., 1994., 1982.,\n",
              "       2003., 1986., 2000., 1995., 2016., 1991., 1981., 1987., 1980.,\n",
              "       1983., 2020., 2017.])"
            ]
          },
          "execution_count": 54,
          "metadata": {},
          "output_type": "execute_result"
        }
      ],
      "source": [
        "#Getting all unique values\n",
        "drive['Year'].unique()"
      ]
    },
    {
      "cell_type": "code",
      "execution_count": null,
      "metadata": {
        "id": "SgcVxCqR2icA",
        "outputId": "05979451-01e5-4af0-e353-811d0618117b"
      },
      "outputs": [
        {
          "data": {
            "text/plain": [
              "2009.0    1431\n",
              "2008.0    1428\n",
              "2010.0    1259\n",
              "2007.0    1202\n",
              "2011.0    1139\n",
              "2006.0    1008\n",
              "2005.0     941\n",
              "2002.0     829\n",
              "2003.0     775\n",
              "2004.0     763\n",
              "2012.0     657\n",
              "2015.0     614\n",
              "2014.0     582\n",
              "2013.0     546\n",
              "2001.0     482\n",
              "1998.0     379\n",
              "2000.0     349\n",
              "2016.0     344\n",
              "1999.0     338\n",
              "1997.0     289\n",
              "1996.0     263\n",
              "1995.0     219\n",
              "1994.0     121\n",
              "1993.0      60\n",
              "1981.0      46\n",
              "1992.0      43\n",
              "1991.0      41\n",
              "1982.0      36\n",
              "1986.0      21\n",
              "1989.0      17\n",
              "1983.0      17\n",
              "1990.0      16\n",
              "1987.0      16\n",
              "1988.0      15\n",
              "1985.0      14\n",
              "1984.0      14\n",
              "1980.0       9\n",
              "2017.0       3\n",
              "2020.0       1\n",
              "Name: Year, dtype: int64"
            ]
          },
          "execution_count": 45,
          "metadata": {},
          "output_type": "execute_result"
        }
      ],
      "source": [
        "\n",
        "drive['Year'].value_counts()"
      ]
    },
    {
      "cell_type": "code",
      "execution_count": null,
      "metadata": {
        "id": "OnUO-HjJ2icA",
        "outputId": "8f6f13a1-3d32-477e-baac-989a6ade7090"
      },
      "outputs": [
        {
          "data": {
            "text/plain": [
              "2006.4064433147546"
            ]
          },
          "execution_count": 46,
          "metadata": {},
          "output_type": "execute_result"
        }
      ],
      "source": [
        "drive['Year'].mean()"
      ]
    },
    {
      "cell_type": "code",
      "execution_count": null,
      "metadata": {
        "id": "lD-pMNUE2icA"
      },
      "outputs": [],
      "source": [
        "#Dropping duplicates records\n",
        "drive= drive.drop_duplicates()"
      ]
    },
    {
      "cell_type": "code",
      "execution_count": null,
      "metadata": {
        "id": "66NJ5qVg2icB"
      },
      "outputs": [],
      "source": [
        "import matplotlib.pyplot as plt\n",
        "import seaborn as sns"
      ]
    },
    {
      "cell_type": "code",
      "execution_count": null,
      "metadata": {
        "id": "xU9T-aci2icB",
        "outputId": "7c047b98-fab4-424a-bff6-5a2c78519815"
      },
      "outputs": [
        {
          "data": {
            "image/png": "[encoded data removed]",
            "text/plain": [
              "<Figure size 432x288 with 1 Axes>"
            ]
          },
          "metadata": {
            "needs_background": "light"
          },
          "output_type": "display_data"
        }
      ],
      "source": [
        "plt.hist(drive['Year'], color='red')\n",
        "plt.xlabel('years')\n",
        "plt.ylabel('frequency of years')\n",
        "plt.title('frequency distribution of years')\n",
        "plt.show()"
      ]
    },
    {
      "cell_type": "code",
      "execution_count": null,
      "metadata": {
        "id": "aWbn3jh92icB",
        "outputId": "2e1c7b66-1bc9-48d1-eb82-40bce8e3d73e"
      },
      "outputs": [
        {
          "name": "stderr",
          "output_type": "stream",
          "text": [
            "/usr/local/lib/python3.7/site-packages/seaborn/_decorators.py:43: FutureWarning: Pass the following variable as a keyword arg: x. From version 0.12, the only valid positional argument will be `data`, and passing other arguments without an explicit keyword will result in an error or misinterpretation.\n",
            "  FutureWarning\n"
          ]
        },
        {
          "data": {
            "text/plain": [
              "<AxesSubplot:xlabel='Year'>"
            ]
          },
          "execution_count": 34,
          "metadata": {},
          "output_type": "execute_result"
        },
        {
          "data": {
            "image/png": "[encoded data removed]",
            "text/plain": [
              "<Figure size 432x288 with 1 Axes>"
            ]
          },
          "metadata": {
            "needs_background": "light"
          },
          "output_type": "display_data"
        }
      ],
      "source": [
        "sns.boxplot(drive['Year'])"
      ]
    },
    {
      "cell_type": "code",
      "execution_count": null,
      "metadata": {
        "id": "uTJFU_Rl2icC"
      },
      "outputs": [],
      "source": [
        "import numpy as np"
      ]
    },
    {
      "cell_type": "code",
      "execution_count": null,
      "metadata": {
        "id": "_jfI43ea2icC"
      },
      "outputs": [],
      "source": [
        "#Calculating first and third quatrile and then IQR\n",
        "Q1 = np.percentile(drive['Year'],25,interpolation='midpoint')\n",
        "Q3 = np.percentile(drive['Year'],75,interpolation='midpoint')\n",
        "\n",
        "IQR = Q3-Q1"
      ]
    },
    {
      "cell_type": "code",
      "execution_count": null,
      "metadata": {
        "id": "8GRIubio2icC",
        "outputId": "9d4f31cf-b681-4ac0-d6d9-083e7cf0afd4"
      },
      "outputs": [
        {
          "name": "stdout",
          "output_type": "stream",
          "text": [
            "2010.0\n",
            "2003.0\n",
            "7.0\n"
          ]
        }
      ],
      "source": [
        "#printing \n",
        "print(Q3)\n",
        "print(Q1)\n",
        "print(IQR)"
      ]
    },
    {
      "cell_type": "code",
      "execution_count": null,
      "metadata": {
        "id": "y5auitnQ2icD"
      },
      "outputs": [],
      "source": [
        "#Getting all values that are less than lower band and more than upper band\n",
        "upper = np.where(drive['Year']>=(Q3+1.5*IQR))\n",
        "lower = np.where(drive['Year']<=(Q1-1.5*IQR))"
      ]
    },
    {
      "cell_type": "code",
      "execution_count": null,
      "metadata": {
        "id": "nNo6v80D2icD",
        "outputId": "bab04f3d-a433-46c3-f717-a92625b782ae"
      },
      "outputs": [
        {
          "data": {
            "text/plain": [
              "1992.5"
            ]
          },
          "execution_count": 33,
          "metadata": {},
          "output_type": "execute_result"
        }
      ],
      "source": [
        "Q1-1.5*IQR"
      ]
    },
    {
      "cell_type": "code",
      "execution_count": null,
      "metadata": {
        "id": "ePSQLISk2icD",
        "outputId": "7e8ba9a6-6d9b-4844-c452-f9df03081259"
      },
      "outputs": [
        {
          "name": "stdout",
          "output_type": "stream",
          "text": [
            "(array([], dtype=int64),)\n"
          ]
        }
      ],
      "source": [
        "print(upper)"
      ]
    },
    {
      "cell_type": "code",
      "execution_count": null,
      "metadata": {
        "id": "z1FT_m9Y2icD",
        "outputId": "547f53db-ccfa-4b3e-9d5b-8a452397b623"
      },
      "outputs": [
        {
          "name": "stdout",
          "output_type": "stream",
          "text": [
            "(array([    1,     5,     9,    18,    21,    22,    50,    76,    89,\n",
            "          96,   127,   136,   143,   155,   170,   191,   215,   231,\n",
            "         239,   251,   254,   258,   276,   277,   285,   298,   312,\n",
            "         318,   374,   391,   421,   446,   452,   465,   509,   531,\n",
            "         544,   545,   548,   564,   573,   588,   602,   611,   629,\n",
            "         638,   647,   700,   722,   734,   737,   743,   754,   759,\n",
            "         763,   764,   765,   766,   775,   827,   852,   855,   864,\n",
            "         867,   868,   880,   938,   983,   987,   992,  1008,  1076,\n",
            "        1089,  1099,  1106,  1108,  1115,  1117,  1142,  1153,  1163,\n",
            "        1187,  1190,  1233,  1234,  1246,  1260,  1262,  1278,  1306,\n",
            "        1324,  1350,  1361,  1385,  1394,  1427,  1429,  1490,  1508,\n",
            "        1542,  1556,  1560,  1587,  1588,  1608,  1623,  1638,  1657,\n",
            "        1675,  1676,  1678,  1695,  1705,  1708,  1716,  1726,  1766,\n",
            "        1770,  1772,  1791,  1792,  1794,  1809,  1817,  1827,  1839,\n",
            "        1848,  1851,  1857,  1858,  1859,  1861,  1905,  1965,  1969,\n",
            "        1971,  1973,  2020,  2059,  2061,  2142,  2143,  2158,  2232,\n",
            "        2233,  2234,  2259,  2406,  2439,  2466,  2513,  2516,  2547,\n",
            "        2596,  2610,  2629,  2633,  2652,  2660,  2664,  2669,  2672,\n",
            "        2704,  2727,  2798,  2806,  2843,  2940,  2955,  3044,  3079,\n",
            "        3118,  3204,  3215,  3248,  3266,  3403,  3408,  3447,  3481,\n",
            "        3532,  3544,  3643,  3716,  3748,  3907,  3940,  3953,  3966,\n",
            "        4013,  4015,  4016,  4025,  4096,  4097,  4139,  4147,  4194,\n",
            "        4240,  4267,  4337,  4346,  4393,  4402,  4451,  4517,  4583,\n",
            "        4727,  4780,  4784,  4801,  4894,  4908,  4944,  4952,  4967,\n",
            "        4981,  5033,  5064,  5082,  5127,  5246,  5366,  5381,  5382,\n",
            "        5389,  5395,  5400,  5493,  5517,  5541,  5559,  5564,  5651,\n",
            "        5658,  5773,  5800,  5862,  5956,  6007,  6021,  6053,  6088,\n",
            "        6145,  6155,  6161,  6164,  6165,  6198,  6226,  6265,  6296,\n",
            "        6317,  6537,  6583,  6623,  6728,  6866,  6896,  6939,  6940,\n",
            "        7065,  7094,  7148,  7149,  7150,  7184,  7185,  7371,  7688,\n",
            "        7904,  8037,  8085,  8457,  8458,  8459,  8529,  8575,  8617,\n",
            "        8757,  8758,  8834,  9106,  9442,  9495,  9561,  9796,  9958,\n",
            "       11330, 11716, 11749, 11980, 11985, 12062, 12526, 12636, 12670,\n",
            "       12700, 13018, 13525, 14335, 14507, 14599, 15867, 16073]),)\n"
          ]
        }
      ],
      "source": [
        "print(lower)"
      ]
    },
    {
      "cell_type": "code",
      "execution_count": null,
      "metadata": {
        "id": "7lok5Kz32icE"
      },
      "outputs": [],
      "source": [
        "low = np.array(lower)"
      ]
    },
    {
      "cell_type": "code",
      "execution_count": null,
      "metadata": {
        "id": "fkca8eI82icE"
      },
      "outputs": [],
      "source": [
        "\n",
        "drive.drop(lower[0], inplace=True)"
      ]
    },
    {
      "cell_type": "markdown",
      "metadata": {
        "id": "SHVNoBQJ2icE"
      },
      "source": [
        "Statistics -\n",
        "Descriptive-Describing about the data\n",
        "Infential-Taking some decision after getting conclusion from data\n",
        "Predictive- Predicting about the future values"
      ]
    },
    {
      "cell_type": "markdown",
      "metadata": {
        "id": "O3sjK8Lz2icF"
      },
      "source": [
        "Data\n",
        "Categorical-They are limited is no. eg. Gender, Countries,States, 1:male,2:female\n",
        "Numerical- They are not limited to some no.- Height, DIstance, NO. of people in country"
      ]
    },
    {
      "cell_type": "markdown",
      "metadata": {
        "id": "ilh8gDPK2icF"
      },
      "source": [
        "Population- The whole thing\n",
        "Sample- Some part of population"
      ]
    },
    {
      "cell_type": "markdown",
      "metadata": {
        "id": "bVwjVAri2icG"
      },
      "source": [
        "Measure of central tendancy - Mean , mode , median\n",
        "Measure of dispersion - Range, Variance, Covariance, Std"
      ]
    },
    {
      "cell_type": "code",
      "execution_count": null,
      "metadata": {
        "id": "gCG1XlnN2icG"
      },
      "outputs": [],
      "source": []
    }
  ],
  "metadata": {
    "kernelspec": {
      "display_name": "Python 3",
      "language": "python",
      "name": "python3"
    },
    "language_info": {
      "codemirror_mode": {
        "name": "ipython",
        "version": 3
      },
      "file_extension": ".py",
      "mimetype": "text/x-python",
      "name": "python",
      "nbconvert_exporter": "python",
      "pygments_lexer": "ipython3",
      "version": "3.7.6"
    },
    "colab": {
      "provenance": [],
      "include_colab_link": true
    }
  },
  "nbformat": 4,
  "nbformat_minor": 0
}