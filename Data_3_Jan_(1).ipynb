{
  "cells": [
    {
      "cell_type": "markdown",
      "metadata": {
        "id": "view-in-github",
        "colab_type": "text"
      },
      "source": [
        "<a href=\"https://colab.research.google.com/github/Gaddameedi/DSWP_Day2_Practice_Simplilearn/blob/main/Data_3_Jan_(1).ipynb\" target=\"_parent\"><img src=\"https://colab.research.google.com/assets/colab-badge.svg\" alt=\"Open In Colab\"/></a>"
      ]
    },
    {
      "cell_type": "markdown",
      "metadata": {
        "id": "MS4E0cR1zlIU"
      },
      "source": [
        "Data Science - Data + Science.\n",
        "Machine learning - Training the machines to take intelligent decision as we are taking. \n",
        "\n",
        "\n",
        "Data\n",
        "- Structured \n",
        "- Unstructured\n",
        "- Semi Structured Data\n",
        "\n",
        "Science\n",
        "- Stats - Descriptive stats, Infrential Stats\n",
        "- Matehmatical models\n",
        "- Visualization"
      ]
    },
    {
      "cell_type": "markdown",
      "metadata": {
        "id": "l0gdJRsSzlIc"
      },
      "source": [
        "Data science use cases\n",
        "1. For any Buisness problem\n",
        "2. Classification of mail\n",
        "3. Fraud Detection\n",
        "4. Recommendation Enginer\n",
        "5. Auto complete sentence\n",
        "6. Predictive Analysis\n",
        "7. Stock price prediction\n",
        "8. House price prediction\n",
        "9. Weather Prediction"
      ]
    },
    {
      "cell_type": "code",
      "execution_count": null,
      "metadata": {
        "id": "h_WlCfWzzlId"
      },
      "outputs": [],
      "source": [
        "Data scientist Lifecycle\n",
        "\n",
        "1. Collecting Data\n",
        "2. Understanding buisness problem\n",
        "3. Data cleaning  (Duplicate data, Wrong Entry, null values, Outliers)\n",
        "4. Data Exploration (EDA) Explorartory Data Analysis\n",
        "5. Data Visualization (Bar graph, Histogram, Scatter plot, Line graph, Heatmap)\n",
        "6. Data Manipulation\n",
        "7. Scaling, PCA  (Scaling - Min max scaling, StandardScaler)(Principal component analysis)\n",
        "8. Splitting the data (Training data, Testing data)\n",
        "9. Training the model\n",
        "10. Getting prediction from model\n",
        "\n",
        "\n"
      ]
    },
    {
      "cell_type": "code",
      "execution_count": null,
      "metadata": {
        "id": "n_PDa3Y1zlIe"
      },
      "outputs": [],
      "source": [
        "Python\n",
        "1.Easy to learn\n",
        "2. Large no. of libraries\n",
        "3. open source\n",
        "4. large coummunity\n"
      ]
    },
    {
      "cell_type": "code",
      "execution_count": null,
      "metadata": {
        "id": "AhAeFMcgzlIf"
      },
      "outputs": [],
      "source": [
        "Library - It is a bundle of function that can call for your use \n",
        "by provided some keywords that are specified to these functions. "
      ]
    },
    {
      "cell_type": "markdown",
      "metadata": {
        "id": "RRsoaMVczlIg"
      },
      "source": [
        "1. Numpy - Numerical Python\n",
        "2. Pandas - Reading writing files, Manipualtion\n",
        "3. Matplotlib - Data visualization\n",
        "4. Seaborn -Data visualization\n",
        "5. Scikit-learn - Machine learning\n",
        "\n"
      ]
    },
    {
      "cell_type": "code",
      "execution_count": null,
      "metadata": {
        "id": "FKeaQlX2zlIh",
        "outputId": "78409e14-a4cd-40e5-ed23-2b83f6d20060"
      },
      "outputs": [
        {
          "data": {
            "text/plain": [
              "5"
            ]
          },
          "execution_count": 2,
          "metadata": {},
          "output_type": "execute_result"
        }
      ],
      "source": [
        "#Python\n",
        "#Adding two numbers\n",
        "3+2"
      ]
    },
    {
      "cell_type": "code",
      "execution_count": null,
      "metadata": {
        "id": "pNi0rcdozlIi",
        "outputId": "9bd7674e-fd9e-4edb-d87a-3ef8998aba12"
      },
      "outputs": [
        {
          "data": {
            "text/plain": [
              "2025"
            ]
          },
          "execution_count": 3,
          "metadata": {},
          "output_type": "execute_result"
        }
      ],
      "source": [
        "#Adding  numbers\n",
        "45*45"
      ]
    },
    {
      "cell_type": "code",
      "execution_count": null,
      "metadata": {
        "id": "xDPwWgiHzlIj",
        "outputId": "534b64a2-d827-42ac-c011-f90fb0d5dec3"
      },
      "outputs": [
        {
          "data": {
            "text/plain": [
              "3322"
            ]
          },
          "execution_count": 4,
          "metadata": {},
          "output_type": "execute_result"
        }
      ],
      "source": [
        "3456-134"
      ]
    },
    {
      "cell_type": "code",
      "execution_count": null,
      "metadata": {
        "id": "UpC7DIeIzlIk",
        "outputId": "6e1b1410-52d8-44c4-d0b4-58272e5bf488"
      },
      "outputs": [
        {
          "data": {
            "text/plain": [
              "1152.0"
            ]
          },
          "execution_count": 5,
          "metadata": {},
          "output_type": "execute_result"
        }
      ],
      "source": [
        "3456/3"
      ]
    },
    {
      "cell_type": "code",
      "execution_count": null,
      "metadata": {
        "id": "0498HzAJzlIk",
        "outputId": "aabb5371-b523-4417-b7bd-c00ecda7ca9d"
      },
      "outputs": [
        {
          "data": {
            "text/plain": [
              "19"
            ]
          },
          "execution_count": 6,
          "metadata": {},
          "output_type": "execute_result"
        }
      ],
      "source": [
        "2245%21"
      ]
    },
    {
      "cell_type": "code",
      "execution_count": null,
      "metadata": {
        "id": "AxIZ_9OzzlIl",
        "outputId": "cf4fcb5a-8699-4a68-b481-900619c0346a"
      },
      "outputs": [
        {
          "data": {
            "text/plain": [
              "193.5"
            ]
          },
          "execution_count": 5,
          "metadata": {},
          "output_type": "execute_result"
        }
      ],
      "source": [
        "193 #Integer\n",
        "'abc' #String\n",
        "True, False #boolean\n",
        "193.5 #float\n"
      ]
    },
    {
      "cell_type": "code",
      "execution_count": null,
      "metadata": {
        "id": "26OgaI2DzlIl"
      },
      "outputs": [],
      "source": [
        "a = 5"
      ]
    },
    {
      "cell_type": "code",
      "execution_count": null,
      "metadata": {
        "id": "oL--Fm0BzlIm",
        "outputId": "c2c715f7-6304-487b-e91a-21c1bd3400c1"
      },
      "outputs": [
        {
          "data": {
            "text/plain": [
              "int"
            ]
          },
          "execution_count": 4,
          "metadata": {},
          "output_type": "execute_result"
        }
      ],
      "source": [
        "type(a)"
      ]
    },
    {
      "cell_type": "code",
      "execution_count": null,
      "metadata": {
        "id": "QyH0Tk-jzlIm"
      },
      "outputs": [],
      "source": [
        "b =193.5"
      ]
    },
    {
      "cell_type": "code",
      "execution_count": null,
      "metadata": {
        "id": "8ubSuT2szlIn",
        "outputId": "6252ac78-dcc7-488c-af1f-8edd7ee75759"
      },
      "outputs": [
        {
          "data": {
            "text/plain": [
              "float"
            ]
          },
          "execution_count": 7,
          "metadata": {},
          "output_type": "execute_result"
        }
      ],
      "source": [
        "type(b)"
      ]
    },
    {
      "cell_type": "code",
      "execution_count": null,
      "metadata": {
        "id": "rT1jw0J_zlIn"
      },
      "outputs": [],
      "source": [
        "c = True"
      ]
    },
    {
      "cell_type": "code",
      "execution_count": null,
      "metadata": {
        "id": "ip8zKV71zlIn",
        "outputId": "7059fdb2-c01d-4a89-e502-281bc71a7783"
      },
      "outputs": [
        {
          "data": {
            "text/plain": [
              "bool"
            ]
          },
          "execution_count": 9,
          "metadata": {},
          "output_type": "execute_result"
        }
      ],
      "source": [
        "type(c)"
      ]
    },
    {
      "cell_type": "code",
      "execution_count": null,
      "metadata": {
        "id": "k06yrf4tzlIo"
      },
      "outputs": [],
      "source": [
        "d = 'abc'"
      ]
    },
    {
      "cell_type": "code",
      "execution_count": null,
      "metadata": {
        "id": "tjTEa9ShzlIo",
        "outputId": "e99cdd99-ec4f-4c79-ba23-f435f46611e4"
      },
      "outputs": [
        {
          "data": {
            "text/plain": [
              "str"
            ]
          },
          "execution_count": 11,
          "metadata": {},
          "output_type": "execute_result"
        }
      ],
      "source": [
        "type(d)"
      ]
    },
    {
      "cell_type": "code",
      "execution_count": null,
      "metadata": {
        "id": "ocmVcI5yzlIp"
      },
      "outputs": [],
      "source": [
        "a = 45\n",
        "b =35"
      ]
    },
    {
      "cell_type": "code",
      "execution_count": null,
      "metadata": {
        "id": "2Z6wex5WzlIp",
        "outputId": "ffc7e9c8-5202-4ca5-8623-81ce90a7d827"
      },
      "outputs": [
        {
          "data": {
            "text/plain": [
              "False"
            ]
          },
          "execution_count": 14,
          "metadata": {},
          "output_type": "execute_result"
        }
      ],
      "source": [
        "a<=b"
      ]
    },
    {
      "cell_type": "code",
      "execution_count": null,
      "metadata": {
        "id": "Mj92C0fizlIp",
        "outputId": "4e6e529d-baf9-43f6-862c-d502a8ca0307"
      },
      "outputs": [
        {
          "data": {
            "text/plain": [
              "True"
            ]
          },
          "execution_count": 15,
          "metadata": {},
          "output_type": "execute_result"
        }
      ],
      "source": [
        "a>=b"
      ]
    },
    {
      "cell_type": "code",
      "execution_count": null,
      "metadata": {
        "id": "bAzSVXwOzlIr",
        "outputId": "dc03bbe1-0680-4d95-e990-5ba13ab42e63"
      },
      "outputs": [
        {
          "data": {
            "text/plain": [
              "False"
            ]
          },
          "execution_count": 16,
          "metadata": {},
          "output_type": "execute_result"
        }
      ],
      "source": [
        "a==b"
      ]
    },
    {
      "cell_type": "code",
      "execution_count": null,
      "metadata": {
        "id": "1g5n72DszlIs",
        "outputId": "b9051b1c-235d-4be8-e79f-8810f20ab8f5"
      },
      "outputs": [
        {
          "data": {
            "text/plain": [
              "True"
            ]
          },
          "execution_count": 17,
          "metadata": {},
          "output_type": "execute_result"
        }
      ],
      "source": [
        "a!=b"
      ]
    },
    {
      "cell_type": "code",
      "execution_count": null,
      "metadata": {
        "id": "WOlRhQEpzlIs",
        "outputId": "87a3d265-9c43-4927-bfce-0ab5fd27cc8d"
      },
      "outputs": [
        {
          "data": {
            "text/plain": [
              "False"
            ]
          },
          "execution_count": 20,
          "metadata": {},
          "output_type": "execute_result"
        }
      ],
      "source": [
        "a =23\n",
        "b =12\n",
        "#a = b\n",
        "a==b"
      ]
    },
    {
      "cell_type": "markdown",
      "metadata": {
        "id": "y6D0MnhTzlIs"
      },
      "source": [
        "Data Structures in Python\n",
        "1. List\n",
        "2. Tuple\n",
        "3. Dict\n"
      ]
    },
    {
      "cell_type": "code",
      "execution_count": null,
      "metadata": {
        "id": "pytCeisPzlIt"
      },
      "outputs": [],
      "source": [
        "#creating a list with 4 different data types\n",
        "a = [123,23, True, 12.7,123, 'strings',(1,4,5)]"
      ]
    },
    {
      "cell_type": "code",
      "execution_count": null,
      "metadata": {
        "id": "EsqYEcPmzlIt",
        "outputId": "35a7385f-b8f0-486e-fc2c-f7add6d6a69d"
      },
      "outputs": [
        {
          "data": {
            "text/plain": [
              "list"
            ]
          },
          "execution_count": 28,
          "metadata": {},
          "output_type": "execute_result"
        }
      ],
      "source": [
        "#Checking type of a variable\n",
        "type(a)"
      ]
    },
    {
      "cell_type": "code",
      "execution_count": null,
      "metadata": {
        "id": "duHBA7fEzlIt",
        "outputId": "82e98279-f0db-4b1f-ecd2-1fdd571bfe27"
      },
      "outputs": [
        {
          "data": {
            "text/plain": [
              "[23, True, [5, 6], 5, 12.7, 123, 'strings']"
            ]
          },
          "execution_count": 75,
          "metadata": {},
          "output_type": "execute_result"
        }
      ],
      "source": [
        "a"
      ]
    },
    {
      "cell_type": "code",
      "execution_count": null,
      "metadata": {
        "id": "aiXnJuJEzlIt",
        "outputId": "90e01f88-0084-4fc6-9cfb-b44243529f48"
      },
      "outputs": [
        {
          "data": {
            "text/plain": [
              "23"
            ]
          },
          "execution_count": 56,
          "metadata": {},
          "output_type": "execute_result"
        }
      ],
      "source": [
        "#accessing the element from a list\n",
        "a[1]"
      ]
    },
    {
      "cell_type": "code",
      "execution_count": null,
      "metadata": {
        "id": "bN8QhbyszlIu",
        "outputId": "e0ed212b-5bf5-4cb5-d896-7d9ecd57f8c5"
      },
      "outputs": [
        {
          "data": {
            "text/plain": [
              "9"
            ]
          },
          "execution_count": 47,
          "metadata": {},
          "output_type": "execute_result"
        }
      ],
      "source": [
        "# to check total no. of elements in the list\n",
        "len(a)"
      ]
    },
    {
      "cell_type": "code",
      "execution_count": null,
      "metadata": {
        "id": "r6h15_IXzlIu",
        "outputId": "d7170869-9773-42a9-d350-5f2014f68359"
      },
      "outputs": [
        {
          "data": {
            "text/plain": [
              "[True, 12.7, 123, 'strings', (1, 4, 5)]"
            ]
          },
          "execution_count": 39,
          "metadata": {},
          "output_type": "execute_result"
        }
      ],
      "source": [
        "b"
      ]
    },
    {
      "cell_type": "code",
      "execution_count": null,
      "metadata": {
        "id": "_h4RYSXtzlIu"
      },
      "outputs": [],
      "source": [
        "#adding an element in the list at last index\n",
        "a.append(433)"
      ]
    },
    {
      "cell_type": "code",
      "execution_count": null,
      "metadata": {
        "id": "-aI6jsQ-zlIu"
      },
      "outputs": [],
      "source": [
        "#inserting an element in list at desired position\n",
        "a.insert(3,'yjf')"
      ]
    },
    {
      "cell_type": "code",
      "execution_count": null,
      "metadata": {
        "id": "kC9DAP90zlIu",
        "outputId": "b1d20a2b-5314-4575-c528-27bf8db4bf8c"
      },
      "outputs": [
        {
          "data": {
            "text/plain": [
              "11"
            ]
          },
          "execution_count": 63,
          "metadata": {},
          "output_type": "execute_result"
        }
      ],
      "source": [
        "# Finding the index of a specific element\n",
        "a.index(433)"
      ]
    },
    {
      "cell_type": "code",
      "execution_count": null,
      "metadata": {
        "id": "5FgLQgt4zlIv"
      },
      "outputs": [],
      "source": [
        "#Remove element from list\n",
        "a.remove(a[0])"
      ]
    },
    {
      "cell_type": "code",
      "execution_count": null,
      "metadata": {
        "id": "JRqxHq7GzlIv"
      },
      "outputs": [],
      "source": [
        "#creating tuples\n",
        "b = (123, False, 13.7, 'string1',(5,7))"
      ]
    },
    {
      "cell_type": "code",
      "execution_count": null,
      "metadata": {
        "id": "Hy7Ox7nAzlIw",
        "outputId": "b0727ca1-cf2d-4b18-e96a-57965ae9109c"
      },
      "outputs": [
        {
          "data": {
            "text/plain": [
              "tuple"
            ]
          },
          "execution_count": 24,
          "metadata": {},
          "output_type": "execute_result"
        }
      ],
      "source": [
        "type(b)"
      ]
    },
    {
      "cell_type": "code",
      "execution_count": null,
      "metadata": {
        "id": "FDL8NUMTzlIw"
      },
      "outputs": [],
      "source": []
    },
    {
      "cell_type": "code",
      "execution_count": null,
      "metadata": {
        "id": "S4wtkjckzlIw",
        "outputId": "e5471a11-c063-4690-a046-883be3e7a103"
      },
      "outputs": [
        {
          "data": {
            "text/plain": [
              "(123, False, 13.7, 'string1', (5, 7))"
            ]
          },
          "execution_count": 77,
          "metadata": {},
          "output_type": "execute_result"
        }
      ],
      "source": [
        "b"
      ]
    },
    {
      "cell_type": "code",
      "execution_count": null,
      "metadata": {
        "id": "yw5ae3iszlIw"
      },
      "outputs": [],
      "source": [
        "#created the Dictionary\n",
        "dict = {True:'one',2:'two', 'str':'three'}"
      ]
    },
    {
      "cell_type": "code",
      "execution_count": null,
      "metadata": {
        "id": "bIut7uwjzlIw",
        "outputId": "fdb7db91-a557-4838-bb63-6674daef0f85"
      },
      "outputs": [
        {
          "data": {
            "text/plain": [
              "dict"
            ]
          },
          "execution_count": 79,
          "metadata": {},
          "output_type": "execute_result"
        }
      ],
      "source": [
        "type(dict)"
      ]
    },
    {
      "cell_type": "code",
      "execution_count": null,
      "metadata": {
        "id": "19SuIRqDzlIx",
        "outputId": "2ab9b527-4202-4cfa-9a7a-f16df8da90f6"
      },
      "outputs": [
        {
          "data": {
            "text/plain": [
              "{True: 'one', 2: 'two', 'str': 'three'}"
            ]
          },
          "execution_count": 90,
          "metadata": {},
          "output_type": "execute_result"
        }
      ],
      "source": [
        "dict"
      ]
    },
    {
      "cell_type": "code",
      "execution_count": null,
      "metadata": {
        "id": "cyS0u3-jzlIx",
        "outputId": "9bda663c-64b6-4f55-f554-8db3285f4ea1"
      },
      "outputs": [
        {
          "data": {
            "text/plain": [
              "dict_keys([True, 2, 'str', 4])"
            ]
          },
          "execution_count": 97,
          "metadata": {},
          "output_type": "execute_result"
        }
      ],
      "source": [
        "dict.keys()"
      ]
    },
    {
      "cell_type": "code",
      "execution_count": null,
      "metadata": {
        "id": "71Ba8oC4zlIx",
        "outputId": "504b448c-b56a-4a6d-dde7-5fc431f208bd"
      },
      "outputs": [
        {
          "data": {
            "text/plain": [
              "dict_items([(True, 'one'), (2, 'two'), ('str', 'three')])"
            ]
          },
          "execution_count": 102,
          "metadata": {},
          "output_type": "execute_result"
        }
      ],
      "source": [
        "dict.items()"
      ]
    },
    {
      "cell_type": "code",
      "execution_count": null,
      "metadata": {
        "id": "_HVOaswlzlIx",
        "outputId": "de82839c-3577-45b5-a971-167262ec4db5"
      },
      "outputs": [
        {
          "data": {
            "text/plain": [
              "dict_values(['one', 'two', 'three', 'Four'])"
            ]
          },
          "execution_count": 100,
          "metadata": {},
          "output_type": "execute_result"
        }
      ],
      "source": [
        "dict.values()"
      ]
    },
    {
      "cell_type": "code",
      "execution_count": null,
      "metadata": {
        "id": "LyWy_A2EzlIy",
        "outputId": "86c2ffee-75dc-42a5-e316-b97e432f6eb8"
      },
      "outputs": [
        {
          "data": {
            "text/plain": [
              "'three'"
            ]
          },
          "execution_count": 99,
          "metadata": {},
          "output_type": "execute_result"
        }
      ],
      "source": [
        "dict.get('str')"
      ]
    },
    {
      "cell_type": "code",
      "execution_count": null,
      "metadata": {
        "id": "hd6Ra7WfzlIy"
      },
      "outputs": [],
      "source": [
        "#Adding key value into dict.\n",
        "dict[4] = 'Four'"
      ]
    },
    {
      "cell_type": "code",
      "execution_count": null,
      "metadata": {
        "id": "bnNcUChczlIy",
        "outputId": "bfbfc8c4-ae3e-4690-fe3c-1098504dc054"
      },
      "outputs": [
        {
          "data": {
            "text/plain": [
              "'Four'"
            ]
          },
          "execution_count": 101,
          "metadata": {},
          "output_type": "execute_result"
        }
      ],
      "source": [
        "# removing elements from Dict\n",
        "dict.pop(4)"
      ]
    },
    {
      "cell_type": "code",
      "execution_count": null,
      "metadata": {
        "id": "xON3_6HkzlIy",
        "outputId": "0f450962-0a58-4d91-c228-82be28ab42bf"
      },
      "outputs": [
        {
          "data": {
            "text/plain": [
              "('str', 'three')"
            ]
          },
          "execution_count": 103,
          "metadata": {},
          "output_type": "execute_result"
        }
      ],
      "source": [
        "dict.popitem()"
      ]
    },
    {
      "cell_type": "code",
      "execution_count": null,
      "metadata": {
        "id": "cwj_1JRLzlIz"
      },
      "outputs": [],
      "source": [
        "#syntax to import complete library\n",
        "import numpy as np"
      ]
    },
    {
      "cell_type": "code",
      "execution_count": null,
      "metadata": {
        "id": "SrRyS3jQzlIz"
      },
      "outputs": [],
      "source": [
        "numpy.array()\n",
        "sd.array()"
      ]
    },
    {
      "cell_type": "markdown",
      "metadata": {
        "id": "Ed1bpyAMzlI0"
      },
      "source": [
        "Numpy - Numerical python \n",
        "\n",
        "Array - 1 Darray\n",
        "      - 2 Darray\n",
        "      - Multi Darray"
      ]
    },
    {
      "cell_type": "code",
      "execution_count": null,
      "metadata": {
        "id": "6ntrPx_5zlI0"
      },
      "outputs": [],
      "source": [
        "#Creat\n",
        "abb = np.array([1,True, 34.5, 'fdg'])"
      ]
    }
  ],
  "metadata": {
    "kernelspec": {
      "display_name": "Python 3",
      "language": "python",
      "name": "python3"
    },
    "language_info": {
      "codemirror_mode": {
        "name": "ipython",
        "version": 3
      },
      "file_extension": ".py",
      "mimetype": "text/x-python",
      "name": "python",
      "nbconvert_exporter": "python",
      "pygments_lexer": "ipython3",
      "version": "3.7.6"
    },
    "colab": {
      "provenance": [],
      "include_colab_link": true
    }
  },
  "nbformat": 4,
  "nbformat_minor": 0
}