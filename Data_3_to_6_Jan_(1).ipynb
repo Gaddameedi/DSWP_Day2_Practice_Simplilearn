{
  "cells": [
    {
      "cell_type": "markdown",
      "metadata": {
        "id": "view-in-github",
        "colab_type": "text"
      },
      "source": [
        "<a href=\"https://colab.research.google.com/github/Gaddameedi/DSWP_Day2_Practice_Simplilearn/blob/main/Data_3_to_6_Jan_(1).ipynb\" target=\"_parent\"><img src=\"https://colab.research.google.com/assets/colab-badge.svg\" alt=\"Open In Colab\"/></a>"
      ]
    },
    {
      "cell_type": "markdown",
      "metadata": {
        "id": "hmVuyKYBhGbw"
      },
      "source": [
        "Data Science - Data + Science.\n",
        "Machine learning - Training the machines to take intelligent decision as we are taking. \n",
        "\n",
        "\n",
        "Data\n",
        "- Structured \n",
        "- Unstructured\n",
        "- Semi Structured Data\n",
        "\n",
        "Science\n",
        "- Stats - Descriptive stats, Infrential Stats\n",
        "- Matehmatical models\n",
        "- Visualization"
      ]
    },
    {
      "cell_type": "markdown",
      "metadata": {
        "id": "dnKWVWGOhGb6"
      },
      "source": [
        "Data science use cases\n",
        "1. For any Buisness problem\n",
        "2. Classification of mail\n",
        "3. Fraud Detection\n",
        "4. Recommendation Enginer\n",
        "5. Auto complete sentence\n",
        "6. Predictive Analysis\n",
        "7. Stock price prediction\n",
        "8. House price prediction\n",
        "9. Weather Prediction"
      ]
    },
    {
      "cell_type": "code",
      "execution_count": null,
      "metadata": {
        "id": "-Kmxp-XOhGb7"
      },
      "outputs": [],
      "source": [
        "Data scientist Lifecycle\n",
        "\n",
        "1. Collecting Data\n",
        "2. Understanding buisness problem\n",
        "3. Data cleaning  (Duplicate data, Wrong Entry, null values, Outliers)\n",
        "4. Data Exploration (EDA) Explorartory Data Analysis\n",
        "5. Data Visualization (Bar graph, Histogram, Scatter plot, Line graph, Heatmap)\n",
        "6. Data Manipulation\n",
        "7. Scaling, PCA  (Scaling - Min max scaling, StandardScaler)(Principal component analysis)\n",
        "8. Splitting the data (Training data, Testing data)\n",
        "9. Training the model\n",
        "10. Getting prediction from model\n",
        "\n",
        "\n"
      ]
    },
    {
      "cell_type": "code",
      "execution_count": null,
      "metadata": {
        "id": "3xe_WEYWhGb-"
      },
      "outputs": [],
      "source": [
        "Python\n",
        "1.Easy to learn\n",
        "2. Large no. of libraries\n",
        "3. open source\n",
        "4. large coummunity\n"
      ]
    },
    {
      "cell_type": "code",
      "execution_count": null,
      "metadata": {
        "id": "87xULi5vhGb_"
      },
      "outputs": [],
      "source": [
        "Library - It is a bundle of function that can call for your use \n",
        "by provided some keywords that are specified to these functions. "
      ]
    },
    {
      "cell_type": "markdown",
      "metadata": {
        "id": "AI75P9JAhGb_"
      },
      "source": [
        "1. Numpy - Numerical Python\n",
        "2. Pandas - Reading writing files, Manipualtion\n",
        "3. Matplotlib - Data visualization\n",
        "4. Seaborn -Data visualization\n",
        "5. Scikit-learn - Machine learning\n",
        "\n"
      ]
    },
    {
      "cell_type": "code",
      "execution_count": null,
      "metadata": {
        "id": "9gysk7MEhGcA",
        "outputId": "9d961346-6bbc-4954-816f-8a57e12d2700"
      },
      "outputs": [
        {
          "data": {
            "text/plain": [
              "5"
            ]
          },
          "execution_count": 2,
          "metadata": {},
          "output_type": "execute_result"
        }
      ],
      "source": [
        "#Python\n",
        "#Adding two numbers\n",
        "3+2"
      ]
    },
    {
      "cell_type": "code",
      "execution_count": null,
      "metadata": {
        "id": "gR5duFD-hGcB",
        "outputId": "3f375904-afa9-4194-ec25-df854cc4e570"
      },
      "outputs": [
        {
          "data": {
            "text/plain": [
              "2025"
            ]
          },
          "execution_count": 3,
          "metadata": {},
          "output_type": "execute_result"
        }
      ],
      "source": [
        "#Adding  numbers\n",
        "45*45"
      ]
    },
    {
      "cell_type": "code",
      "execution_count": null,
      "metadata": {
        "id": "M230QoashGcC",
        "outputId": "93f6d171-bd65-4220-e97a-63c83a4f726d"
      },
      "outputs": [
        {
          "data": {
            "text/plain": [
              "3322"
            ]
          },
          "execution_count": 4,
          "metadata": {},
          "output_type": "execute_result"
        }
      ],
      "source": [
        "3456-134"
      ]
    },
    {
      "cell_type": "code",
      "execution_count": null,
      "metadata": {
        "id": "G5HFdXSlhGcD",
        "outputId": "8d18d499-1f92-4ad3-ad87-4bf638aa8c30"
      },
      "outputs": [
        {
          "data": {
            "text/plain": [
              "1152.0"
            ]
          },
          "execution_count": 5,
          "metadata": {},
          "output_type": "execute_result"
        }
      ],
      "source": [
        "3456/3"
      ]
    },
    {
      "cell_type": "code",
      "execution_count": null,
      "metadata": {
        "id": "3jZrReZ7hGcE",
        "outputId": "1ab37e3f-8fff-472b-fad7-684daff17e04"
      },
      "outputs": [
        {
          "data": {
            "text/plain": [
              "19"
            ]
          },
          "execution_count": 6,
          "metadata": {},
          "output_type": "execute_result"
        }
      ],
      "source": [
        "2245%21"
      ]
    },
    {
      "cell_type": "code",
      "execution_count": null,
      "metadata": {
        "id": "SWG3g7rqhGcE",
        "outputId": "674f05d0-a6c1-4a86-a851-9ecb6138761e"
      },
      "outputs": [
        {
          "data": {
            "text/plain": [
              "193.5"
            ]
          },
          "execution_count": 5,
          "metadata": {},
          "output_type": "execute_result"
        }
      ],
      "source": [
        "193 #Integer\n",
        "'abc' #String\n",
        "True, False #boolean\n",
        "193.5 #float\n"
      ]
    },
    {
      "cell_type": "code",
      "execution_count": null,
      "metadata": {
        "id": "6jXoxRCPhGcE"
      },
      "outputs": [],
      "source": [
        "a = 5"
      ]
    },
    {
      "cell_type": "code",
      "execution_count": null,
      "metadata": {
        "id": "0AZyw_uNhGcF",
        "outputId": "e51ddb2a-8752-4c86-8f3b-a6e34dab2b31"
      },
      "outputs": [
        {
          "data": {
            "text/plain": [
              "int"
            ]
          },
          "execution_count": 4,
          "metadata": {},
          "output_type": "execute_result"
        }
      ],
      "source": [
        "type(a)"
      ]
    },
    {
      "cell_type": "code",
      "execution_count": null,
      "metadata": {
        "id": "I9IrPpeNhGcF"
      },
      "outputs": [],
      "source": [
        "b =193.5"
      ]
    },
    {
      "cell_type": "code",
      "execution_count": null,
      "metadata": {
        "id": "T44K5wrbhGcG",
        "outputId": "12476f24-86e2-4784-b66f-4cfedf7ef0b2"
      },
      "outputs": [
        {
          "data": {
            "text/plain": [
              "float"
            ]
          },
          "execution_count": 7,
          "metadata": {},
          "output_type": "execute_result"
        }
      ],
      "source": [
        "type(b)"
      ]
    },
    {
      "cell_type": "code",
      "execution_count": null,
      "metadata": {
        "id": "Zkz7dOTahGcG"
      },
      "outputs": [],
      "source": [
        "c = True"
      ]
    },
    {
      "cell_type": "code",
      "execution_count": null,
      "metadata": {
        "id": "KjJ70-UxhGcG",
        "outputId": "1def6a61-bc58-45b4-88a5-992c2fefff82"
      },
      "outputs": [
        {
          "data": {
            "text/plain": [
              "bool"
            ]
          },
          "execution_count": 9,
          "metadata": {},
          "output_type": "execute_result"
        }
      ],
      "source": [
        "type(c)"
      ]
    },
    {
      "cell_type": "code",
      "execution_count": null,
      "metadata": {
        "id": "_TOln7gHhGcH"
      },
      "outputs": [],
      "source": [
        "d = 'abc'"
      ]
    },
    {
      "cell_type": "code",
      "execution_count": null,
      "metadata": {
        "id": "iwXK-IKhhGcI",
        "outputId": "d2dea96b-2fdd-4df0-f389-15c2eb97fb39"
      },
      "outputs": [
        {
          "data": {
            "text/plain": [
              "str"
            ]
          },
          "execution_count": 11,
          "metadata": {},
          "output_type": "execute_result"
        }
      ],
      "source": [
        "type(d)"
      ]
    },
    {
      "cell_type": "code",
      "execution_count": null,
      "metadata": {
        "id": "ChBXZxgEhGcJ"
      },
      "outputs": [],
      "source": [
        "a = 45\n",
        "b =35"
      ]
    },
    {
      "cell_type": "code",
      "execution_count": null,
      "metadata": {
        "id": "IN6CR951hGcJ",
        "outputId": "70035366-20bd-4500-c41c-f895393425e1"
      },
      "outputs": [
        {
          "data": {
            "text/plain": [
              "False"
            ]
          },
          "execution_count": 14,
          "metadata": {},
          "output_type": "execute_result"
        }
      ],
      "source": [
        "a<=b"
      ]
    },
    {
      "cell_type": "code",
      "execution_count": null,
      "metadata": {
        "id": "kd5xA35xhGcK",
        "outputId": "ebbe9c63-0463-4496-eff3-23916679295f"
      },
      "outputs": [
        {
          "data": {
            "text/plain": [
              "True"
            ]
          },
          "execution_count": 15,
          "metadata": {},
          "output_type": "execute_result"
        }
      ],
      "source": [
        "a>=b"
      ]
    },
    {
      "cell_type": "code",
      "execution_count": null,
      "metadata": {
        "id": "Sg2l1yGzhGcK",
        "outputId": "cef141b0-8609-407b-9fc4-6cb20c93552b"
      },
      "outputs": [
        {
          "data": {
            "text/plain": [
              "False"
            ]
          },
          "execution_count": 16,
          "metadata": {},
          "output_type": "execute_result"
        }
      ],
      "source": [
        "a==b"
      ]
    },
    {
      "cell_type": "code",
      "execution_count": null,
      "metadata": {
        "id": "EbkTTBixhGcL",
        "outputId": "fb4d4fa8-3029-4214-e1ea-21917182b057"
      },
      "outputs": [
        {
          "data": {
            "text/plain": [
              "True"
            ]
          },
          "execution_count": 17,
          "metadata": {},
          "output_type": "execute_result"
        }
      ],
      "source": [
        "a!=b"
      ]
    },
    {
      "cell_type": "code",
      "execution_count": null,
      "metadata": {
        "id": "ke8p84RnhGcL",
        "outputId": "6e787ad2-2877-4b6d-8124-e42fcf3d215b"
      },
      "outputs": [
        {
          "data": {
            "text/plain": [
              "False"
            ]
          },
          "execution_count": 20,
          "metadata": {},
          "output_type": "execute_result"
        }
      ],
      "source": [
        "a =23\n",
        "b =12\n",
        "#a = b\n",
        "a==b"
      ]
    },
    {
      "cell_type": "markdown",
      "metadata": {
        "id": "hA5AiORFhGcL"
      },
      "source": [
        "Data Structures in Python\n",
        "1. List\n",
        "2. Tuple\n",
        "3. Dict\n"
      ]
    },
    {
      "cell_type": "code",
      "execution_count": null,
      "metadata": {
        "id": "2yz2nzIvhGcM"
      },
      "outputs": [],
      "source": [
        "#creating a list with 4 different data types\n",
        "a = [123,23, True, 12.7,123, 'strings',(1,4,5)]"
      ]
    },
    {
      "cell_type": "code",
      "execution_count": null,
      "metadata": {
        "id": "F5xYUlywhGcM",
        "outputId": "5054ed74-f7a1-43f4-9668-536ab90edff0"
      },
      "outputs": [
        {
          "data": {
            "text/plain": [
              "list"
            ]
          },
          "execution_count": 28,
          "metadata": {},
          "output_type": "execute_result"
        }
      ],
      "source": [
        "#Checking type of a variable\n",
        "type(a)"
      ]
    },
    {
      "cell_type": "code",
      "execution_count": null,
      "metadata": {
        "id": "189atVbjhGcM",
        "outputId": "b0177c98-d59e-48b8-ba96-8524b43e39e2"
      },
      "outputs": [
        {
          "data": {
            "text/plain": [
              "[23, True, [5, 6], 5, 12.7, 123, 'strings']"
            ]
          },
          "execution_count": 75,
          "metadata": {},
          "output_type": "execute_result"
        }
      ],
      "source": [
        "a"
      ]
    },
    {
      "cell_type": "code",
      "execution_count": null,
      "metadata": {
        "id": "XEectkAthGcN",
        "outputId": "1b4808fe-5a08-44c4-b788-8f42d6f718ae"
      },
      "outputs": [
        {
          "data": {
            "text/plain": [
              "23"
            ]
          },
          "execution_count": 56,
          "metadata": {},
          "output_type": "execute_result"
        }
      ],
      "source": [
        "#accessing the element from a list\n",
        "a[1]"
      ]
    },
    {
      "cell_type": "code",
      "execution_count": null,
      "metadata": {
        "id": "t-cI1qtnhGcN",
        "outputId": "1016de35-8b9a-41ef-fa53-3a689ca54a26"
      },
      "outputs": [
        {
          "data": {
            "text/plain": [
              "9"
            ]
          },
          "execution_count": 47,
          "metadata": {},
          "output_type": "execute_result"
        }
      ],
      "source": [
        "# to check total no. of elements in the list\n",
        "len(a)"
      ]
    },
    {
      "cell_type": "code",
      "execution_count": null,
      "metadata": {
        "id": "dkTpdXvBhGcN",
        "outputId": "42963806-f912-4f46-de43-f9a59ebb2c7a"
      },
      "outputs": [
        {
          "data": {
            "text/plain": [
              "[True, 12.7, 123, 'strings', (1, 4, 5)]"
            ]
          },
          "execution_count": 39,
          "metadata": {},
          "output_type": "execute_result"
        }
      ],
      "source": [
        "b"
      ]
    },
    {
      "cell_type": "code",
      "execution_count": null,
      "metadata": {
        "id": "f6nXUizPhGcN"
      },
      "outputs": [],
      "source": [
        "#adding an element in the list at last index\n",
        "a.append(433)"
      ]
    },
    {
      "cell_type": "code",
      "execution_count": null,
      "metadata": {
        "id": "pI9Cs-yjhGcO"
      },
      "outputs": [],
      "source": [
        "#inserting an element in list at desired position\n",
        "a.insert(3,'yjf')"
      ]
    },
    {
      "cell_type": "code",
      "execution_count": null,
      "metadata": {
        "id": "rjB-PDKDhGcO",
        "outputId": "77e64ebf-4024-476d-e152-4a9eb8e2aa41"
      },
      "outputs": [
        {
          "data": {
            "text/plain": [
              "11"
            ]
          },
          "execution_count": 63,
          "metadata": {},
          "output_type": "execute_result"
        }
      ],
      "source": [
        "# Finding the index of a specific element\n",
        "a.index(433)"
      ]
    },
    {
      "cell_type": "code",
      "execution_count": null,
      "metadata": {
        "id": "7hBC8_UuhGcO"
      },
      "outputs": [],
      "source": [
        "#Remove element from list\n",
        "a.remove(a[0])"
      ]
    },
    {
      "cell_type": "code",
      "execution_count": null,
      "metadata": {
        "id": "m5pHMaXrhGcP"
      },
      "outputs": [],
      "source": [
        "#creating tuples\n",
        "b = (123, False, 13.7, 'string1',(5,7))"
      ]
    },
    {
      "cell_type": "code",
      "execution_count": null,
      "metadata": {
        "id": "1v1R3UafhGcP",
        "outputId": "35fd6e9d-7fc9-451d-ac15-dbe01c544b8a"
      },
      "outputs": [
        {
          "data": {
            "text/plain": [
              "tuple"
            ]
          },
          "execution_count": 24,
          "metadata": {},
          "output_type": "execute_result"
        }
      ],
      "source": [
        "type(b)"
      ]
    },
    {
      "cell_type": "code",
      "execution_count": null,
      "metadata": {
        "id": "QcaWnMZ_hGcP"
      },
      "outputs": [],
      "source": []
    },
    {
      "cell_type": "code",
      "execution_count": null,
      "metadata": {
        "id": "fYGgNyY0hGcP",
        "outputId": "c3f57886-9a57-4db1-dbdb-3a9099cf7d96"
      },
      "outputs": [
        {
          "data": {
            "text/plain": [
              "(123, False, 13.7, 'string1', (5, 7))"
            ]
          },
          "execution_count": 77,
          "metadata": {},
          "output_type": "execute_result"
        }
      ],
      "source": [
        "b"
      ]
    },
    {
      "cell_type": "code",
      "execution_count": null,
      "metadata": {
        "id": "thiwxRKqhGcQ"
      },
      "outputs": [],
      "source": [
        "#created the Dictionary\n",
        "dict = {True:'one',2:'two', 'str':'three'}"
      ]
    },
    {
      "cell_type": "code",
      "execution_count": null,
      "metadata": {
        "id": "lQf_DdyXhGcQ",
        "outputId": "ef4d8757-a7f5-479f-c1ed-c004ee18a461"
      },
      "outputs": [
        {
          "data": {
            "text/plain": [
              "dict"
            ]
          },
          "execution_count": 2,
          "metadata": {},
          "output_type": "execute_result"
        }
      ],
      "source": [
        "type(dict)"
      ]
    },
    {
      "cell_type": "code",
      "execution_count": null,
      "metadata": {
        "id": "23B2VVM0hGcQ",
        "outputId": "9cac9803-ea6d-4c82-8381-a212c4b4e29c"
      },
      "outputs": [
        {
          "data": {
            "text/plain": [
              "{True: 'one', 2: 'two', 'str': 'three'}"
            ]
          },
          "execution_count": 12,
          "metadata": {},
          "output_type": "execute_result"
        }
      ],
      "source": [
        "dict"
      ]
    },
    {
      "cell_type": "code",
      "execution_count": null,
      "metadata": {
        "id": "awx4kIS-hGcR",
        "outputId": "30034645-ef9a-4a4d-8354-fa252db32e63"
      },
      "outputs": [
        {
          "data": {
            "text/plain": [
              "dict_keys([True, 2, 'str'])"
            ]
          },
          "execution_count": 4,
          "metadata": {},
          "output_type": "execute_result"
        }
      ],
      "source": [
        "#Printing all the keys present in dict\n",
        "dict.keys()"
      ]
    },
    {
      "cell_type": "code",
      "execution_count": null,
      "metadata": {
        "id": "icLylZQchGcR",
        "outputId": "6b6b2488-9528-45e7-a3d6-6f13f7f7a5ef"
      },
      "outputs": [
        {
          "data": {
            "text/plain": [
              "dict_items([(True, 'one'), (2, 'two'), ('str', 'three')])"
            ]
          },
          "execution_count": 102,
          "metadata": {},
          "output_type": "execute_result"
        }
      ],
      "source": [
        "#Printing all the key values present in dict in the form of tuples\n",
        "dict.items()"
      ]
    },
    {
      "cell_type": "code",
      "execution_count": null,
      "metadata": {
        "id": "dalyF-VXhGcR",
        "outputId": "390a1ba4-95c3-4d86-adff-39607b76d741"
      },
      "outputs": [
        {
          "data": {
            "text/plain": [
              "dict_values(['one', 'two', 'three'])"
            ]
          },
          "execution_count": 7,
          "metadata": {},
          "output_type": "execute_result"
        }
      ],
      "source": [
        "#printing all the values of all keys in dict\n",
        "dict.values()"
      ]
    },
    {
      "cell_type": "code",
      "execution_count": null,
      "metadata": {
        "id": "VvRKqPpphGcS",
        "outputId": "bf4b62d2-d4c5-4334-81c0-2d5b82e18138"
      },
      "outputs": [
        {
          "data": {
            "text/plain": [
              "'two'"
            ]
          },
          "execution_count": 6,
          "metadata": {},
          "output_type": "execute_result"
        }
      ],
      "source": [
        "#accessing the value of list by giving key name \n",
        "dict.get(2)"
      ]
    },
    {
      "cell_type": "code",
      "execution_count": null,
      "metadata": {
        "id": "Bbmi6pmahGcS"
      },
      "outputs": [],
      "source": [
        "#Adding key value into dict.\n",
        "dict[4] = 'Four'"
      ]
    },
    {
      "cell_type": "code",
      "execution_count": null,
      "metadata": {
        "id": "k21A6tNihGcS",
        "outputId": "af28c843-3064-4fcb-b8e7-95ac7755d5b4"
      },
      "outputs": [
        {
          "data": {
            "text/plain": [
              "'Four'"
            ]
          },
          "execution_count": 101,
          "metadata": {},
          "output_type": "execute_result"
        }
      ],
      "source": [
        "# removing elements from Dict\n",
        "dict.pop(4)"
      ]
    },
    {
      "cell_type": "code",
      "execution_count": null,
      "metadata": {
        "id": "Z5tjzDvohGcS",
        "outputId": "838f4c88-d4d3-4a2b-a39b-ab24a26c94f4"
      },
      "outputs": [
        {
          "data": {
            "text/plain": [
              "(4, 'Four')"
            ]
          },
          "execution_count": 11,
          "metadata": {},
          "output_type": "execute_result"
        }
      ],
      "source": [
        "#removing the key value pair from dict\n",
        "dict.popitem()"
      ]
    },
    {
      "cell_type": "code",
      "execution_count": null,
      "metadata": {
        "id": "PHhf-xT7hGcT"
      },
      "outputs": [],
      "source": [
        "#syntax to import complete library\n",
        "import numpy as np"
      ]
    },
    {
      "cell_type": "code",
      "execution_count": null,
      "metadata": {
        "id": "9CsbRI82hGcT",
        "outputId": "b0c8efa1-0b27-4352-fba0-642a82b4b661"
      },
      "outputs": [
        {
          "data": {
            "text/plain": [
              "11.180339887498949"
            ]
          },
          "execution_count": 15,
          "metadata": {},
          "output_type": "execute_result"
        }
      ],
      "source": [
        "np.sqrt(125)"
      ]
    },
    {
      "cell_type": "markdown",
      "metadata": {
        "id": "49XUKNt6hGcT"
      },
      "source": [
        "Numpy - Numerical python \n",
        "\n",
        "Array - 1 Darray\n",
        "      - 2 Darray\n",
        "      - Multi Darray\n",
        "      \n",
        "why we use array\n",
        "It can mathematical operations\n",
        "Arrays are fast as compared to list\n",
        "It has multidimension.\n",
        "Mutable in nature\n",
        "More functionality as compared to lists"
      ]
    },
    {
      "cell_type": "code",
      "execution_count": null,
      "metadata": {
        "id": "R0jpmpELhGcT"
      },
      "outputs": [],
      "source": [
        "#Creating Array\n",
        "abb = np.array([1,True, 34.5, 'fdg'])"
      ]
    },
    {
      "cell_type": "code",
      "execution_count": null,
      "metadata": {
        "id": "O3-C5oPjhGcU",
        "outputId": "66c89854-7160-4fbb-bfad-ebb34e3749d3"
      },
      "outputs": [
        {
          "data": {
            "text/plain": [
              "numpy.ndarray"
            ]
          },
          "execution_count": 17,
          "metadata": {},
          "output_type": "execute_result"
        }
      ],
      "source": [
        "type(abb)"
      ]
    },
    {
      "cell_type": "code",
      "execution_count": null,
      "metadata": {
        "id": "j1KlfV9EhGcU"
      },
      "outputs": [],
      "source": [
        "#creating a zero array\n",
        "zero= np.zeros(4)"
      ]
    },
    {
      "cell_type": "code",
      "execution_count": null,
      "metadata": {
        "id": "pTvXEIIPhGcU"
      },
      "outputs": [],
      "source": [
        "#creating all ones array\n",
        "ones = np.ones(5)"
      ]
    },
    {
      "cell_type": "code",
      "execution_count": null,
      "metadata": {
        "id": "mnCqLfsYhGcV",
        "outputId": "c6c2152a-6bce-4194-9fd8-4fd5c10d2453"
      },
      "outputs": [
        {
          "data": {
            "text/plain": [
              "array([ 0,  1,  2,  3,  4,  5,  6,  7,  8,  9, 10, 11, 12, 13, 14, 15, 16,\n",
              "       17, 18, 19, 20, 21, 22, 23, 24, 25, 26, 27, 28, 29, 30, 31, 32, 33,\n",
              "       34, 35, 36, 37, 38, 39, 40, 41, 42, 43, 44, 45, 46, 47, 48, 49, 50,\n",
              "       51, 52, 53, 54, 55, 56, 57, 58, 59, 60, 61, 62, 63, 64, 65, 66, 67,\n",
              "       68, 69, 70, 71, 72, 73, 74, 75, 76, 77, 78, 79, 80, 81, 82, 83, 84,\n",
              "       85, 86, 87, 88, 89, 90, 91, 92, 93, 94, 95, 96, 97, 98, 99])"
            ]
          },
          "execution_count": 10,
          "metadata": {},
          "output_type": "execute_result"
        }
      ],
      "source": [
        "#creating array by giving no. of elements\n",
        "np.arange(100)"
      ]
    },
    {
      "cell_type": "code",
      "execution_count": null,
      "metadata": {
        "id": "wBocGhPAhGcW"
      },
      "outputs": [],
      "source": [
        "#creating 1 d array by providing start\n",
        "\n",
        "rew= np.linspace(1,50,10)"
      ]
    },
    {
      "cell_type": "code",
      "execution_count": null,
      "metadata": {
        "id": "NEtushr6hGcW",
        "outputId": "ecec86e6-3272-4d3f-d7db-f625625f0e4c"
      },
      "outputs": [
        {
          "data": {
            "text/plain": [
              "10"
            ]
          },
          "execution_count": 19,
          "metadata": {},
          "output_type": "execute_result"
        }
      ],
      "source": [
        "len(rew)"
      ]
    },
    {
      "cell_type": "code",
      "execution_count": null,
      "metadata": {
        "id": "PjsKOQaChGcX",
        "outputId": "0d0bdf0c-58db-47af-9928-b5fa37b8cfe3"
      },
      "outputs": [
        {
          "data": {
            "text/plain": [
              "1"
            ]
          },
          "execution_count": 22,
          "metadata": {},
          "output_type": "execute_result"
        }
      ],
      "source": [
        "rew.ndim"
      ]
    },
    {
      "cell_type": "code",
      "execution_count": null,
      "metadata": {
        "id": "seuPQjdjhGcX"
      },
      "outputs": [],
      "source": [
        "abc = np.array([4,5,7,9])\n",
        "dsc = np.array([5,9,8,2])"
      ]
    },
    {
      "cell_type": "code",
      "execution_count": null,
      "metadata": {
        "id": "63iPT04ShGcX",
        "outputId": "9534926f-3be1-4418-e18e-a8c2e762705e"
      },
      "outputs": [
        {
          "data": {
            "text/plain": [
              "array([ 9, 14, 15, 11])"
            ]
          },
          "execution_count": 30,
          "metadata": {},
          "output_type": "execute_result"
        }
      ],
      "source": [
        "abc+dsc"
      ]
    },
    {
      "cell_type": "code",
      "execution_count": null,
      "metadata": {
        "id": "AbPvykdYhGcY",
        "outputId": "6201774a-5978-4a64-ee1d-a4d69f98e256"
      },
      "outputs": [
        {
          "data": {
            "text/plain": [
              "array([1., 1., 1., 1., 1.])"
            ]
          },
          "execution_count": 6,
          "metadata": {},
          "output_type": "execute_result"
        }
      ],
      "source": [
        "ones"
      ]
    },
    {
      "cell_type": "code",
      "execution_count": null,
      "metadata": {
        "id": "k7skqTRihGcY",
        "outputId": "3316b883-0879-4e38-843f-06b6711aa522"
      },
      "outputs": [
        {
          "data": {
            "text/plain": [
              "array([0., 0., 0., 0.])"
            ]
          },
          "execution_count": 3,
          "metadata": {},
          "output_type": "execute_result"
        }
      ],
      "source": [
        "zero"
      ]
    },
    {
      "cell_type": "code",
      "execution_count": null,
      "metadata": {
        "id": "hRSD6FE7hGcY"
      },
      "outputs": [],
      "source": [
        "#creating a 2d array\n",
        "inn = np.array([[3,5,6,7],[6,7,9,0]])"
      ]
    },
    {
      "cell_type": "code",
      "execution_count": null,
      "metadata": {
        "id": "epNyfS3thGcY",
        "outputId": "13611ce2-1bcf-4076-e4d4-157ae3a8c94e"
      },
      "outputs": [
        {
          "data": {
            "text/plain": [
              "numpy.ndarray"
            ]
          },
          "execution_count": 32,
          "metadata": {},
          "output_type": "execute_result"
        }
      ],
      "source": [
        "type(inn)"
      ]
    },
    {
      "cell_type": "code",
      "execution_count": null,
      "metadata": {
        "id": "qVRCdRbWhGcZ",
        "outputId": "fc4e5001-9cac-4ebd-ce61-1d62213e9bb6"
      },
      "outputs": [
        {
          "data": {
            "text/plain": [
              "2"
            ]
          },
          "execution_count": 33,
          "metadata": {},
          "output_type": "execute_result"
        }
      ],
      "source": [
        "len(inn)"
      ]
    },
    {
      "cell_type": "code",
      "execution_count": null,
      "metadata": {
        "id": "YkZgnz8ChGcZ",
        "outputId": "afd5e9e4-5256-4f26-dfff-3099c790f97a"
      },
      "outputs": [
        {
          "data": {
            "text/plain": [
              "2"
            ]
          },
          "execution_count": 34,
          "metadata": {},
          "output_type": "execute_result"
        }
      ],
      "source": [
        "inn.ndim"
      ]
    },
    {
      "cell_type": "code",
      "execution_count": null,
      "metadata": {
        "id": "imlnarZWhGca",
        "outputId": "fc844929-b0ae-4fd6-91dc-e6e28891d631"
      },
      "outputs": [
        {
          "data": {
            "text/plain": [
              "(6, 2)"
            ]
          },
          "execution_count": 55,
          "metadata": {},
          "output_type": "execute_result"
        }
      ],
      "source": [
        "ret.shape"
      ]
    },
    {
      "cell_type": "code",
      "execution_count": null,
      "metadata": {
        "id": "5haBljmPhGca"
      },
      "outputs": [],
      "source": [
        "ret = np.array([4,6,8,9,7,5,4,0,6,2,34,65])"
      ]
    },
    {
      "cell_type": "code",
      "execution_count": null,
      "metadata": {
        "id": "Dq25yfjOhGcb",
        "outputId": "89a4da81-a0e6-47f6-e45e-9bc41e4294eb"
      },
      "outputs": [
        {
          "data": {
            "text/plain": [
              "array([[ 4,  6,  8],\n",
              "       [ 9,  7,  5],\n",
              "       [ 4,  0,  6],\n",
              "       [ 2, 34, 65]])"
            ]
          },
          "execution_count": 52,
          "metadata": {},
          "output_type": "execute_result"
        }
      ],
      "source": [
        "#Converting 1d array to 2 d array\n",
        "ret = ret.reshape(4,3)"
      ]
    },
    {
      "cell_type": "code",
      "execution_count": null,
      "metadata": {
        "id": "_ns21ejehGcc"
      },
      "outputs": [],
      "source": [
        "#Converting 1d array to 2 d array\n",
        "ret.resize(3,4)"
      ]
    },
    {
      "cell_type": "code",
      "execution_count": null,
      "metadata": {
        "id": "NTwFO4TehGcc",
        "outputId": "202e83d6-a7b7-4c58-d318-2b31cc54a04d"
      },
      "outputs": [
        {
          "data": {
            "text/plain": [
              "array([[ 4,  6,  8,  9],\n",
              "       [ 7,  5,  4,  0],\n",
              "       [ 6,  2, 34, 65]])"
            ]
          },
          "execution_count": 58,
          "metadata": {},
          "output_type": "execute_result"
        }
      ],
      "source": [
        "ret"
      ]
    },
    {
      "cell_type": "code",
      "execution_count": null,
      "metadata": {
        "id": "lPvmvxK0hGcc"
      },
      "outputs": [],
      "source": []
    },
    {
      "cell_type": "code",
      "execution_count": null,
      "metadata": {
        "id": "t4yhnLPdhGcc"
      },
      "outputs": [],
      "source": [
        "#splitting array to given parts\n",
        "array1, array2,array3,array4 = np.hsplit(ret, 4)"
      ]
    },
    {
      "cell_type": "code",
      "execution_count": null,
      "metadata": {
        "id": "1TnvB9K8hGcd"
      },
      "outputs": [],
      "source": [
        "#creating 3d array\n",
        "wer = np.array([[[3,5,7],[5,8,7]],[[5,7,8],[6,9,0]]])"
      ]
    },
    {
      "cell_type": "code",
      "execution_count": null,
      "metadata": {
        "id": "ftcoB1wWhGcd",
        "outputId": "673d7597-c73c-4e82-f4b6-90866b0948ff"
      },
      "outputs": [
        {
          "data": {
            "text/plain": [
              "(2, 2, 3)"
            ]
          },
          "execution_count": 72,
          "metadata": {},
          "output_type": "execute_result"
        }
      ],
      "source": [
        "wer.shape"
      ]
    },
    {
      "cell_type": "code",
      "execution_count": null,
      "metadata": {
        "id": "tCGgAN1ShGcd",
        "outputId": "c699f203-5068-4873-88ed-252d4b7dc513"
      },
      "outputs": [
        {
          "data": {
            "text/plain": [
              "array([[[3, 5, 7],\n",
              "        [5, 8, 7]],\n",
              "\n",
              "       [[5, 7, 8],\n",
              "        [6, 9, 0]]])"
            ]
          },
          "execution_count": 73,
          "metadata": {},
          "output_type": "execute_result"
        }
      ],
      "source": [
        "wer"
      ]
    },
    {
      "cell_type": "code",
      "execution_count": null,
      "metadata": {
        "id": "9sqZR54QhGcd"
      },
      "outputs": [],
      "source": [
        "bed = np.array([3,5,8,7,9,6,8,5,4,3,7,9])"
      ]
    },
    {
      "cell_type": "code",
      "execution_count": null,
      "metadata": {
        "id": "Qr-cjZ3phGcd",
        "outputId": "d34cd4d6-047e-40ea-ab64-fd024cc410f9"
      },
      "outputs": [
        {
          "data": {
            "text/plain": [
              "12"
            ]
          },
          "execution_count": 77,
          "metadata": {},
          "output_type": "execute_result"
        }
      ],
      "source": [
        "len(bed)"
      ]
    },
    {
      "cell_type": "code",
      "execution_count": null,
      "metadata": {
        "id": "4pz-gou4hGce"
      },
      "outputs": [],
      "source": [
        "bed.resize(3,4)"
      ]
    },
    {
      "cell_type": "code",
      "execution_count": null,
      "metadata": {
        "id": "yYab7D0HhGce",
        "outputId": "e2afb05f-deec-441d-bbc3-8288febabdd4"
      },
      "outputs": [
        {
          "data": {
            "text/plain": [
              "array([[3, 5, 8, 7],\n",
              "       [9, 6, 8, 5],\n",
              "       [4, 3, 7, 9]])"
            ]
          },
          "execution_count": 97,
          "metadata": {},
          "output_type": "execute_result"
        }
      ],
      "source": [
        "bed"
      ]
    },
    {
      "cell_type": "code",
      "execution_count": null,
      "metadata": {
        "id": "l-ye8ClFhGce",
        "outputId": "616184c6-5131-48a7-c519-2d76ad947c27"
      },
      "outputs": [
        {
          "data": {
            "text/plain": [
              "(2, 3, 2)"
            ]
          },
          "execution_count": 82,
          "metadata": {},
          "output_type": "execute_result"
        }
      ],
      "source": [
        "bed.shape"
      ]
    },
    {
      "cell_type": "code",
      "execution_count": null,
      "metadata": {
        "id": "REgcSVBPhGce",
        "outputId": "7fc2efef-d9c9-4919-dc63-d8242ada8d87"
      },
      "outputs": [
        {
          "data": {
            "text/plain": [
              "5"
            ]
          },
          "execution_count": 94,
          "metadata": {},
          "output_type": "execute_result"
        }
      ],
      "source": [
        "#accessing elements of 1 d array\n",
        "bed[1][3]"
      ]
    },
    {
      "cell_type": "code",
      "execution_count": null,
      "metadata": {
        "id": "jsbkmMIrhGcf",
        "outputId": "4d693c7a-98aa-4fd3-aa13-c5102982d76a"
      },
      "outputs": [
        {
          "data": {
            "text/plain": [
              "array([[6, 8],\n",
              "       [3, 7]])"
            ]
          },
          "execution_count": 99,
          "metadata": {},
          "output_type": "execute_result"
        }
      ],
      "source": [
        "#accessing 2\n",
        "bed[1:3,1:3]"
      ]
    }
  ],
  "metadata": {
    "kernelspec": {
      "display_name": "Python 3",
      "language": "python",
      "name": "python3"
    },
    "language_info": {
      "codemirror_mode": {
        "name": "ipython",
        "version": 3
      },
      "file_extension": ".py",
      "mimetype": "text/x-python",
      "name": "python",
      "nbconvert_exporter": "python",
      "pygments_lexer": "ipython3",
      "version": "3.7.6"
    },
    "colab": {
      "provenance": [],
      "include_colab_link": true
    }
  },
  "nbformat": 4,
  "nbformat_minor": 0
}